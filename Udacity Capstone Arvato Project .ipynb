{
 "cells": [
  {
   "cell_type": "code",
   "execution_count": 166,
   "metadata": {},
   "outputs": [],
   "source": [
    "@hidden_cell\n",
    "# The project token is an authorization token that is used to access project resources like data sources, connections, and used by platform APIs.\n",
    "from project_lib import Project\n",
    "project = Project(project_id='73802bf4-4b54-454b-b2a7-80636124afd8', project_access_token='p-545c1bb477dc7b601c294c0a660e14a51fe423ee')\n",
    "pc = project.project_context\n"
   ]
  },
  {
   "cell_type": "markdown",
   "metadata": {},
   "source": [
    "# Capstone Project: Create a Customer Segmentation Report for Arvato Financial Services\n",
    "\n",
    "In this project, you will analyze demographics data for customers of a mail-order sales company in Germany, comparing it against demographics information for the general population. You'll use unsupervised learning techniques to perform customer segmentation, identifying the parts of the population that best describe the core customer base of the company. Then, you'll apply what you've learned on a third dataset with demographics information for targets of a marketing campaign for the company, and use a model to predict which individuals are most likely to convert into becoming customers for the company. The data that you will use has been provided by our partners at Bertelsmann Arvato Analytics, and represents a real-life data science task.\n",
    "\n",
    "If you completed the first term of this program, you will be familiar with the first part of this project, from the unsupervised learning project. The versions of those two datasets used in this project will include many more features and has not been pre-cleaned. You are also free to choose whatever approach you'd like to analyzing the data rather than follow pre-determined steps. In your work on this project, make sure that you carefully document your steps and decisions, since your main deliverable for this project will be a blog post reporting your findings."
   ]
  },
  {
   "cell_type": "code",
   "execution_count": 1,
   "metadata": {},
   "outputs": [],
   "source": [
    "# import libraries here; add more as necessary\n",
    "import numpy as np\n",
    "import pandas as pd\n",
    "import matplotlib.pyplot as plt\n",
    "import seaborn as sns\n",
    "\n",
    "# magic word for producing visualizations in notebook\n",
    "%matplotlib inline\n",
    "from sklearn.preprocessing import StandardScaler\n",
    "from sklearn.decomposition import PCA\n",
    "from sklearn.cluster import KMeans \n",
    "\n",
    "from scipy.stats import itemfreq, chisquare\n"
   ]
  },
  {
   "cell_type": "markdown",
   "metadata": {},
   "source": [
    "## Part 0: Get to Know the Data\n",
    "\n",
    "There are four data files associated with this project:\n",
    "\n",
    "- `Udacity_AZDIAS_052018.csv`: Demographics data for the general population of Germany; 891 211 persons (rows) x 366 features (columns).\n",
    "- `Udacity_CUSTOMERS_052018.csv`: Demographics data for customers of a mail-order company; 191 652 persons (rows) x 369 features (columns).\n",
    "- `Udacity_MAILOUT_052018_TRAIN.csv`: Demographics data for individuals who were targets of a marketing campaign; 42 982 persons (rows) x 367 (columns).\n",
    "- `Udacity_MAILOUT_052018_TEST.csv`: Demographics data for individuals who were targets of a marketing campaign; 42 833 persons (rows) x 366 (columns).\n",
    "\n",
    "Each row of the demographics files represents a single person, but also includes information outside of individuals, including information about their household, building, and neighborhood. Use the information from the first two files to figure out how customers (\"CUSTOMERS\") are similar to or differ from the general population at large (\"AZDIAS\"), then use your analysis to make predictions on the other two files (\"MAILOUT\"), predicting which recipients are most likely to become a customer for the mail-order company.\n",
    "\n",
    "The \"CUSTOMERS\" file contains three extra columns ('CUSTOMER_GROUP', 'ONLINE_PURCHASE', and 'PRODUCT_GROUP'), which provide broad information about the customers depicted in the file. The original \"MAILOUT\" file included one additional column, \"RESPONSE\", which indicated whether or not each recipient became a customer of the company. For the \"TRAIN\" subset, this column has been retained, but in the \"TEST\" subset it has been removed; it is against that withheld column that your final predictions will be assessed in the Kaggle competition.\n",
    "\n",
    "Otherwise, all of the remaining columns are the same between the three data files. For more information about the columns depicted in the files, you can refer to two Excel spreadsheets provided in the workspace. [One of them](./DIAS Information Levels - Attributes 2017.xlsx) is a top-level list of attributes and descriptions, organized by informational category. [The other](./DIAS Attributes - Values 2017.xlsx) is a detailed mapping of data values for each feature in alphabetical order.\n",
    "\n",
    "In the below cell, we've provided some initial code to load in the first two datasets. Note for all of the `.csv` data files in this project that they're semicolon (`;`) delimited, so an additional argument in the [`read_csv()`](https://pandas.pydata.org/pandas-docs/stable/generated/pandas.read_csv.html) call has been included to read in the data properly. Also, considering the size of the datasets, it may take some time for them to load completely.\n",
    "\n",
    "You'll notice when the data is loaded in that a warning message will immediately pop up. Before you really start digging into the modeling and analysis, you're going to need to perform some cleaning. Take some time to browse the structure of the data and look over the informational spreadsheets to understand the data values. Make some decisions on which features to keep, which features to drop, and if any revisions need to be made on data formats. It'll be a good idea to create a function with pre-processing steps, since you'll need to clean all of the datasets before you work with them."
   ]
  },
  {
   "cell_type": "code",
   "execution_count": 2,
   "metadata": {},
   "outputs": [],
   "source": [
    "# # load in the data\n",
    "# azdias = pd.read_csv('../../data/Term2/capstone/arvato_data/Udacity_AZDIAS_052018.csv', sep=';')\n",
    "# customers = pd.read_csv('../../data/Term2/capstone/arvato_data/Udacity_CUSTOMERS_052018.csv', sep=';')"
   ]
  },
  {
   "cell_type": "code",
   "execution_count": 3,
   "metadata": {},
   "outputs": [],
   "source": [
    "# # save data locally\n",
    "# azdias.to_csv('Udacity_AZDIAS.csv', sep=';', index=False)\n",
    "# customers.to_csv('Udacity_CUSTOMERS.csv', sep=';', index=False)\n"
   ]
  },
  {
   "cell_type": "code",
   "execution_count": 4,
   "metadata": {},
   "outputs": [
    {
     "name": "stderr",
     "output_type": "stream",
     "text": [
      "/opt/conda/envs/Python-3.6-CUDA/lib/python3.6/site-packages/IPython/core/interactiveshell.py:3063: DtypeWarning: Columns (18,19) have mixed types. Specify dtype option on import or set low_memory=False.\n",
      "  interactivity=interactivity, compiler=compiler, result=result)\n"
     ]
    },
    {
     "data": {
      "text/html": [
       "<div>\n",
       "<style scoped>\n",
       "    .dataframe tbody tr th:only-of-type {\n",
       "        vertical-align: middle;\n",
       "    }\n",
       "\n",
       "    .dataframe tbody tr th {\n",
       "        vertical-align: top;\n",
       "    }\n",
       "\n",
       "    .dataframe thead th {\n",
       "        text-align: right;\n",
       "    }\n",
       "</style>\n",
       "<table border=\"1\" class=\"dataframe\">\n",
       "  <thead>\n",
       "    <tr style=\"text-align: right;\">\n",
       "      <th></th>\n",
       "      <th>LNR</th>\n",
       "      <th>AGER_TYP</th>\n",
       "      <th>AKT_DAT_KL</th>\n",
       "      <th>ALTER_HH</th>\n",
       "      <th>ALTER_KIND1</th>\n",
       "      <th>ALTER_KIND2</th>\n",
       "      <th>ALTER_KIND3</th>\n",
       "      <th>ALTER_KIND4</th>\n",
       "      <th>ALTERSKATEGORIE_FEIN</th>\n",
       "      <th>ANZ_HAUSHALTE_AKTIV</th>\n",
       "      <th>...</th>\n",
       "      <th>VHN</th>\n",
       "      <th>VK_DHT4A</th>\n",
       "      <th>VK_DISTANZ</th>\n",
       "      <th>VK_ZG11</th>\n",
       "      <th>W_KEIT_KIND_HH</th>\n",
       "      <th>WOHNDAUER_2008</th>\n",
       "      <th>WOHNLAGE</th>\n",
       "      <th>ZABEOTYP</th>\n",
       "      <th>ANREDE_KZ</th>\n",
       "      <th>ALTERSKATEGORIE_GROB</th>\n",
       "    </tr>\n",
       "  </thead>\n",
       "  <tbody>\n",
       "    <tr>\n",
       "      <th>0</th>\n",
       "      <td>910215</td>\n",
       "      <td>-1</td>\n",
       "      <td>NaN</td>\n",
       "      <td>NaN</td>\n",
       "      <td>NaN</td>\n",
       "      <td>NaN</td>\n",
       "      <td>NaN</td>\n",
       "      <td>NaN</td>\n",
       "      <td>NaN</td>\n",
       "      <td>NaN</td>\n",
       "      <td>...</td>\n",
       "      <td>NaN</td>\n",
       "      <td>NaN</td>\n",
       "      <td>NaN</td>\n",
       "      <td>NaN</td>\n",
       "      <td>NaN</td>\n",
       "      <td>NaN</td>\n",
       "      <td>NaN</td>\n",
       "      <td>3</td>\n",
       "      <td>1</td>\n",
       "      <td>2</td>\n",
       "    </tr>\n",
       "    <tr>\n",
       "      <th>1</th>\n",
       "      <td>910220</td>\n",
       "      <td>-1</td>\n",
       "      <td>9.0</td>\n",
       "      <td>0.0</td>\n",
       "      <td>NaN</td>\n",
       "      <td>NaN</td>\n",
       "      <td>NaN</td>\n",
       "      <td>NaN</td>\n",
       "      <td>21.0</td>\n",
       "      <td>11.0</td>\n",
       "      <td>...</td>\n",
       "      <td>4.0</td>\n",
       "      <td>8.0</td>\n",
       "      <td>11.0</td>\n",
       "      <td>10.0</td>\n",
       "      <td>3.0</td>\n",
       "      <td>9.0</td>\n",
       "      <td>4.0</td>\n",
       "      <td>5</td>\n",
       "      <td>2</td>\n",
       "      <td>1</td>\n",
       "    </tr>\n",
       "    <tr>\n",
       "      <th>2</th>\n",
       "      <td>910225</td>\n",
       "      <td>-1</td>\n",
       "      <td>9.0</td>\n",
       "      <td>17.0</td>\n",
       "      <td>NaN</td>\n",
       "      <td>NaN</td>\n",
       "      <td>NaN</td>\n",
       "      <td>NaN</td>\n",
       "      <td>17.0</td>\n",
       "      <td>10.0</td>\n",
       "      <td>...</td>\n",
       "      <td>2.0</td>\n",
       "      <td>9.0</td>\n",
       "      <td>9.0</td>\n",
       "      <td>6.0</td>\n",
       "      <td>3.0</td>\n",
       "      <td>9.0</td>\n",
       "      <td>2.0</td>\n",
       "      <td>5</td>\n",
       "      <td>2</td>\n",
       "      <td>3</td>\n",
       "    </tr>\n",
       "    <tr>\n",
       "      <th>3</th>\n",
       "      <td>910226</td>\n",
       "      <td>2</td>\n",
       "      <td>1.0</td>\n",
       "      <td>13.0</td>\n",
       "      <td>NaN</td>\n",
       "      <td>NaN</td>\n",
       "      <td>NaN</td>\n",
       "      <td>NaN</td>\n",
       "      <td>13.0</td>\n",
       "      <td>1.0</td>\n",
       "      <td>...</td>\n",
       "      <td>0.0</td>\n",
       "      <td>7.0</td>\n",
       "      <td>10.0</td>\n",
       "      <td>11.0</td>\n",
       "      <td>NaN</td>\n",
       "      <td>9.0</td>\n",
       "      <td>7.0</td>\n",
       "      <td>3</td>\n",
       "      <td>2</td>\n",
       "      <td>4</td>\n",
       "    </tr>\n",
       "    <tr>\n",
       "      <th>4</th>\n",
       "      <td>910241</td>\n",
       "      <td>-1</td>\n",
       "      <td>1.0</td>\n",
       "      <td>20.0</td>\n",
       "      <td>NaN</td>\n",
       "      <td>NaN</td>\n",
       "      <td>NaN</td>\n",
       "      <td>NaN</td>\n",
       "      <td>14.0</td>\n",
       "      <td>3.0</td>\n",
       "      <td>...</td>\n",
       "      <td>2.0</td>\n",
       "      <td>3.0</td>\n",
       "      <td>5.0</td>\n",
       "      <td>4.0</td>\n",
       "      <td>2.0</td>\n",
       "      <td>9.0</td>\n",
       "      <td>3.0</td>\n",
       "      <td>4</td>\n",
       "      <td>1</td>\n",
       "      <td>3</td>\n",
       "    </tr>\n",
       "  </tbody>\n",
       "</table>\n",
       "<p>5 rows × 366 columns</p>\n",
       "</div>"
      ],
      "text/plain": [
       "      LNR  AGER_TYP  AKT_DAT_KL  ALTER_HH  ALTER_KIND1  ALTER_KIND2  \\\n",
       "0  910215        -1         NaN       NaN          NaN          NaN   \n",
       "1  910220        -1         9.0       0.0          NaN          NaN   \n",
       "2  910225        -1         9.0      17.0          NaN          NaN   \n",
       "3  910226         2         1.0      13.0          NaN          NaN   \n",
       "4  910241        -1         1.0      20.0          NaN          NaN   \n",
       "\n",
       "   ALTER_KIND3  ALTER_KIND4  ALTERSKATEGORIE_FEIN  ANZ_HAUSHALTE_AKTIV  ...  \\\n",
       "0          NaN          NaN                   NaN                  NaN  ...   \n",
       "1          NaN          NaN                  21.0                 11.0  ...   \n",
       "2          NaN          NaN                  17.0                 10.0  ...   \n",
       "3          NaN          NaN                  13.0                  1.0  ...   \n",
       "4          NaN          NaN                  14.0                  3.0  ...   \n",
       "\n",
       "   VHN  VK_DHT4A  VK_DISTANZ  VK_ZG11  W_KEIT_KIND_HH  WOHNDAUER_2008  \\\n",
       "0  NaN       NaN         NaN      NaN             NaN             NaN   \n",
       "1  4.0       8.0        11.0     10.0             3.0             9.0   \n",
       "2  2.0       9.0         9.0      6.0             3.0             9.0   \n",
       "3  0.0       7.0        10.0     11.0             NaN             9.0   \n",
       "4  2.0       3.0         5.0      4.0             2.0             9.0   \n",
       "\n",
       "   WOHNLAGE ZABEOTYP ANREDE_KZ ALTERSKATEGORIE_GROB  \n",
       "0       NaN        3         1                    2  \n",
       "1       4.0        5         2                    1  \n",
       "2       2.0        5         2                    3  \n",
       "3       7.0        3         2                    4  \n",
       "4       3.0        4         1                    3  \n",
       "\n",
       "[5 rows x 366 columns]"
      ]
     },
     "execution_count": 4,
     "metadata": {},
     "output_type": "execute_result"
    }
   ],
   "source": [
    "#load locally\n",
    "#azdias = pd.read_csv('Udacity_AZDIAS.csv', sep=';')\n",
    "\n",
    "from botocore.client import Config\n",
    "import ibm_boto3\n",
    "\n",
    "def __iter__(self): return 0\n",
    "\n",
    "# @hidden_cell\n",
    "# The following code accesses a file in your IBM Cloud Object Storage. It includes your credentials.\n",
    "# You might want to remove those credentials before you share the notebook.\n",
    "client_a858d8f03f374020bfd0da2bb1a90a17 = ibm_boto3.client(service_name='s3',\n",
    "    ibm_api_key_id='XXXX',\n",
    "    ibm_auth_endpoint=\"xxx\",\n",
    "    config=Config(signature_version='oauth'),\n",
    "    endpoint_url='https://s3-api.us-geo.objectstorage.service.networklayer.com')\n",
    "\n",
    "body = client_a858d8f03f374020bfd0da2bb1a90a17.get_object(Bucket='udacity-donotdelete-pr-cg1e1uk11mv7lb',Key='Udacity_AZDIAS.csv')['Body']\n",
    "# add missing __iter__ method, so pandas accepts body as file-like object\n",
    "if not hasattr(body, \"__iter__\"): body.__iter__ = types.MethodType( __iter__, body )\n",
    "\n",
    "azdias = pd.read_csv(body, sep=';')\n",
    "azdias.head()\n"
   ]
  },
  {
   "cell_type": "code",
   "execution_count": 5,
   "metadata": {},
   "outputs": [],
   "source": [
    "azdias_copy = azdias.copy()"
   ]
  },
  {
   "cell_type": "code",
   "execution_count": 6,
   "metadata": {},
   "outputs": [
    {
     "data": {
      "text/plain": [
       "(891221, 366)"
      ]
     },
     "execution_count": 6,
     "metadata": {},
     "output_type": "execute_result"
    }
   ],
   "source": [
    "azdias.shape"
   ]
  },
  {
   "cell_type": "code",
   "execution_count": 7,
   "metadata": {},
   "outputs": [
    {
     "data": {
      "text/plain": [
       "Index(['LNR', 'AGER_TYP', 'AKT_DAT_KL', 'ALTER_HH', 'ALTER_KIND1',\n",
       "       'ALTER_KIND2', 'ALTER_KIND3', 'ALTER_KIND4', 'ALTERSKATEGORIE_FEIN',\n",
       "       'ANZ_HAUSHALTE_AKTIV',\n",
       "       ...\n",
       "       'VHN', 'VK_DHT4A', 'VK_DISTANZ', 'VK_ZG11', 'W_KEIT_KIND_HH',\n",
       "       'WOHNDAUER_2008', 'WOHNLAGE', 'ZABEOTYP', 'ANREDE_KZ',\n",
       "       'ALTERSKATEGORIE_GROB'],\n",
       "      dtype='object', length=366)"
      ]
     },
     "execution_count": 7,
     "metadata": {},
     "output_type": "execute_result"
    }
   ],
   "source": [
    "azdias.columns"
   ]
  },
  {
   "cell_type": "code",
   "execution_count": 8,
   "metadata": {},
   "outputs": [
    {
     "data": {
      "text/html": [
       "<div>\n",
       "<style scoped>\n",
       "    .dataframe tbody tr th:only-of-type {\n",
       "        vertical-align: middle;\n",
       "    }\n",
       "\n",
       "    .dataframe tbody tr th {\n",
       "        vertical-align: top;\n",
       "    }\n",
       "\n",
       "    .dataframe thead th {\n",
       "        text-align: right;\n",
       "    }\n",
       "</style>\n",
       "<table border=\"1\" class=\"dataframe\">\n",
       "  <thead>\n",
       "    <tr style=\"text-align: right;\">\n",
       "      <th></th>\n",
       "      <th>CAMEO_DEU_2015</th>\n",
       "      <th>CAMEO_DEUG_2015</th>\n",
       "      <th>CAMEO_INTL_2015</th>\n",
       "      <th>D19_LETZTER_KAUF_BRANCHE</th>\n",
       "      <th>EINGEFUEGT_AM</th>\n",
       "      <th>OST_WEST_KZ</th>\n",
       "    </tr>\n",
       "  </thead>\n",
       "  <tbody>\n",
       "    <tr>\n",
       "      <th>0</th>\n",
       "      <td>NaN</td>\n",
       "      <td>NaN</td>\n",
       "      <td>NaN</td>\n",
       "      <td>NaN</td>\n",
       "      <td>NaN</td>\n",
       "      <td>NaN</td>\n",
       "    </tr>\n",
       "    <tr>\n",
       "      <th>1</th>\n",
       "      <td>8A</td>\n",
       "      <td>8</td>\n",
       "      <td>51</td>\n",
       "      <td>NaN</td>\n",
       "      <td>1992-02-10 00:00:00</td>\n",
       "      <td>W</td>\n",
       "    </tr>\n",
       "    <tr>\n",
       "      <th>2</th>\n",
       "      <td>4C</td>\n",
       "      <td>4</td>\n",
       "      <td>24</td>\n",
       "      <td>D19_UNBEKANNT</td>\n",
       "      <td>1992-02-12 00:00:00</td>\n",
       "      <td>W</td>\n",
       "    </tr>\n",
       "    <tr>\n",
       "      <th>3</th>\n",
       "      <td>2A</td>\n",
       "      <td>2</td>\n",
       "      <td>12</td>\n",
       "      <td>D19_UNBEKANNT</td>\n",
       "      <td>1997-04-21 00:00:00</td>\n",
       "      <td>W</td>\n",
       "    </tr>\n",
       "    <tr>\n",
       "      <th>4</th>\n",
       "      <td>6B</td>\n",
       "      <td>6</td>\n",
       "      <td>43</td>\n",
       "      <td>D19_SCHUHE</td>\n",
       "      <td>1992-02-12 00:00:00</td>\n",
       "      <td>W</td>\n",
       "    </tr>\n",
       "    <tr>\n",
       "      <th>5</th>\n",
       "      <td>8C</td>\n",
       "      <td>8</td>\n",
       "      <td>54</td>\n",
       "      <td>D19_ENERGIE</td>\n",
       "      <td>1992-02-12 00:00:00</td>\n",
       "      <td>W</td>\n",
       "    </tr>\n",
       "    <tr>\n",
       "      <th>6</th>\n",
       "      <td>4A</td>\n",
       "      <td>4</td>\n",
       "      <td>22</td>\n",
       "      <td>D19_UNBEKANNT</td>\n",
       "      <td>1992-02-12 00:00:00</td>\n",
       "      <td>W</td>\n",
       "    </tr>\n",
       "    <tr>\n",
       "      <th>7</th>\n",
       "      <td>2D</td>\n",
       "      <td>2</td>\n",
       "      <td>14</td>\n",
       "      <td>D19_UNBEKANNT</td>\n",
       "      <td>1992-02-10 00:00:00</td>\n",
       "      <td>W</td>\n",
       "    </tr>\n",
       "    <tr>\n",
       "      <th>8</th>\n",
       "      <td>1A</td>\n",
       "      <td>1</td>\n",
       "      <td>13</td>\n",
       "      <td>NaN</td>\n",
       "      <td>1992-02-10 00:00:00</td>\n",
       "      <td>W</td>\n",
       "    </tr>\n",
       "    <tr>\n",
       "      <th>9</th>\n",
       "      <td>1E</td>\n",
       "      <td>1</td>\n",
       "      <td>15</td>\n",
       "      <td>D19_KOSMETIK</td>\n",
       "      <td>1992-02-10 00:00:00</td>\n",
       "      <td>W</td>\n",
       "    </tr>\n",
       "    <tr>\n",
       "      <th>10</th>\n",
       "      <td>9D</td>\n",
       "      <td>9</td>\n",
       "      <td>51</td>\n",
       "      <td>D19_UNBEKANNT</td>\n",
       "      <td>1992-02-10 00:00:00</td>\n",
       "      <td>W</td>\n",
       "    </tr>\n",
       "    <tr>\n",
       "      <th>11</th>\n",
       "      <td>NaN</td>\n",
       "      <td>NaN</td>\n",
       "      <td>NaN</td>\n",
       "      <td>NaN</td>\n",
       "      <td>NaN</td>\n",
       "      <td>NaN</td>\n",
       "    </tr>\n",
       "    <tr>\n",
       "      <th>12</th>\n",
       "      <td>6B</td>\n",
       "      <td>6</td>\n",
       "      <td>43</td>\n",
       "      <td>D19_SCHUHE</td>\n",
       "      <td>2005-12-30 00:00:00</td>\n",
       "      <td>W</td>\n",
       "    </tr>\n",
       "    <tr>\n",
       "      <th>13</th>\n",
       "      <td>5C</td>\n",
       "      <td>5</td>\n",
       "      <td>33</td>\n",
       "      <td>D19_VOLLSORTIMENT</td>\n",
       "      <td>2009-01-19 00:00:00</td>\n",
       "      <td>W</td>\n",
       "    </tr>\n",
       "    <tr>\n",
       "      <th>14</th>\n",
       "      <td>NaN</td>\n",
       "      <td>NaN</td>\n",
       "      <td>NaN</td>\n",
       "      <td>NaN</td>\n",
       "      <td>NaN</td>\n",
       "      <td>NaN</td>\n",
       "    </tr>\n",
       "    <tr>\n",
       "      <th>15</th>\n",
       "      <td>8B</td>\n",
       "      <td>8</td>\n",
       "      <td>41</td>\n",
       "      <td>D19_UNBEKANNT</td>\n",
       "      <td>1992-02-12 00:00:00</td>\n",
       "      <td>W</td>\n",
       "    </tr>\n",
       "    <tr>\n",
       "      <th>16</th>\n",
       "      <td>7A</td>\n",
       "      <td>7</td>\n",
       "      <td>41</td>\n",
       "      <td>D19_SONSTIGE</td>\n",
       "      <td>1995-02-02 00:00:00</td>\n",
       "      <td>W</td>\n",
       "    </tr>\n",
       "    <tr>\n",
       "      <th>17</th>\n",
       "      <td>NaN</td>\n",
       "      <td>NaN</td>\n",
       "      <td>NaN</td>\n",
       "      <td>NaN</td>\n",
       "      <td>NaN</td>\n",
       "      <td>NaN</td>\n",
       "    </tr>\n",
       "    <tr>\n",
       "      <th>18</th>\n",
       "      <td>4C</td>\n",
       "      <td>4</td>\n",
       "      <td>24</td>\n",
       "      <td>NaN</td>\n",
       "      <td>1996-12-05 00:00:00</td>\n",
       "      <td>W</td>\n",
       "    </tr>\n",
       "    <tr>\n",
       "      <th>19</th>\n",
       "      <td>5D</td>\n",
       "      <td>5</td>\n",
       "      <td>34</td>\n",
       "      <td>NaN</td>\n",
       "      <td>1992-02-12 00:00:00</td>\n",
       "      <td>W</td>\n",
       "    </tr>\n",
       "    <tr>\n",
       "      <th>20</th>\n",
       "      <td>4C</td>\n",
       "      <td>4</td>\n",
       "      <td>24</td>\n",
       "      <td>D19_SONSTIGE</td>\n",
       "      <td>2002-03-13 00:00:00</td>\n",
       "      <td>W</td>\n",
       "    </tr>\n",
       "    <tr>\n",
       "      <th>21</th>\n",
       "      <td>9E</td>\n",
       "      <td>9</td>\n",
       "      <td>55</td>\n",
       "      <td>NaN</td>\n",
       "      <td>1992-02-12 00:00:00</td>\n",
       "      <td>W</td>\n",
       "    </tr>\n",
       "    <tr>\n",
       "      <th>22</th>\n",
       "      <td>9D</td>\n",
       "      <td>9</td>\n",
       "      <td>51</td>\n",
       "      <td>NaN</td>\n",
       "      <td>1992-02-10 00:00:00</td>\n",
       "      <td>W</td>\n",
       "    </tr>\n",
       "    <tr>\n",
       "      <th>23</th>\n",
       "      <td>6B</td>\n",
       "      <td>6</td>\n",
       "      <td>43</td>\n",
       "      <td>D19_BANKEN_GROSS</td>\n",
       "      <td>1992-02-12 00:00:00</td>\n",
       "      <td>W</td>\n",
       "    </tr>\n",
       "    <tr>\n",
       "      <th>24</th>\n",
       "      <td>NaN</td>\n",
       "      <td>NaN</td>\n",
       "      <td>NaN</td>\n",
       "      <td>NaN</td>\n",
       "      <td>NaN</td>\n",
       "      <td>NaN</td>\n",
       "    </tr>\n",
       "    <tr>\n",
       "      <th>25</th>\n",
       "      <td>5C</td>\n",
       "      <td>5</td>\n",
       "      <td>33</td>\n",
       "      <td>D19_UNBEKANNT</td>\n",
       "      <td>1992-02-12 00:00:00</td>\n",
       "      <td>W</td>\n",
       "    </tr>\n",
       "    <tr>\n",
       "      <th>26</th>\n",
       "      <td>NaN</td>\n",
       "      <td>NaN</td>\n",
       "      <td>NaN</td>\n",
       "      <td>D19_ENERGIE</td>\n",
       "      <td>2015-04-01 00:00:00</td>\n",
       "      <td>W</td>\n",
       "    </tr>\n",
       "    <tr>\n",
       "      <th>27</th>\n",
       "      <td>9B</td>\n",
       "      <td>9</td>\n",
       "      <td>51</td>\n",
       "      <td>D19_SCHUHE</td>\n",
       "      <td>1996-05-09 00:00:00</td>\n",
       "      <td>W</td>\n",
       "    </tr>\n",
       "    <tr>\n",
       "      <th>28</th>\n",
       "      <td>1A</td>\n",
       "      <td>1</td>\n",
       "      <td>13</td>\n",
       "      <td>NaN</td>\n",
       "      <td>1992-02-12 00:00:00</td>\n",
       "      <td>W</td>\n",
       "    </tr>\n",
       "    <tr>\n",
       "      <th>29</th>\n",
       "      <td>2A</td>\n",
       "      <td>2</td>\n",
       "      <td>12</td>\n",
       "      <td>D19_BANKEN_GROSS</td>\n",
       "      <td>2005-04-12 00:00:00</td>\n",
       "      <td>W</td>\n",
       "    </tr>\n",
       "    <tr>\n",
       "      <th>...</th>\n",
       "      <td>...</td>\n",
       "      <td>...</td>\n",
       "      <td>...</td>\n",
       "      <td>...</td>\n",
       "      <td>...</td>\n",
       "      <td>...</td>\n",
       "    </tr>\n",
       "    <tr>\n",
       "      <th>891191</th>\n",
       "      <td>6C</td>\n",
       "      <td>6</td>\n",
       "      <td>44</td>\n",
       "      <td>D19_VERSAND_REST</td>\n",
       "      <td>1992-02-10 00:00:00</td>\n",
       "      <td>W</td>\n",
       "    </tr>\n",
       "    <tr>\n",
       "      <th>891192</th>\n",
       "      <td>5B</td>\n",
       "      <td>5</td>\n",
       "      <td>32</td>\n",
       "      <td>NaN</td>\n",
       "      <td>1992-02-12 00:00:00</td>\n",
       "      <td>W</td>\n",
       "    </tr>\n",
       "    <tr>\n",
       "      <th>891193</th>\n",
       "      <td>6B</td>\n",
       "      <td>6</td>\n",
       "      <td>43</td>\n",
       "      <td>D19_BILDUNG</td>\n",
       "      <td>1992-02-12 00:00:00</td>\n",
       "      <td>W</td>\n",
       "    </tr>\n",
       "    <tr>\n",
       "      <th>891194</th>\n",
       "      <td>4C</td>\n",
       "      <td>4</td>\n",
       "      <td>24</td>\n",
       "      <td>D19_BUCH_CD</td>\n",
       "      <td>2000-10-04 00:00:00</td>\n",
       "      <td>W</td>\n",
       "    </tr>\n",
       "    <tr>\n",
       "      <th>891195</th>\n",
       "      <td>8D</td>\n",
       "      <td>8</td>\n",
       "      <td>55</td>\n",
       "      <td>D19_VOLLSORTIMENT</td>\n",
       "      <td>1992-02-10 00:00:00</td>\n",
       "      <td>W</td>\n",
       "    </tr>\n",
       "    <tr>\n",
       "      <th>891196</th>\n",
       "      <td>4B</td>\n",
       "      <td>4</td>\n",
       "      <td>23</td>\n",
       "      <td>D19_VOLLSORTIMENT</td>\n",
       "      <td>1993-11-03 00:00:00</td>\n",
       "      <td>W</td>\n",
       "    </tr>\n",
       "    <tr>\n",
       "      <th>891197</th>\n",
       "      <td>3C</td>\n",
       "      <td>3</td>\n",
       "      <td>24</td>\n",
       "      <td>D19_RATGEBER</td>\n",
       "      <td>1992-02-12 00:00:00</td>\n",
       "      <td>W</td>\n",
       "    </tr>\n",
       "    <tr>\n",
       "      <th>891198</th>\n",
       "      <td>2C</td>\n",
       "      <td>2</td>\n",
       "      <td>14</td>\n",
       "      <td>NaN</td>\n",
       "      <td>1992-02-12 00:00:00</td>\n",
       "      <td>W</td>\n",
       "    </tr>\n",
       "    <tr>\n",
       "      <th>891199</th>\n",
       "      <td>8A</td>\n",
       "      <td>8</td>\n",
       "      <td>51</td>\n",
       "      <td>NaN</td>\n",
       "      <td>1992-02-12 00:00:00</td>\n",
       "      <td>W</td>\n",
       "    </tr>\n",
       "    <tr>\n",
       "      <th>891200</th>\n",
       "      <td>9A</td>\n",
       "      <td>9</td>\n",
       "      <td>52</td>\n",
       "      <td>D19_UNBEKANNT</td>\n",
       "      <td>1992-02-10 00:00:00</td>\n",
       "      <td>W</td>\n",
       "    </tr>\n",
       "    <tr>\n",
       "      <th>891201</th>\n",
       "      <td>7A</td>\n",
       "      <td>7</td>\n",
       "      <td>41</td>\n",
       "      <td>D19_VERSAND_REST</td>\n",
       "      <td>1992-02-10 00:00:00</td>\n",
       "      <td>W</td>\n",
       "    </tr>\n",
       "    <tr>\n",
       "      <th>891202</th>\n",
       "      <td>8B</td>\n",
       "      <td>8</td>\n",
       "      <td>41</td>\n",
       "      <td>D19_VERSAND_REST</td>\n",
       "      <td>1992-02-10 00:00:00</td>\n",
       "      <td>W</td>\n",
       "    </tr>\n",
       "    <tr>\n",
       "      <th>891203</th>\n",
       "      <td>3D</td>\n",
       "      <td>3</td>\n",
       "      <td>25</td>\n",
       "      <td>D19_UNBEKANNT</td>\n",
       "      <td>2007-08-14 00:00:00</td>\n",
       "      <td>W</td>\n",
       "    </tr>\n",
       "    <tr>\n",
       "      <th>891204</th>\n",
       "      <td>3C</td>\n",
       "      <td>3</td>\n",
       "      <td>24</td>\n",
       "      <td>D19_TELKO_REST</td>\n",
       "      <td>1992-02-12 00:00:00</td>\n",
       "      <td>W</td>\n",
       "    </tr>\n",
       "    <tr>\n",
       "      <th>891205</th>\n",
       "      <td>5E</td>\n",
       "      <td>5</td>\n",
       "      <td>34</td>\n",
       "      <td>D19_UNBEKANNT</td>\n",
       "      <td>1992-02-10 00:00:00</td>\n",
       "      <td>W</td>\n",
       "    </tr>\n",
       "    <tr>\n",
       "      <th>891206</th>\n",
       "      <td>3D</td>\n",
       "      <td>3</td>\n",
       "      <td>25</td>\n",
       "      <td>D19_UNBEKANNT</td>\n",
       "      <td>1992-02-10 00:00:00</td>\n",
       "      <td>W</td>\n",
       "    </tr>\n",
       "    <tr>\n",
       "      <th>891207</th>\n",
       "      <td>7A</td>\n",
       "      <td>7</td>\n",
       "      <td>41</td>\n",
       "      <td>D19_UNBEKANNT</td>\n",
       "      <td>1992-02-10 00:00:00</td>\n",
       "      <td>W</td>\n",
       "    </tr>\n",
       "    <tr>\n",
       "      <th>891208</th>\n",
       "      <td>2C</td>\n",
       "      <td>2</td>\n",
       "      <td>14</td>\n",
       "      <td>D19_UNBEKANNT</td>\n",
       "      <td>1997-10-13 00:00:00</td>\n",
       "      <td>W</td>\n",
       "    </tr>\n",
       "    <tr>\n",
       "      <th>891209</th>\n",
       "      <td>8A</td>\n",
       "      <td>8</td>\n",
       "      <td>51</td>\n",
       "      <td>D19_TELKO_REST</td>\n",
       "      <td>1992-02-10 00:00:00</td>\n",
       "      <td>W</td>\n",
       "    </tr>\n",
       "    <tr>\n",
       "      <th>891210</th>\n",
       "      <td>8B</td>\n",
       "      <td>8</td>\n",
       "      <td>41</td>\n",
       "      <td>D19_WEIN_FEINKOST</td>\n",
       "      <td>1992-02-12 00:00:00</td>\n",
       "      <td>W</td>\n",
       "    </tr>\n",
       "    <tr>\n",
       "      <th>891211</th>\n",
       "      <td>9D</td>\n",
       "      <td>9</td>\n",
       "      <td>51</td>\n",
       "      <td>D19_UNBEKANNT</td>\n",
       "      <td>1992-02-12 00:00:00</td>\n",
       "      <td>W</td>\n",
       "    </tr>\n",
       "    <tr>\n",
       "      <th>891212</th>\n",
       "      <td>9D</td>\n",
       "      <td>9</td>\n",
       "      <td>51</td>\n",
       "      <td>NaN</td>\n",
       "      <td>1992-02-12 00:00:00</td>\n",
       "      <td>W</td>\n",
       "    </tr>\n",
       "    <tr>\n",
       "      <th>891213</th>\n",
       "      <td>5E</td>\n",
       "      <td>5</td>\n",
       "      <td>34</td>\n",
       "      <td>D19_VERSICHERUNGEN</td>\n",
       "      <td>1992-02-10 00:00:00</td>\n",
       "      <td>W</td>\n",
       "    </tr>\n",
       "    <tr>\n",
       "      <th>891214</th>\n",
       "      <td>3A</td>\n",
       "      <td>3</td>\n",
       "      <td>23</td>\n",
       "      <td>D19_UNBEKANNT</td>\n",
       "      <td>1992-02-10 00:00:00</td>\n",
       "      <td>W</td>\n",
       "    </tr>\n",
       "    <tr>\n",
       "      <th>891215</th>\n",
       "      <td>5A</td>\n",
       "      <td>5</td>\n",
       "      <td>31</td>\n",
       "      <td>NaN</td>\n",
       "      <td>1992-02-10 00:00:00</td>\n",
       "      <td>W</td>\n",
       "    </tr>\n",
       "    <tr>\n",
       "      <th>891216</th>\n",
       "      <td>7A</td>\n",
       "      <td>7</td>\n",
       "      <td>41</td>\n",
       "      <td>D19_HAUS_DEKO</td>\n",
       "      <td>1992-02-10 00:00:00</td>\n",
       "      <td>W</td>\n",
       "    </tr>\n",
       "    <tr>\n",
       "      <th>891217</th>\n",
       "      <td>9D</td>\n",
       "      <td>9</td>\n",
       "      <td>51</td>\n",
       "      <td>D19_UNBEKANNT</td>\n",
       "      <td>1992-02-10 00:00:00</td>\n",
       "      <td>W</td>\n",
       "    </tr>\n",
       "    <tr>\n",
       "      <th>891218</th>\n",
       "      <td>4C</td>\n",
       "      <td>4</td>\n",
       "      <td>24</td>\n",
       "      <td>D19_BEKLEIDUNG_GEH</td>\n",
       "      <td>1992-02-10 00:00:00</td>\n",
       "      <td>W</td>\n",
       "    </tr>\n",
       "    <tr>\n",
       "      <th>891219</th>\n",
       "      <td>9D</td>\n",
       "      <td>9</td>\n",
       "      <td>51</td>\n",
       "      <td>D19_UNBEKANNT</td>\n",
       "      <td>1992-02-12 00:00:00</td>\n",
       "      <td>W</td>\n",
       "    </tr>\n",
       "    <tr>\n",
       "      <th>891220</th>\n",
       "      <td>6B</td>\n",
       "      <td>6</td>\n",
       "      <td>43</td>\n",
       "      <td>NaN</td>\n",
       "      <td>1992-02-10 00:00:00</td>\n",
       "      <td>W</td>\n",
       "    </tr>\n",
       "  </tbody>\n",
       "</table>\n",
       "<p>891221 rows × 6 columns</p>\n",
       "</div>"
      ],
      "text/plain": [
       "       CAMEO_DEU_2015 CAMEO_DEUG_2015 CAMEO_INTL_2015  \\\n",
       "0                 NaN             NaN             NaN   \n",
       "1                  8A               8              51   \n",
       "2                  4C               4              24   \n",
       "3                  2A               2              12   \n",
       "4                  6B               6              43   \n",
       "5                  8C               8              54   \n",
       "6                  4A               4              22   \n",
       "7                  2D               2              14   \n",
       "8                  1A               1              13   \n",
       "9                  1E               1              15   \n",
       "10                 9D               9              51   \n",
       "11                NaN             NaN             NaN   \n",
       "12                 6B               6              43   \n",
       "13                 5C               5              33   \n",
       "14                NaN             NaN             NaN   \n",
       "15                 8B               8              41   \n",
       "16                 7A               7              41   \n",
       "17                NaN             NaN             NaN   \n",
       "18                 4C               4              24   \n",
       "19                 5D               5              34   \n",
       "20                 4C               4              24   \n",
       "21                 9E               9              55   \n",
       "22                 9D               9              51   \n",
       "23                 6B               6              43   \n",
       "24                NaN             NaN             NaN   \n",
       "25                 5C               5              33   \n",
       "26                NaN             NaN             NaN   \n",
       "27                 9B               9              51   \n",
       "28                 1A               1              13   \n",
       "29                 2A               2              12   \n",
       "...               ...             ...             ...   \n",
       "891191             6C               6              44   \n",
       "891192             5B               5              32   \n",
       "891193             6B               6              43   \n",
       "891194             4C               4              24   \n",
       "891195             8D               8              55   \n",
       "891196             4B               4              23   \n",
       "891197             3C               3              24   \n",
       "891198             2C               2              14   \n",
       "891199             8A               8              51   \n",
       "891200             9A               9              52   \n",
       "891201             7A               7              41   \n",
       "891202             8B               8              41   \n",
       "891203             3D               3              25   \n",
       "891204             3C               3              24   \n",
       "891205             5E               5              34   \n",
       "891206             3D               3              25   \n",
       "891207             7A               7              41   \n",
       "891208             2C               2              14   \n",
       "891209             8A               8              51   \n",
       "891210             8B               8              41   \n",
       "891211             9D               9              51   \n",
       "891212             9D               9              51   \n",
       "891213             5E               5              34   \n",
       "891214             3A               3              23   \n",
       "891215             5A               5              31   \n",
       "891216             7A               7              41   \n",
       "891217             9D               9              51   \n",
       "891218             4C               4              24   \n",
       "891219             9D               9              51   \n",
       "891220             6B               6              43   \n",
       "\n",
       "       D19_LETZTER_KAUF_BRANCHE        EINGEFUEGT_AM OST_WEST_KZ  \n",
       "0                           NaN                  NaN         NaN  \n",
       "1                           NaN  1992-02-10 00:00:00           W  \n",
       "2                 D19_UNBEKANNT  1992-02-12 00:00:00           W  \n",
       "3                 D19_UNBEKANNT  1997-04-21 00:00:00           W  \n",
       "4                    D19_SCHUHE  1992-02-12 00:00:00           W  \n",
       "5                   D19_ENERGIE  1992-02-12 00:00:00           W  \n",
       "6                 D19_UNBEKANNT  1992-02-12 00:00:00           W  \n",
       "7                 D19_UNBEKANNT  1992-02-10 00:00:00           W  \n",
       "8                           NaN  1992-02-10 00:00:00           W  \n",
       "9                  D19_KOSMETIK  1992-02-10 00:00:00           W  \n",
       "10                D19_UNBEKANNT  1992-02-10 00:00:00           W  \n",
       "11                          NaN                  NaN         NaN  \n",
       "12                   D19_SCHUHE  2005-12-30 00:00:00           W  \n",
       "13            D19_VOLLSORTIMENT  2009-01-19 00:00:00           W  \n",
       "14                          NaN                  NaN         NaN  \n",
       "15                D19_UNBEKANNT  1992-02-12 00:00:00           W  \n",
       "16                 D19_SONSTIGE  1995-02-02 00:00:00           W  \n",
       "17                          NaN                  NaN         NaN  \n",
       "18                          NaN  1996-12-05 00:00:00           W  \n",
       "19                          NaN  1992-02-12 00:00:00           W  \n",
       "20                 D19_SONSTIGE  2002-03-13 00:00:00           W  \n",
       "21                          NaN  1992-02-12 00:00:00           W  \n",
       "22                          NaN  1992-02-10 00:00:00           W  \n",
       "23             D19_BANKEN_GROSS  1992-02-12 00:00:00           W  \n",
       "24                          NaN                  NaN         NaN  \n",
       "25                D19_UNBEKANNT  1992-02-12 00:00:00           W  \n",
       "26                  D19_ENERGIE  2015-04-01 00:00:00           W  \n",
       "27                   D19_SCHUHE  1996-05-09 00:00:00           W  \n",
       "28                          NaN  1992-02-12 00:00:00           W  \n",
       "29             D19_BANKEN_GROSS  2005-04-12 00:00:00           W  \n",
       "...                         ...                  ...         ...  \n",
       "891191         D19_VERSAND_REST  1992-02-10 00:00:00           W  \n",
       "891192                      NaN  1992-02-12 00:00:00           W  \n",
       "891193              D19_BILDUNG  1992-02-12 00:00:00           W  \n",
       "891194              D19_BUCH_CD  2000-10-04 00:00:00           W  \n",
       "891195        D19_VOLLSORTIMENT  1992-02-10 00:00:00           W  \n",
       "891196        D19_VOLLSORTIMENT  1993-11-03 00:00:00           W  \n",
       "891197             D19_RATGEBER  1992-02-12 00:00:00           W  \n",
       "891198                      NaN  1992-02-12 00:00:00           W  \n",
       "891199                      NaN  1992-02-12 00:00:00           W  \n",
       "891200            D19_UNBEKANNT  1992-02-10 00:00:00           W  \n",
       "891201         D19_VERSAND_REST  1992-02-10 00:00:00           W  \n",
       "891202         D19_VERSAND_REST  1992-02-10 00:00:00           W  \n",
       "891203            D19_UNBEKANNT  2007-08-14 00:00:00           W  \n",
       "891204           D19_TELKO_REST  1992-02-12 00:00:00           W  \n",
       "891205            D19_UNBEKANNT  1992-02-10 00:00:00           W  \n",
       "891206            D19_UNBEKANNT  1992-02-10 00:00:00           W  \n",
       "891207            D19_UNBEKANNT  1992-02-10 00:00:00           W  \n",
       "891208            D19_UNBEKANNT  1997-10-13 00:00:00           W  \n",
       "891209           D19_TELKO_REST  1992-02-10 00:00:00           W  \n",
       "891210        D19_WEIN_FEINKOST  1992-02-12 00:00:00           W  \n",
       "891211            D19_UNBEKANNT  1992-02-12 00:00:00           W  \n",
       "891212                      NaN  1992-02-12 00:00:00           W  \n",
       "891213       D19_VERSICHERUNGEN  1992-02-10 00:00:00           W  \n",
       "891214            D19_UNBEKANNT  1992-02-10 00:00:00           W  \n",
       "891215                      NaN  1992-02-10 00:00:00           W  \n",
       "891216            D19_HAUS_DEKO  1992-02-10 00:00:00           W  \n",
       "891217            D19_UNBEKANNT  1992-02-10 00:00:00           W  \n",
       "891218       D19_BEKLEIDUNG_GEH  1992-02-10 00:00:00           W  \n",
       "891219            D19_UNBEKANNT  1992-02-12 00:00:00           W  \n",
       "891220                      NaN  1992-02-10 00:00:00           W  \n",
       "\n",
       "[891221 rows x 6 columns]"
      ]
     },
     "execution_count": 8,
     "metadata": {},
     "output_type": "execute_result"
    }
   ],
   "source": [
    "#check mixed type columns\n",
    "\n",
    "azdias[azdias.columns[azdias.dtypes == 'object'].values]"
   ]
  },
  {
   "cell_type": "code",
   "execution_count": 9,
   "metadata": {},
   "outputs": [
    {
     "data": {
      "text/plain": [
       "<matplotlib.axes._subplots.AxesSubplot at 0x7f1bb2eaaa20>"
      ]
     },
     "execution_count": 9,
     "metadata": {},
     "output_type": "execute_result"
    },
    {
     "data": {
      "image/png": "[encoded data removed]",
      "text/plain": [
       "<Figure size 432x288 with 1 Axes>"
      ]
     },
     "metadata": {
      "needs_background": "light"
     },
     "output_type": "display_data"
    }
   ],
   "source": [
    "#plot distribution of missing values\n",
    "azdias_copy.isna().sum().hist()"
   ]
  },
  {
   "cell_type": "code",
   "execution_count": 10,
   "metadata": {},
   "outputs": [
    {
     "data": {
      "text/plain": [
       "273"
      ]
     },
     "execution_count": 10,
     "metadata": {},
     "output_type": "execute_result"
    }
   ],
   "source": [
    "#how many columns have missing values\n",
    "len(azdias_copy.columns[azdias_copy.isnull().any()])"
   ]
  },
  {
   "cell_type": "code",
   "execution_count": 11,
   "metadata": {},
   "outputs": [
    {
     "data": {
      "text/plain": [
       "ALTER_KIND4                    890016\n",
       "ALTER_KIND3                    885051\n",
       "ALTER_KIND2                    861722\n",
       "ALTER_KIND1                    810163\n",
       "EXTSEL992                      654153\n",
       "KK_KUNDENTYP                   584612\n",
       "ALTERSKATEGORIE_FEIN           262947\n",
       "D19_LETZTER_KAUF_BRANCHE       257113\n",
       "D19_LOTTO                      257113\n",
       "D19_VERSI_ONLINE_QUOTE_12      257113\n",
       "D19_BANKEN_ONLINE_QUOTE_12     257113\n",
       "D19_SOZIALES                   257113\n",
       "D19_GESAMT_ONLINE_QUOTE_12     257113\n",
       "D19_KONSUMTYP                  257113\n",
       "D19_TELKO_ONLINE_QUOTE_12      257113\n",
       "D19_VERSAND_ONLINE_QUOTE_12    257113\n",
       "KBA05_MOTOR                    133324\n",
       "KBA05_MOD8                     133324\n",
       "KBA05_MOD4                     133324\n",
       "KBA05_MOD3                     133324\n",
       "KBA05_MOD2                     133324\n",
       "KBA05_SEG1                     133324\n",
       "KBA05_MOD1                     133324\n",
       "KBA05_MAXVORB                  133324\n",
       "KBA05_MAXSEG                   133324\n",
       "KBA05_MAXHERST                 133324\n",
       "KBA05_MAXBJ                    133324\n",
       "KBA05_MAXAH                    133324\n",
       "KBA05_KW3                      133324\n",
       "KBA05_MOTRAD                   133324\n",
       "                                ...  \n",
       "D19_RATGEBER                        0\n",
       "FINANZ_ANLEGER                      0\n",
       "D19_REISEN                          0\n",
       "D19_SAMMELARTIKEL                   0\n",
       "D19_SCHUHE                          0\n",
       "D19_SONSTIGE                        0\n",
       "D19_TECHNIK                         0\n",
       "D19_TELKO_ANZ_12                    0\n",
       "D19_TELKO_ANZ_24                    0\n",
       "D19_TELKO_DATUM                     0\n",
       "D19_TELKO_MOBILE                    0\n",
       "D19_TELKO_OFFLINE_DATUM             0\n",
       "D19_TELKO_ONLINE_DATUM              0\n",
       "D19_TELKO_REST                      0\n",
       "D19_TIERARTIKEL                     0\n",
       "D19_VERSAND_ANZ_12                  0\n",
       "D19_VERSAND_ANZ_24                  0\n",
       "D19_VERSAND_DATUM                   0\n",
       "D19_VERSAND_OFFLINE_DATUM           0\n",
       "D19_VERSAND_ONLINE_DATUM            0\n",
       "D19_VERSAND_REST                    0\n",
       "D19_VERSI_ANZ_12                    0\n",
       "D19_VERSI_ANZ_24                    0\n",
       "D19_VERSI_DATUM                     0\n",
       "D19_VERSI_OFFLINE_DATUM             0\n",
       "D19_VERSI_ONLINE_DATUM              0\n",
       "D19_VERSICHERUNGEN                  0\n",
       "D19_VOLLSORTIMENT                   0\n",
       "D19_WEIN_FEINKOST                   0\n",
       "LNR                                 0\n",
       "Length: 366, dtype: int64"
      ]
     },
     "execution_count": 11,
     "metadata": {},
     "output_type": "execute_result"
    }
   ],
   "source": [
    "#sort missing values\n",
    "azdias_copy.isna().sum().sort_values(ascending=False)"
   ]
  },
  {
   "cell_type": "code",
   "execution_count": 12,
   "metadata": {},
   "outputs": [
    {
     "data": {
      "text/plain": [
       "ALTER_KIND4                    0.998648\n",
       "ALTER_KIND3                    0.993077\n",
       "ALTER_KIND2                    0.966900\n",
       "ALTER_KIND1                    0.909048\n",
       "EXTSEL992                      0.733996\n",
       "KK_KUNDENTYP                   0.655967\n",
       "ALTERSKATEGORIE_FEIN           0.295041\n",
       "D19_LETZTER_KAUF_BRANCHE       0.288495\n",
       "D19_LOTTO                      0.288495\n",
       "D19_VERSI_ONLINE_QUOTE_12      0.288495\n",
       "D19_BANKEN_ONLINE_QUOTE_12     0.288495\n",
       "D19_SOZIALES                   0.288495\n",
       "D19_GESAMT_ONLINE_QUOTE_12     0.288495\n",
       "D19_KONSUMTYP                  0.288495\n",
       "D19_TELKO_ONLINE_QUOTE_12      0.288495\n",
       "D19_VERSAND_ONLINE_QUOTE_12    0.288495\n",
       "KBA05_MOTOR                    0.149597\n",
       "KBA05_MOD8                     0.149597\n",
       "KBA05_MOD4                     0.149597\n",
       "KBA05_MOD3                     0.149597\n",
       "KBA05_MOD2                     0.149597\n",
       "KBA05_SEG1                     0.149597\n",
       "KBA05_MOD1                     0.149597\n",
       "KBA05_MAXVORB                  0.149597\n",
       "KBA05_MAXSEG                   0.149597\n",
       "KBA05_MAXHERST                 0.149597\n",
       "KBA05_MAXBJ                    0.149597\n",
       "KBA05_MAXAH                    0.149597\n",
       "KBA05_KW3                      0.149597\n",
       "KBA05_MOTRAD                   0.149597\n",
       "dtype: float64"
      ]
     },
     "execution_count": 12,
     "metadata": {},
     "output_type": "execute_result"
    }
   ],
   "source": [
    "# Investigate patterns in the amount of missing data in each column.\n",
    "\n",
    "nans = (azdias_copy.isnull().mean()).sort_values(ascending=False)\n",
    "nans[:30]"
   ]
  },
  {
   "cell_type": "code",
   "execution_count": 13,
   "metadata": {},
   "outputs": [],
   "source": [
    "#Function to plot proportion of missing values\n",
    "def plot_graphs(df, x_label, y_label, bin_size):\n",
    "    f, (ax_box, ax_hist) = plt.subplots(2,\n",
    "                                        sharex=True,\n",
    "                                        gridspec_kw={\n",
    "                                            \"height_ratios\": (.15, .85)},\n",
    "                                        figsize=(14, 6))\n",
    "\n",
    "    sns.boxplot(df, ax=ax_box)\n",
    "    bins = np.arange(0, df.max() + bin_size, bin_size)\n",
    "    df.hist(grid=False, bins=bins)\n",
    "    ax_box.set(yticks=[])\n",
    "    ax_hist.set_ylabel(y_label)\n",
    "    ax_hist.set_xlabel(x_label)\n",
    "    sns.despine(ax=ax_hist)\n",
    "    sns.despine(ax=ax_box, left=True)"
   ]
  },
  {
   "cell_type": "code",
   "execution_count": 14,
   "metadata": {},
   "outputs": [
    {
     "data": {
      "image/png": "[encoded data removed]",
      "text/plain": [
       "<Figure size 1008x432 with 2 Axes>"
      ]
     },
     "metadata": {
      "needs_background": "light"
     },
     "output_type": "display_data"
    }
   ],
   "source": [
    "plot_graphs(nans, x_label='Proportion of missing values', y_label='# of features', bin_size=0.05);"
   ]
  },
  {
   "cell_type": "code",
   "execution_count": 15,
   "metadata": {},
   "outputs": [],
   "source": [
    "# Remove the outlier and unecessary columns and  from the dataset\n",
    "drop_cols = ['ALTER_KIND4','ALTER_KIND3', 'ALTER_KIND2', 'ALTER_KIND1', 'EXTSEL992','KK_KUNDENTYP', 'LNR','EINGEFUEGT_AM','GEBURTSJAHR']                 \n"
   ]
  },
  {
   "cell_type": "code",
   "execution_count": 16,
   "metadata": {},
   "outputs": [],
   "source": [
    "azdias_copy = azdias_copy.drop(drop_cols, axis=1)"
   ]
  },
  {
   "cell_type": "markdown",
   "metadata": {},
   "source": [
    "**Assess missing row data**"
   ]
  },
  {
   "cell_type": "code",
   "execution_count": 17,
   "metadata": {},
   "outputs": [
    {
     "data": {
      "image/png": "[encoded data removed]",
      "text/plain": [
       "<Figure size 1008x432 with 2 Axes>"
      ]
     },
     "metadata": {
      "needs_background": "light"
     },
     "output_type": "display_data"
    }
   ],
   "source": [
    "# How much data is missing in each row of the dataset?\n",
    "azdias_copy['row_nans'] = azdias_copy.isna().mean(axis=1) \n",
    "plot_graphs(azdias_copy['row_nans'], x_label='Proportion of missing values', y_label='# of rows', bin_size=0.01)"
   ]
  },
  {
   "cell_type": "code",
   "execution_count": 18,
   "metadata": {},
   "outputs": [],
   "source": [
    "# Divide the data into two subsets based on the number of missing\n",
    "# values in each row.\n",
    "boundary = 0.1\n",
    "low_nan = azdias_copy.loc[azdias_copy['row_nans'] < boundary, :]\n",
    "high_nan = azdias_copy.loc[azdias_copy['row_nans'] > boundary, :]\n"
   ]
  },
  {
   "cell_type": "code",
   "execution_count": 19,
   "metadata": {},
   "outputs": [
    {
     "data": {
      "text/plain": [
       "['NATIONALITAET_KZ',\n",
       " 'D19_GESAMT_OFFLINE_DATUM',\n",
       " 'D19_SONSTIGE',\n",
       " 'SEMIO_RAT',\n",
       " 'D19_GESAMT_ANZ_24',\n",
       " 'SEMIO_DOM',\n",
       " 'D19_BANKEN_LOKAL',\n",
       " 'D19_VERSAND_DATUM',\n",
       " 'ANREDE_KZ',\n",
       " 'D19_KOSMETIK',\n",
       " 'FINANZ_VORSORGER',\n",
       " 'D19_GARTEN',\n",
       " 'D19_VERSI_ANZ_12',\n",
       " 'SEMIO_MAT',\n",
       " 'D19_VERSAND_ONLINE_DATUM',\n",
       " 'D19_VOLLSORTIMENT',\n",
       " 'D19_GESAMT_ONLINE_DATUM',\n",
       " 'D19_VERSAND_OFFLINE_DATUM',\n",
       " 'D19_VERSAND_REST',\n",
       " 'SEMIO_TRADV',\n",
       " 'ZABEOTYP',\n",
       " 'D19_ENERGIE',\n",
       " 'D19_TELKO_ANZ_24',\n",
       " 'HEALTH_TYP',\n",
       " 'FINANZ_ANLEGER',\n",
       " 'D19_BANKEN_OFFLINE_DATUM',\n",
       " 'D19_BILDUNG',\n",
       " 'AGER_TYP',\n",
       " 'D19_RATGEBER',\n",
       " 'SEMIO_VERT',\n",
       " 'D19_BIO_OEKO',\n",
       " 'D19_VERSI_DATUM',\n",
       " 'FINANZTYP',\n",
       " 'SEMIO_ERL',\n",
       " 'row_nans',\n",
       " 'D19_LEBENSMITTEL',\n",
       " 'FINANZ_UNAUFFAELLIGER',\n",
       " 'D19_DIGIT_SERV',\n",
       " 'ALTERSKATEGORIE_GROB',\n",
       " 'SEMIO_KRIT',\n",
       " 'D19_BANKEN_ONLINE_DATUM',\n",
       " 'D19_TELKO_DATUM',\n",
       " 'VERS_TYP',\n",
       " 'D19_VERSAND_ANZ_24',\n",
       " 'D19_BANKEN_ANZ_24',\n",
       " 'D19_WEIN_FEINKOST',\n",
       " 'D19_REISEN',\n",
       " 'GREEN_AVANTGARDE',\n",
       " 'D19_SCHUHE',\n",
       " 'D19_TELKO_REST',\n",
       " 'D19_TIERARTIKEL',\n",
       " 'SEMIO_LUST',\n",
       " 'D19_GESAMT_DATUM',\n",
       " 'D19_TELKO_OFFLINE_DATUM',\n",
       " 'D19_NAHRUNGSERGAENZUNG',\n",
       " 'SEMIO_PFLICHT',\n",
       " 'D19_BANKEN_DIREKT',\n",
       " 'D19_SAMMELARTIKEL',\n",
       " 'D19_VERSICHERUNGEN',\n",
       " 'D19_KONSUMTYP_MAX',\n",
       " 'D19_HANDWERK',\n",
       " 'SHOPPER_TYP',\n",
       " 'D19_FREIZEIT',\n",
       " 'FINANZ_SPARER',\n",
       " 'D19_TELKO_ANZ_12',\n",
       " 'D19_VERSI_OFFLINE_DATUM',\n",
       " 'D19_HAUS_DEKO',\n",
       " 'D19_BEKLEIDUNG_GEH',\n",
       " 'D19_GESAMT_ANZ_12',\n",
       " 'SEMIO_SOZ',\n",
       " 'D19_TELKO_ONLINE_DATUM',\n",
       " 'PRAEGENDE_JUGENDJAHRE',\n",
       " 'FINANZ_HAUSBAUER',\n",
       " 'SEMIO_REL',\n",
       " 'D19_BEKLEIDUNG_REST',\n",
       " 'FINANZ_MINIMALIST',\n",
       " 'D19_BANKEN_DATUM',\n",
       " 'D19_VERSI_ANZ_24',\n",
       " 'D19_TECHNIK',\n",
       " 'D19_BANKEN_GROSS',\n",
       " 'D19_BANKEN_REST',\n",
       " 'D19_VERSAND_ANZ_12',\n",
       " 'D19_VERSI_ONLINE_DATUM',\n",
       " 'KOMBIALTER',\n",
       " 'SEMIO_KAEM',\n",
       " 'SEMIO_KULT',\n",
       " 'D19_BANKEN_ANZ_12',\n",
       " 'D19_BUCH_CD',\n",
       " 'D19_TELKO_MOBILE',\n",
       " 'SEMIO_FAM',\n",
       " 'D19_DROGERIEARTIKEL',\n",
       " 'D19_KINDERARTIKEL']"
      ]
     },
     "execution_count": 19,
     "metadata": {},
     "output_type": "execute_result"
    }
   ],
   "source": [
    "# Compare the distribution of values for at least five columns where there are\n",
    "# no or few missing values, between the two subsets.\n",
    "val_dist = list(set(low_nan.dropna(axis=1).columns).intersection(high_nan.dropna(axis=1).columns))\n",
    "val_dist"
   ]
  },
  {
   "cell_type": "code",
   "execution_count": 20,
   "metadata": {},
   "outputs": [],
   "source": [
    "# Drop the 'row_nans' column\n",
    "val_dist.remove('row_nans')"
   ]
  },
  {
   "cell_type": "code",
   "execution_count": 21,
   "metadata": {},
   "outputs": [],
   "source": [
    "azdias_copy = low_nan"
   ]
  },
  {
   "cell_type": "code",
   "execution_count": 23,
   "metadata": {},
   "outputs": [
    {
     "data": {
      "image/png": "[encoded data removed]",
      "text/plain": [
       "<Figure size 720x360 with 2 Axes>"
      ]
     },
     "metadata": {
      "needs_background": "light"
     },
     "output_type": "display_data"
    },
    {
     "data": {
      "image/png": "[encoded data removed]",
      "text/plain": [
       "<Figure size 720x360 with 2 Axes>"
      ]
     },
     "metadata": {
      "needs_background": "light"
     },
     "output_type": "display_data"
    },
    {
     "data": {
      "image/png": "[encoded data removed]",
      "text/plain": [
       "<Figure size 720x360 with 2 Axes>"
      ]
     },
     "metadata": {
      "needs_background": "light"
     },
     "output_type": "display_data"
    },
    {
     "data": {
      "image/png": "[encoded data removed]",
      "text/plain": [
       "<Figure size 720x360 with 2 Axes>"
      ]
     },
     "metadata": {
      "needs_background": "light"
     },
     "output_type": "display_data"
    },
    {
     "data": {
      "image/png": "[encoded data removed]",
      "text/plain": [
       "<Figure size 720x360 with 2 Axes>"
      ]
     },
     "metadata": {
      "needs_background": "light"
     },
     "output_type": "display_data"
    },
    {
     "data": {
      "image/png": "[encoded data removed]",
      "text/plain": [
       "<Figure size 720x360 with 2 Axes>"
      ]
     },
     "metadata": {
      "needs_background": "light"
     },
     "output_type": "display_data"
    }
   ],
   "source": [
    "#value distribution plots for five columns with few missing vals\n",
    "for col in val_dist[:6]:\n",
    "    fig, axes = plt.subplots(1,2, figsize= (10,5), sharey=True)\n",
    "    sns.countplot(low_nan[col], ax=axes[0], color='pink')\n",
    "    sns.countplot(high_nan[col], ax=axes[1], color='g')"
   ]
  },
  {
   "cell_type": "code",
   "execution_count": 24,
   "metadata": {},
   "outputs": [
    {
     "data": {
      "text/html": [
       "<div>\n",
       "<style scoped>\n",
       "    .dataframe tbody tr th:only-of-type {\n",
       "        vertical-align: middle;\n",
       "    }\n",
       "\n",
       "    .dataframe tbody tr th {\n",
       "        vertical-align: top;\n",
       "    }\n",
       "\n",
       "    .dataframe thead th {\n",
       "        text-align: right;\n",
       "    }\n",
       "</style>\n",
       "<table border=\"1\" class=\"dataframe\">\n",
       "  <thead>\n",
       "    <tr style=\"text-align: right;\">\n",
       "      <th></th>\n",
       "      <th>AGER_TYP</th>\n",
       "      <th>AKT_DAT_KL</th>\n",
       "      <th>ALTER_HH</th>\n",
       "      <th>ALTERSKATEGORIE_FEIN</th>\n",
       "      <th>ANZ_HAUSHALTE_AKTIV</th>\n",
       "      <th>ANZ_HH_TITEL</th>\n",
       "      <th>ANZ_KINDER</th>\n",
       "      <th>ANZ_PERSONEN</th>\n",
       "      <th>ANZ_STATISTISCHE_HAUSHALTE</th>\n",
       "      <th>ANZ_TITEL</th>\n",
       "      <th>...</th>\n",
       "      <th>VHN</th>\n",
       "      <th>VK_DHT4A</th>\n",
       "      <th>VK_DISTANZ</th>\n",
       "      <th>VK_ZG11</th>\n",
       "      <th>W_KEIT_KIND_HH</th>\n",
       "      <th>WOHNDAUER_2008</th>\n",
       "      <th>WOHNLAGE</th>\n",
       "      <th>ZABEOTYP</th>\n",
       "      <th>ANREDE_KZ</th>\n",
       "      <th>ALTERSKATEGORIE_GROB</th>\n",
       "    </tr>\n",
       "  </thead>\n",
       "  <tbody>\n",
       "    <tr>\n",
       "      <th>1</th>\n",
       "      <td>-1</td>\n",
       "      <td>9.0</td>\n",
       "      <td>0.0</td>\n",
       "      <td>21.0</td>\n",
       "      <td>11.0</td>\n",
       "      <td>0.0</td>\n",
       "      <td>0.0</td>\n",
       "      <td>2.0</td>\n",
       "      <td>12.0</td>\n",
       "      <td>0.0</td>\n",
       "      <td>...</td>\n",
       "      <td>4.0</td>\n",
       "      <td>8.0</td>\n",
       "      <td>11.0</td>\n",
       "      <td>10.0</td>\n",
       "      <td>3.0</td>\n",
       "      <td>9.0</td>\n",
       "      <td>4.0</td>\n",
       "      <td>5</td>\n",
       "      <td>2</td>\n",
       "      <td>1</td>\n",
       "    </tr>\n",
       "    <tr>\n",
       "      <th>2</th>\n",
       "      <td>-1</td>\n",
       "      <td>9.0</td>\n",
       "      <td>17.0</td>\n",
       "      <td>17.0</td>\n",
       "      <td>10.0</td>\n",
       "      <td>0.0</td>\n",
       "      <td>0.0</td>\n",
       "      <td>1.0</td>\n",
       "      <td>7.0</td>\n",
       "      <td>0.0</td>\n",
       "      <td>...</td>\n",
       "      <td>2.0</td>\n",
       "      <td>9.0</td>\n",
       "      <td>9.0</td>\n",
       "      <td>6.0</td>\n",
       "      <td>3.0</td>\n",
       "      <td>9.0</td>\n",
       "      <td>2.0</td>\n",
       "      <td>5</td>\n",
       "      <td>2</td>\n",
       "      <td>3</td>\n",
       "    </tr>\n",
       "    <tr>\n",
       "      <th>3</th>\n",
       "      <td>2</td>\n",
       "      <td>1.0</td>\n",
       "      <td>13.0</td>\n",
       "      <td>13.0</td>\n",
       "      <td>1.0</td>\n",
       "      <td>0.0</td>\n",
       "      <td>0.0</td>\n",
       "      <td>0.0</td>\n",
       "      <td>2.0</td>\n",
       "      <td>0.0</td>\n",
       "      <td>...</td>\n",
       "      <td>0.0</td>\n",
       "      <td>7.0</td>\n",
       "      <td>10.0</td>\n",
       "      <td>11.0</td>\n",
       "      <td>NaN</td>\n",
       "      <td>9.0</td>\n",
       "      <td>7.0</td>\n",
       "      <td>3</td>\n",
       "      <td>2</td>\n",
       "      <td>4</td>\n",
       "    </tr>\n",
       "    <tr>\n",
       "      <th>4</th>\n",
       "      <td>-1</td>\n",
       "      <td>1.0</td>\n",
       "      <td>20.0</td>\n",
       "      <td>14.0</td>\n",
       "      <td>3.0</td>\n",
       "      <td>0.0</td>\n",
       "      <td>0.0</td>\n",
       "      <td>4.0</td>\n",
       "      <td>3.0</td>\n",
       "      <td>0.0</td>\n",
       "      <td>...</td>\n",
       "      <td>2.0</td>\n",
       "      <td>3.0</td>\n",
       "      <td>5.0</td>\n",
       "      <td>4.0</td>\n",
       "      <td>2.0</td>\n",
       "      <td>9.0</td>\n",
       "      <td>3.0</td>\n",
       "      <td>4</td>\n",
       "      <td>1</td>\n",
       "      <td>3</td>\n",
       "    </tr>\n",
       "    <tr>\n",
       "      <th>5</th>\n",
       "      <td>3</td>\n",
       "      <td>1.0</td>\n",
       "      <td>10.0</td>\n",
       "      <td>10.0</td>\n",
       "      <td>5.0</td>\n",
       "      <td>0.0</td>\n",
       "      <td>0.0</td>\n",
       "      <td>1.0</td>\n",
       "      <td>2.0</td>\n",
       "      <td>0.0</td>\n",
       "      <td>...</td>\n",
       "      <td>2.0</td>\n",
       "      <td>10.0</td>\n",
       "      <td>7.0</td>\n",
       "      <td>4.0</td>\n",
       "      <td>6.0</td>\n",
       "      <td>9.0</td>\n",
       "      <td>7.0</td>\n",
       "      <td>4</td>\n",
       "      <td>2</td>\n",
       "      <td>1</td>\n",
       "    </tr>\n",
       "  </tbody>\n",
       "</table>\n",
       "<p>5 rows × 357 columns</p>\n",
       "</div>"
      ],
      "text/plain": [
       "   AGER_TYP  AKT_DAT_KL  ALTER_HH  ALTERSKATEGORIE_FEIN  ANZ_HAUSHALTE_AKTIV  \\\n",
       "1        -1         9.0       0.0                  21.0                 11.0   \n",
       "2        -1         9.0      17.0                  17.0                 10.0   \n",
       "3         2         1.0      13.0                  13.0                  1.0   \n",
       "4        -1         1.0      20.0                  14.0                  3.0   \n",
       "5         3         1.0      10.0                  10.0                  5.0   \n",
       "\n",
       "   ANZ_HH_TITEL  ANZ_KINDER  ANZ_PERSONEN  ANZ_STATISTISCHE_HAUSHALTE  \\\n",
       "1           0.0         0.0           2.0                        12.0   \n",
       "2           0.0         0.0           1.0                         7.0   \n",
       "3           0.0         0.0           0.0                         2.0   \n",
       "4           0.0         0.0           4.0                         3.0   \n",
       "5           0.0         0.0           1.0                         2.0   \n",
       "\n",
       "   ANZ_TITEL  ...  VHN  VK_DHT4A VK_DISTANZ VK_ZG11 W_KEIT_KIND_HH  \\\n",
       "1        0.0  ...  4.0       8.0       11.0    10.0            3.0   \n",
       "2        0.0  ...  2.0       9.0        9.0     6.0            3.0   \n",
       "3        0.0  ...  0.0       7.0       10.0    11.0            NaN   \n",
       "4        0.0  ...  2.0       3.0        5.0     4.0            2.0   \n",
       "5        0.0  ...  2.0      10.0        7.0     4.0            6.0   \n",
       "\n",
       "   WOHNDAUER_2008  WOHNLAGE  ZABEOTYP  ANREDE_KZ  ALTERSKATEGORIE_GROB  \n",
       "1             9.0       4.0         5          2                     1  \n",
       "2             9.0       2.0         5          2                     3  \n",
       "3             9.0       7.0         3          2                     4  \n",
       "4             9.0       3.0         4          1                     3  \n",
       "5             9.0       7.0         4          2                     1  \n",
       "\n",
       "[5 rows x 357 columns]"
      ]
     },
     "execution_count": 24,
     "metadata": {},
     "output_type": "execute_result"
    }
   ],
   "source": [
    "# Drop the row nan percentage row from azdias_copy\n",
    "df = azdias_copy[azdias_copy.columns[:-1]]\n",
    "df.head()"
   ]
  },
  {
   "cell_type": "code",
   "execution_count": 25,
   "metadata": {},
   "outputs": [
    {
     "data": {
      "text/plain": [
       "(751324, 357)"
      ]
     },
     "execution_count": 25,
     "metadata": {},
     "output_type": "execute_result"
    }
   ],
   "source": [
    "df.shape"
   ]
  },
  {
   "cell_type": "markdown",
   "metadata": {},
   "source": [
    "## Part 1: Customer Segmentation Report\n",
    "\n",
    "The main bulk of your analysis will come in this part of the project. Here, you should use unsupervised learning techniques to describe the relationship between the demographics of the company's existing customers and the general population of Germany. By the end of this part, you should be able to describe parts of the general population that are more likely to be part of the mail-order company's main customer base, and which parts of the general population are less so."
   ]
  },
  {
   "cell_type": "code",
   "execution_count": 26,
   "metadata": {},
   "outputs": [
    {
     "data": {
      "text/html": [
       "<div>\n",
       "<style scoped>\n",
       "    .dataframe tbody tr th:only-of-type {\n",
       "        vertical-align: middle;\n",
       "    }\n",
       "\n",
       "    .dataframe tbody tr th {\n",
       "        vertical-align: top;\n",
       "    }\n",
       "\n",
       "    .dataframe thead th {\n",
       "        text-align: right;\n",
       "    }\n",
       "</style>\n",
       "<table border=\"1\" class=\"dataframe\">\n",
       "  <thead>\n",
       "    <tr style=\"text-align: right;\">\n",
       "      <th></th>\n",
       "      <th>column</th>\n",
       "      <th>missing_unknown</th>\n",
       "    </tr>\n",
       "  </thead>\n",
       "  <tbody>\n",
       "    <tr>\n",
       "      <th>0</th>\n",
       "      <td>AGER_TYP</td>\n",
       "      <td>['-1']</td>\n",
       "    </tr>\n",
       "    <tr>\n",
       "      <th>1</th>\n",
       "      <td>ALTERSKATEGORIE_GROB</td>\n",
       "      <td>['-1','0']</td>\n",
       "    </tr>\n",
       "    <tr>\n",
       "      <th>2</th>\n",
       "      <td>ANREDE_KZ</td>\n",
       "      <td>['-1','0']</td>\n",
       "    </tr>\n",
       "    <tr>\n",
       "      <th>3</th>\n",
       "      <td>BALLRAUM</td>\n",
       "      <td>['-1']</td>\n",
       "    </tr>\n",
       "    <tr>\n",
       "      <th>4</th>\n",
       "      <td>CAMEO_DEUG_2015</td>\n",
       "      <td>['-1','X']</td>\n",
       "    </tr>\n",
       "  </tbody>\n",
       "</table>\n",
       "</div>"
      ],
      "text/plain": [
       "                 column missing_unknown\n",
       "0              AGER_TYP          ['-1']\n",
       "1  ALTERSKATEGORIE_GROB      ['-1','0']\n",
       "2             ANREDE_KZ      ['-1','0']\n",
       "3              BALLRAUM          ['-1']\n",
       "4       CAMEO_DEUG_2015      ['-1','X']"
      ]
     },
     "execution_count": 26,
     "metadata": {},
     "output_type": "execute_result"
    }
   ],
   "source": [
    "\n",
    "body = client_a858d8f03f374020bfd0da2bb1a90a17.get_object(Bucket='udacity-donotdelete-pr-cg1e1uk11mv7lb',Key='missing_vals.csv')['Body']\n",
    "# add missing __iter__ method, so pandas accepts body as file-like object\n",
    "if not hasattr(body, \"__iter__\"): body.__iter__ = types.MethodType( __iter__, body )\n",
    "\n",
    "nan_df = pd.read_csv(body)\n",
    "nan_df.head()\n"
   ]
  },
  {
   "cell_type": "code",
   "execution_count": 27,
   "metadata": {},
   "outputs": [
    {
     "data": {
      "text/html": [
       "<div>\n",
       "<style scoped>\n",
       "    .dataframe tbody tr th:only-of-type {\n",
       "        vertical-align: middle;\n",
       "    }\n",
       "\n",
       "    .dataframe tbody tr th {\n",
       "        vertical-align: top;\n",
       "    }\n",
       "\n",
       "    .dataframe thead th {\n",
       "        text-align: right;\n",
       "    }\n",
       "</style>\n",
       "<table border=\"1\" class=\"dataframe\">\n",
       "  <thead>\n",
       "    <tr style=\"text-align: right;\">\n",
       "      <th></th>\n",
       "      <th>column</th>\n",
       "      <th>missing_unknown</th>\n",
       "    </tr>\n",
       "  </thead>\n",
       "  <tbody>\n",
       "    <tr>\n",
       "      <th>0</th>\n",
       "      <td>AGER_TYP</td>\n",
       "      <td>[-1]</td>\n",
       "    </tr>\n",
       "    <tr>\n",
       "      <th>1</th>\n",
       "      <td>ALTERSKATEGORIE_GROB</td>\n",
       "      <td>[-1, 0]</td>\n",
       "    </tr>\n",
       "    <tr>\n",
       "      <th>2</th>\n",
       "      <td>ANREDE_KZ</td>\n",
       "      <td>[-1, 0]</td>\n",
       "    </tr>\n",
       "    <tr>\n",
       "      <th>3</th>\n",
       "      <td>BALLRAUM</td>\n",
       "      <td>[-1]</td>\n",
       "    </tr>\n",
       "    <tr>\n",
       "      <th>4</th>\n",
       "      <td>CAMEO_DEUG_2015</td>\n",
       "      <td>[-1, X]</td>\n",
       "    </tr>\n",
       "  </tbody>\n",
       "</table>\n",
       "</div>"
      ],
      "text/plain": [
       "                 column missing_unknown\n",
       "0              AGER_TYP            [-1]\n",
       "1  ALTERSKATEGORIE_GROB         [-1, 0]\n",
       "2             ANREDE_KZ         [-1, 0]\n",
       "3              BALLRAUM            [-1]\n",
       "4       CAMEO_DEUG_2015         [-1, X]"
      ]
     },
     "execution_count": 27,
     "metadata": {},
     "output_type": "execute_result"
    }
   ],
   "source": [
    "\n",
    "#the lists became strings -> lexing and parsing\n",
    "nan_df['missing_unknown'] = nan_df['missing_unknown'].apply(lambda x: x.replace('[','').replace(']','').replace(\"'\",'').split(','))\n",
    "nan_df.head()"
   ]
  },
  {
   "cell_type": "code",
   "execution_count": 28,
   "metadata": {},
   "outputs": [
    {
     "name": "stdout",
     "output_type": "stream",
     "text": [
      "Requirement already satisfied: progressbar in /opt/conda/envs/Python-3.6-CUDA/lib/python3.6/site-packages (2.5)\r\n"
     ]
    }
   ],
   "source": [
    "import sys\n",
    "!{sys.executable} -m pip install progressbar"
   ]
  },
  {
   "cell_type": "code",
   "execution_count": 29,
   "metadata": {},
   "outputs": [],
   "source": [
    "import progressbar"
   ]
  },
  {
   "cell_type": "code",
   "execution_count": 30,
   "metadata": {},
   "outputs": [
    {
     "name": "stderr",
     "output_type": "stream",
     "text": [
      "/opt/conda/envs/Python-3.6-CUDA/lib/python3.6/site-packages/pandas/core/indexing.py:543: SettingWithCopyWarning: \n",
      "A value is trying to be set on a copy of a slice from a DataFrame.\n",
      "Try using .loc[row_indexer,col_indexer] = value instead\n",
      "\n",
      "See the caveats in the documentation: http://pandas.pydata.org/pandas-docs/stable/indexing.html#indexing-view-versus-copy\n",
      "  self.obj[item] = s\n",
      "[->->->->->->->->->->->->->->->->->->->->->->->->->->->->->->->->->->->->->->->->->->->->->->->->->->->->->->->->->->->->->->->->->->->->->->->->] 100%\n"
     ]
    }
   ],
   "source": [
    "def convert_to_nans(df):\n",
    "    #This function will go throu all columns in the loaded file and will change nan representing values to np.nan \n",
    "    bar = progressbar.ProgressBar(maxval=len(nan_df['column'])+1, widgets=[progressbar.Bar('->', '[', ']'), ' ', progressbar.Percentage()])\n",
    "    bar.start()\n",
    "    counter=0\n",
    "    for col in nan_df['column']:\n",
    "        for i in nan_df.query('column == @col')['missing_unknown'].values[0]:\n",
    "            if i not in ['XX','X','']:\n",
    "                i=np.float64(i)\n",
    "            if i == '':\n",
    "                i = np.nan\n",
    "            try:\n",
    "                df.loc[df[col] == i, col] = np.nan\n",
    "            except:\n",
    "                print('error in {}'.format(col))\n",
    "        counter+=1\n",
    "        bar.update(counter)\n",
    "    bar.finish()\n",
    "    return df\n",
    "df = convert_to_nans(df)\n",
    "\n"
   ]
  },
  {
   "cell_type": "code",
   "execution_count": 31,
   "metadata": {},
   "outputs": [
    {
     "data": {
      "text/html": [
       "<div>\n",
       "<style scoped>\n",
       "    .dataframe tbody tr th:only-of-type {\n",
       "        vertical-align: middle;\n",
       "    }\n",
       "\n",
       "    .dataframe tbody tr th {\n",
       "        vertical-align: top;\n",
       "    }\n",
       "\n",
       "    .dataframe thead th {\n",
       "        text-align: right;\n",
       "    }\n",
       "</style>\n",
       "<table border=\"1\" class=\"dataframe\">\n",
       "  <thead>\n",
       "    <tr style=\"text-align: right;\">\n",
       "      <th></th>\n",
       "      <th>AGER_TYP</th>\n",
       "      <th>AKT_DAT_KL</th>\n",
       "      <th>ALTER_HH</th>\n",
       "      <th>ALTERSKATEGORIE_FEIN</th>\n",
       "      <th>ANZ_HAUSHALTE_AKTIV</th>\n",
       "      <th>ANZ_HH_TITEL</th>\n",
       "      <th>ANZ_KINDER</th>\n",
       "      <th>ANZ_PERSONEN</th>\n",
       "      <th>ANZ_STATISTISCHE_HAUSHALTE</th>\n",
       "      <th>ANZ_TITEL</th>\n",
       "      <th>...</th>\n",
       "      <th>VHN</th>\n",
       "      <th>VK_DHT4A</th>\n",
       "      <th>VK_DISTANZ</th>\n",
       "      <th>VK_ZG11</th>\n",
       "      <th>W_KEIT_KIND_HH</th>\n",
       "      <th>WOHNDAUER_2008</th>\n",
       "      <th>WOHNLAGE</th>\n",
       "      <th>ZABEOTYP</th>\n",
       "      <th>ANREDE_KZ</th>\n",
       "      <th>ALTERSKATEGORIE_GROB</th>\n",
       "    </tr>\n",
       "  </thead>\n",
       "  <tbody>\n",
       "    <tr>\n",
       "      <th>1</th>\n",
       "      <td>NaN</td>\n",
       "      <td>9.0</td>\n",
       "      <td>0.0</td>\n",
       "      <td>21.0</td>\n",
       "      <td>11.0</td>\n",
       "      <td>0.0</td>\n",
       "      <td>0.0</td>\n",
       "      <td>2.0</td>\n",
       "      <td>12.0</td>\n",
       "      <td>0.0</td>\n",
       "      <td>...</td>\n",
       "      <td>4.0</td>\n",
       "      <td>8.0</td>\n",
       "      <td>11.0</td>\n",
       "      <td>10.0</td>\n",
       "      <td>3.0</td>\n",
       "      <td>9.0</td>\n",
       "      <td>4.0</td>\n",
       "      <td>5.0</td>\n",
       "      <td>2.0</td>\n",
       "      <td>1.0</td>\n",
       "    </tr>\n",
       "    <tr>\n",
       "      <th>2</th>\n",
       "      <td>NaN</td>\n",
       "      <td>9.0</td>\n",
       "      <td>17.0</td>\n",
       "      <td>17.0</td>\n",
       "      <td>10.0</td>\n",
       "      <td>0.0</td>\n",
       "      <td>0.0</td>\n",
       "      <td>1.0</td>\n",
       "      <td>7.0</td>\n",
       "      <td>0.0</td>\n",
       "      <td>...</td>\n",
       "      <td>2.0</td>\n",
       "      <td>9.0</td>\n",
       "      <td>9.0</td>\n",
       "      <td>6.0</td>\n",
       "      <td>3.0</td>\n",
       "      <td>9.0</td>\n",
       "      <td>2.0</td>\n",
       "      <td>5.0</td>\n",
       "      <td>2.0</td>\n",
       "      <td>3.0</td>\n",
       "    </tr>\n",
       "    <tr>\n",
       "      <th>3</th>\n",
       "      <td>2.0</td>\n",
       "      <td>1.0</td>\n",
       "      <td>13.0</td>\n",
       "      <td>13.0</td>\n",
       "      <td>1.0</td>\n",
       "      <td>0.0</td>\n",
       "      <td>0.0</td>\n",
       "      <td>0.0</td>\n",
       "      <td>2.0</td>\n",
       "      <td>0.0</td>\n",
       "      <td>...</td>\n",
       "      <td>0.0</td>\n",
       "      <td>7.0</td>\n",
       "      <td>10.0</td>\n",
       "      <td>11.0</td>\n",
       "      <td>NaN</td>\n",
       "      <td>9.0</td>\n",
       "      <td>7.0</td>\n",
       "      <td>3.0</td>\n",
       "      <td>2.0</td>\n",
       "      <td>4.0</td>\n",
       "    </tr>\n",
       "    <tr>\n",
       "      <th>4</th>\n",
       "      <td>NaN</td>\n",
       "      <td>1.0</td>\n",
       "      <td>20.0</td>\n",
       "      <td>14.0</td>\n",
       "      <td>3.0</td>\n",
       "      <td>0.0</td>\n",
       "      <td>0.0</td>\n",
       "      <td>4.0</td>\n",
       "      <td>3.0</td>\n",
       "      <td>0.0</td>\n",
       "      <td>...</td>\n",
       "      <td>2.0</td>\n",
       "      <td>3.0</td>\n",
       "      <td>5.0</td>\n",
       "      <td>4.0</td>\n",
       "      <td>2.0</td>\n",
       "      <td>9.0</td>\n",
       "      <td>3.0</td>\n",
       "      <td>4.0</td>\n",
       "      <td>1.0</td>\n",
       "      <td>3.0</td>\n",
       "    </tr>\n",
       "    <tr>\n",
       "      <th>5</th>\n",
       "      <td>3.0</td>\n",
       "      <td>1.0</td>\n",
       "      <td>10.0</td>\n",
       "      <td>10.0</td>\n",
       "      <td>5.0</td>\n",
       "      <td>0.0</td>\n",
       "      <td>0.0</td>\n",
       "      <td>1.0</td>\n",
       "      <td>2.0</td>\n",
       "      <td>0.0</td>\n",
       "      <td>...</td>\n",
       "      <td>2.0</td>\n",
       "      <td>10.0</td>\n",
       "      <td>7.0</td>\n",
       "      <td>4.0</td>\n",
       "      <td>6.0</td>\n",
       "      <td>9.0</td>\n",
       "      <td>7.0</td>\n",
       "      <td>4.0</td>\n",
       "      <td>2.0</td>\n",
       "      <td>1.0</td>\n",
       "    </tr>\n",
       "  </tbody>\n",
       "</table>\n",
       "<p>5 rows × 357 columns</p>\n",
       "</div>"
      ],
      "text/plain": [
       "   AGER_TYP  AKT_DAT_KL  ALTER_HH  ALTERSKATEGORIE_FEIN  ANZ_HAUSHALTE_AKTIV  \\\n",
       "1       NaN         9.0       0.0                  21.0                 11.0   \n",
       "2       NaN         9.0      17.0                  17.0                 10.0   \n",
       "3       2.0         1.0      13.0                  13.0                  1.0   \n",
       "4       NaN         1.0      20.0                  14.0                  3.0   \n",
       "5       3.0         1.0      10.0                  10.0                  5.0   \n",
       "\n",
       "   ANZ_HH_TITEL  ANZ_KINDER  ANZ_PERSONEN  ANZ_STATISTISCHE_HAUSHALTE  \\\n",
       "1           0.0         0.0           2.0                        12.0   \n",
       "2           0.0         0.0           1.0                         7.0   \n",
       "3           0.0         0.0           0.0                         2.0   \n",
       "4           0.0         0.0           4.0                         3.0   \n",
       "5           0.0         0.0           1.0                         2.0   \n",
       "\n",
       "   ANZ_TITEL  ...  VHN  VK_DHT4A VK_DISTANZ VK_ZG11 W_KEIT_KIND_HH  \\\n",
       "1        0.0  ...  4.0       8.0       11.0    10.0            3.0   \n",
       "2        0.0  ...  2.0       9.0        9.0     6.0            3.0   \n",
       "3        0.0  ...  0.0       7.0       10.0    11.0            NaN   \n",
       "4        0.0  ...  2.0       3.0        5.0     4.0            2.0   \n",
       "5        0.0  ...  2.0      10.0        7.0     4.0            6.0   \n",
       "\n",
       "   WOHNDAUER_2008  WOHNLAGE  ZABEOTYP  ANREDE_KZ  ALTERSKATEGORIE_GROB  \n",
       "1             9.0       4.0       5.0        2.0                   1.0  \n",
       "2             9.0       2.0       5.0        2.0                   3.0  \n",
       "3             9.0       7.0       3.0        2.0                   4.0  \n",
       "4             9.0       3.0       4.0        1.0                   3.0  \n",
       "5             9.0       7.0       4.0        2.0                   1.0  \n",
       "\n",
       "[5 rows x 357 columns]"
      ]
     },
     "execution_count": 31,
     "metadata": {},
     "output_type": "execute_result"
    }
   ],
   "source": [
    "df.head()"
   ]
  },
  {
   "cell_type": "code",
   "execution_count": 32,
   "metadata": {},
   "outputs": [],
   "source": [
    "#check which columns are categorical\n",
    "df_cat = df[df.columns[df.dtypes == 'object'].values]"
   ]
  },
  {
   "cell_type": "code",
   "execution_count": 33,
   "metadata": {},
   "outputs": [
    {
     "data": {
      "text/html": [
       "<div>\n",
       "<style scoped>\n",
       "    .dataframe tbody tr th:only-of-type {\n",
       "        vertical-align: middle;\n",
       "    }\n",
       "\n",
       "    .dataframe tbody tr th {\n",
       "        vertical-align: top;\n",
       "    }\n",
       "\n",
       "    .dataframe thead th {\n",
       "        text-align: right;\n",
       "    }\n",
       "</style>\n",
       "<table border=\"1\" class=\"dataframe\">\n",
       "  <thead>\n",
       "    <tr style=\"text-align: right;\">\n",
       "      <th></th>\n",
       "      <th>CAMEO_DEU_2015</th>\n",
       "      <th>CAMEO_DEUG_2015</th>\n",
       "      <th>CAMEO_INTL_2015</th>\n",
       "      <th>D19_LETZTER_KAUF_BRANCHE</th>\n",
       "      <th>OST_WEST_KZ</th>\n",
       "    </tr>\n",
       "  </thead>\n",
       "  <tbody>\n",
       "    <tr>\n",
       "      <th>1</th>\n",
       "      <td>8A</td>\n",
       "      <td>8</td>\n",
       "      <td>51</td>\n",
       "      <td>NaN</td>\n",
       "      <td>W</td>\n",
       "    </tr>\n",
       "    <tr>\n",
       "      <th>2</th>\n",
       "      <td>4C</td>\n",
       "      <td>4</td>\n",
       "      <td>24</td>\n",
       "      <td>D19_UNBEKANNT</td>\n",
       "      <td>W</td>\n",
       "    </tr>\n",
       "    <tr>\n",
       "      <th>3</th>\n",
       "      <td>2A</td>\n",
       "      <td>2</td>\n",
       "      <td>12</td>\n",
       "      <td>D19_UNBEKANNT</td>\n",
       "      <td>W</td>\n",
       "    </tr>\n",
       "    <tr>\n",
       "      <th>4</th>\n",
       "      <td>6B</td>\n",
       "      <td>6</td>\n",
       "      <td>43</td>\n",
       "      <td>D19_SCHUHE</td>\n",
       "      <td>W</td>\n",
       "    </tr>\n",
       "    <tr>\n",
       "      <th>5</th>\n",
       "      <td>8C</td>\n",
       "      <td>8</td>\n",
       "      <td>54</td>\n",
       "      <td>D19_ENERGIE</td>\n",
       "      <td>W</td>\n",
       "    </tr>\n",
       "  </tbody>\n",
       "</table>\n",
       "</div>"
      ],
      "text/plain": [
       "  CAMEO_DEU_2015 CAMEO_DEUG_2015 CAMEO_INTL_2015 D19_LETZTER_KAUF_BRANCHE  \\\n",
       "1             8A               8              51                      NaN   \n",
       "2             4C               4              24            D19_UNBEKANNT   \n",
       "3             2A               2              12            D19_UNBEKANNT   \n",
       "4             6B               6              43               D19_SCHUHE   \n",
       "5             8C               8              54              D19_ENERGIE   \n",
       "\n",
       "  OST_WEST_KZ  \n",
       "1           W  \n",
       "2           W  \n",
       "3           W  \n",
       "4           W  \n",
       "5           W  "
      ]
     },
     "execution_count": 33,
     "metadata": {},
     "output_type": "execute_result"
    }
   ],
   "source": [
    "df_cat.head()\n"
   ]
  },
  {
   "cell_type": "markdown",
   "metadata": {},
   "source": [
    "### Re-Encode Categorical Features\n",
    "OST_WEST_KZ: Building location via former East / West Germany (GDR / FRG) (O: East (GDR), W: West (FRG)) this is a binary categorical feature so instead of putting O and W we can change it to 0 and 1 to make it easier for the model to work with.\n",
    "\n",
    "CAMEO_DEUG_2015 German CAMEO: Wealth / Life Stage Typology, rough scale (1: upper class, 9: urban working class) has numerical values but is stored as an object. This multilevel categorical feature and can be transformed to int64.\n",
    "\n",
    "CAMEO_DEU_2015 ( Wealth / Life Stage Typology) )is more confusing since it has 44 different value types. Wealth / Life Stage Typology. This can be dropped since it has too much information to re-encode for our model."
   ]
  },
  {
   "cell_type": "code",
   "execution_count": 34,
   "metadata": {},
   "outputs": [],
   "source": [
    "# Reencode OST_WEST_KZ to numeric 0/1\n",
    "df = df.copy()\n",
    "df['OST_WEST_KZ'] = df['OST_WEST_KZ'].replace({'O': 0, \n",
    "                                               'W': 1})"
   ]
  },
  {
   "cell_type": "code",
   "execution_count": 35,
   "metadata": {},
   "outputs": [],
   "source": [
    "\n",
    "#changes numbers that are saved as objects\n",
    "df['CAMEO_DEUG_2015'] = df['CAMEO_DEUG_2015'].apply(lambda x: int(x) if x==x else x )\n",
    "df['CAMEO_INTL_2015'] = df['CAMEO_INTL_2015'].apply(lambda x: int(x) if x==x else x )"
   ]
  },
  {
   "cell_type": "markdown",
   "metadata": {},
   "source": [
    "### Mixed_type feautures\n"
   ]
  },
  {
   "cell_type": "code",
   "execution_count": 36,
   "metadata": {},
   "outputs": [
    {
     "data": {
      "text/plain": [
       "555362    15.0\n",
       "304061    11.0\n",
       "64661      3.0\n",
       "150490     8.0\n",
       "568846     3.0\n",
       "662795     8.0\n",
       "472283    13.0\n",
       "103876     8.0\n",
       "83835      8.0\n",
       "774749     5.0\n",
       "83493     14.0\n",
       "832505    10.0\n",
       "600933    13.0\n",
       "595426     8.0\n",
       "181606    14.0\n",
       "489937    14.0\n",
       "7455      15.0\n",
       "241935    14.0\n",
       "694314     5.0\n",
       "837851     5.0\n",
       "Name: PRAEGENDE_JUGENDJAHRE, dtype: float64"
      ]
     },
     "execution_count": 36,
     "metadata": {},
     "output_type": "execute_result"
    }
   ],
   "source": [
    "# Investigate \"PRAEGENDE_JUGENDJAHRE\" and engineer two new variables.\n",
    "#(Dominating movement of person's youth (avantgarde vs. mainstream; east vs. west))\n",
    "df.PRAEGENDE_JUGENDJAHRE.sample(20)"
   ]
  },
  {
   "cell_type": "code",
   "execution_count": 37,
   "metadata": {},
   "outputs": [
    {
     "data": {
      "text/plain": [
       "15"
      ]
     },
     "execution_count": 37,
     "metadata": {},
     "output_type": "execute_result"
    }
   ],
   "source": [
    "df.PRAEGENDE_JUGENDJAHRE.nunique()"
   ]
  },
  {
   "cell_type": "markdown",
   "metadata": {},
   "source": [
    "About this feature:\n",
    "-  1: 40s - war years (Mainstream, E+W)\n",
    "-  2: 40s - reconstruction years (Avantgarde, E+W)\n",
    "-  3: 50s - economic miracle (Mainstream, E+W)\n",
    "-  4: 50s - milk bar / Individualisation (Avantgarde, E+W)\n",
    "-  5: 60s - economic miracle (Mainstream, E+W)\n",
    "-  6: 60s - generation 68 / student protestors (Avantgarde, W)\n",
    "-  7: 60s - opponents to the building of the Wall (Avantgarde, E)\n",
    "-  8: 70s - family orientation (Mainstream, E+W)\n",
    "-  9: 70s - peace movement (Avantgarde, E+W)\n",
    "- 10: 80s - Generation Golf (Mainstream, W)\n",
    "- 11: 80s - ecological awareness (Avantgarde, W)\n",
    "- 12: 80s - FDJ / communist party youth organisation (Mainstream, E)\n",
    "- 13: 80s - Swords into ploughshares (Avantgarde, E)\n",
    "- 14: 90s - digital media kids (Mainstream, E+W)\n",
    "- 15: 90s - ecological awareness (Avantgarde, E+W)"
   ]
  },
  {
   "cell_type": "markdown",
   "metadata": {},
   "source": [
    "Seems like for every decade there are two movements: Mainstream and Avantgarde. We can create two new variables that separate this by decade and by movement."
   ]
  },
  {
   "cell_type": "markdown",
   "metadata": {},
   "source": [
    "DECADE:\n",
    "\n",
    "Person’s decade of youth.\n",
    "\n",
    "1: 40s\n",
    "2: 50s\n",
    "3: 60s\n",
    "4: 70s\n",
    "5: 80s\n",
    "6: 90s\n",
    "    \n",
    "MOVEMENT:\n",
    "\n",
    "Person’s movement\n",
    "\n",
    "1: Mainstream\n",
    "2: Avantgarde"
   ]
  },
  {
   "cell_type": "code",
   "execution_count": 38,
   "metadata": {},
   "outputs": [],
   "source": [
    "decade_dict = {1: 1, 2: 1, 3: 2, 4: 2, 5: 3, 6: 3, 7:  3,\n",
    "               8: 4, 9: 4, 10: 5, 11: 5, 12: 5, 13: 5,\n",
    "               14: 6, 15: 6\n",
    "              }\n",
    "movement_dict = {1: 1, 3: 1, 5: 1, 8: 1, 10: 1, 12: 1, 14: 1,\n",
    "                2: 2, 4: 2, 6: 2, 7: 2, 9: 2, 11: 2, 13: 2, 15: 2\n",
    "                }\n",
    "\n",
    "\n",
    "# Ref: https://stackoverflow.com/questions/20250771/remap-values-in-pandas-column-with-a-dict\n",
    "df['DECADE'] = df['PRAEGENDE_JUGENDJAHRE'].map(decade_dict)\n",
    "df['MOVEMENT'] = df['PRAEGENDE_JUGENDJAHRE'].map(movement_dict)"
   ]
  },
  {
   "cell_type": "code",
   "execution_count": 39,
   "metadata": {},
   "outputs": [
    {
     "data": {
      "image/png": "[encoded data removed]",
      "text/plain": [
       "<Figure size 432x288 with 1 Axes>"
      ]
     },
     "metadata": {
      "needs_background": "light"
     },
     "output_type": "display_data"
    }
   ],
   "source": [
    "#Let's look at the distribution of this feature\n",
    "sns.countplot(data= df, x='PRAEGENDE_JUGENDJAHRE',color='darkblue');"
   ]
  },
  {
   "cell_type": "markdown",
   "metadata": {},
   "source": [
    "## Investigate \"CAMEO_INTL_2015\" and engineer two new variables.\n",
    "\n",
    "CAMEO_INTL_2015: Wealth / Life Stage Typology, mapped to international code\n",
    "\n",
    "-1: unknown\n",
    "11: Wealthy Households - Pre-Family Couples & Singles\n",
    "12: Wealthy Households - Young Couples With Children\n",
    "13: Wealthy Households - Families With School Age Children\n",
    "14: Wealthy Households - Older Families & Mature Couples\n",
    "15: Wealthy Households - Elders In Retirement\n",
    "21: Prosperous Households - Pre-Family Couples & Singles\n",
    "22: Prosperous Households - Young Couples With Children\n",
    "23: Prosperous Households - Families With School Age Children\n",
    "24: Prosperous Households - Older Families & Mature Couples\n",
    "25: Prosperous Households - Elders In Retirement\n",
    "31: Comfortable Households - Pre-Family Couples & Singles\n",
    "32: Comfortable Households - Young Couples With Children\n",
    "33: Comfortable Households - Families With School Age Children\n",
    "34: Comfortable Households - Older Families & Mature Couples\n",
    "35: Comfortable Households - Elders In Retirement\n",
    "41: Less Affluent Households - Pre-Family Couples & Singles\n",
    "42: Less Affluent Households - Young Couples With Children\n",
    "43: Less Affluent Households - Families With School Age Children\n",
    "44: Less Affluent Households - Older Families & Mature Couples\n",
    "45: Less Affluent Households - Elders In Retirement\n",
    "51: Poorer Households - Pre-Family Couples & Singles\n",
    "52: Poorer Households - Young Couples With Children\n",
    "53: Poorer Households - Families With School Age Children\n",
    "54: Poorer Households - Older Families & Mature Couples\n",
    "55: Poorer Households - Elders In Retirement\n",
    "XX: unknow"
   ]
  },
  {
   "cell_type": "code",
   "execution_count": 40,
   "metadata": {},
   "outputs": [
    {
     "data": {
      "text/plain": [
       "1     51.0\n",
       "2     24.0\n",
       "3     12.0\n",
       "4     43.0\n",
       "5     54.0\n",
       "6     22.0\n",
       "7     14.0\n",
       "8     13.0\n",
       "9     15.0\n",
       "10    51.0\n",
       "Name: CAMEO_INTL_2015, dtype: float64"
      ]
     },
     "execution_count": 40,
     "metadata": {},
     "output_type": "execute_result"
    }
   ],
   "source": [
    "df.CAMEO_INTL_2015.head(10)"
   ]
  },
  {
   "cell_type": "code",
   "execution_count": 41,
   "metadata": {},
   "outputs": [
    {
     "data": {
      "image/png": "[encoded data removed]",
      "text/plain": [
       "<Figure size 432x288 with 1 Axes>"
      ]
     },
     "metadata": {
      "needs_background": "light"
     },
     "output_type": "display_data"
    }
   ],
   "source": [
    "#Let's look at the distribution of this feature\n",
    "sns.countplot(data= df, x='CAMEO_INTL_2015',color='darkblue');"
   ]
  },
  {
   "cell_type": "markdown",
   "metadata": {},
   "source": [
    "New Variables:\n",
    "\n",
    "WEALTH:\n",
    "\n",
    "Household's wealth\n",
    "\n",
    "1: Wealthy Households\n",
    "2: Prosperous Households\n",
    "3: Comfortable Households\n",
    "4: Less Affluent Households\n",
    "5: Poorer Households\n",
    "    \n",
    "LIFE_STAGE:\n",
    "\n",
    "Person's Life Stage\n",
    "\n",
    "1: Pre-Family Couples & Singles\n",
    "2: Young Couples With Children\n",
    "3: Families With School Age Children\n",
    "4: Older Families & Mature Couples\n",
    "5: Elders In Retirement"
   ]
  },
  {
   "cell_type": "code",
   "execution_count": 42,
   "metadata": {},
   "outputs": [],
   "source": [
    "def break_digits(x, digit):\n",
    "    ''' Breaks up  two-digit codes by\n",
    "    'tens'-place and 'ones'-place digits\n",
    "    into two new ordinal variables.\n",
    "    Leaves NaNs unchanged'''\n",
    "\n",
    "    if not pd.isna(x):\n",
    "        if digit == 'first':\n",
    "            return int(str(x)[0])\n",
    "        elif digit == 'second':\n",
    "            return int(str(x)[1])\n",
    "    return x"
   ]
  },
  {
   "cell_type": "code",
   "execution_count": 43,
   "metadata": {},
   "outputs": [],
   "source": [
    "df['WEALTH'] = df['CAMEO_INTL_2015'].apply(break_digits, digit='first')\n",
    "df['LIFE_STAGE'] = df['CAMEO_INTL_2015'].apply(break_digits, digit='second')"
   ]
  },
  {
   "cell_type": "markdown",
   "metadata": {},
   "source": [
    "Based on the excel sheet:"
   ]
  },
  {
   "cell_type": "code",
   "execution_count": 44,
   "metadata": {},
   "outputs": [],
   "source": [
    "mixed_feats =  ['LP_LEBENSPHASE_FEIN', 'LP_LEBENSPHASE_GROB', 'PRAEGENDE_JUGENDJAHRE', 'WOHNLAGE', 'CAMEO_INTL_2015', 'PLZ8_BAUMAX']"
   ]
  },
  {
   "cell_type": "code",
   "execution_count": 45,
   "metadata": {},
   "outputs": [],
   "source": [
    "# Drop mixed features\n",
    "df = df.drop(mixed_feats, axis=1)"
   ]
  },
  {
   "cell_type": "markdown",
   "metadata": {},
   "source": [
    "#### Discussion 1.2.2: Engineer Mixed-Type Features\n",
    "For the PRAEGENDE_JUGENDJAHRE:\n",
    "Seems like for every decade there are two movements: Mainstream and Avantgarde. We can create two new variables that separate this by decade and by movement. This is how they were coded:\n",
    "\n",
    "DECADE:\n",
    "\n",
    "Person’s decade of youth.\n",
    "\n",
    "1: 40s 2: 50s 3: 60s 4: 70s 5: 80s 6: 90s\n",
    "\n",
    "MOVEMENT:\n",
    "\n",
    "Person’s movement\n",
    "\n",
    "1: Mainstream 2: Avantgarde\n",
    "\n",
    "For the CAMEO_INTL_2015, it was split between a person's wealth and life stage. In order to do this I had to use the original first digit of the value to represent the wealth and the second digit represents that person's life stage.\n",
    "\n",
    "The other mixed features can be dropped since they would overcomplicate the model."
   ]
  },
  {
   "cell_type": "markdown",
   "metadata": {},
   "source": [
    "#### Feature Selection"
   ]
  },
  {
   "cell_type": "code",
   "execution_count": 46,
   "metadata": {},
   "outputs": [
    {
     "data": {
      "text/plain": [
       "Index(['AGER_TYP', 'AKT_DAT_KL', 'ALTER_HH', 'ALTERSKATEGORIE_FEIN',\n",
       "       'ANZ_HAUSHALTE_AKTIV', 'ANZ_HH_TITEL', 'ANZ_KINDER', 'ANZ_PERSONEN',\n",
       "       'ANZ_STATISTISCHE_HAUSHALTE', 'ANZ_TITEL',\n",
       "       ...\n",
       "       'VK_ZG11', 'W_KEIT_KIND_HH', 'WOHNDAUER_2008', 'ZABEOTYP', 'ANREDE_KZ',\n",
       "       'ALTERSKATEGORIE_GROB', 'DECADE', 'MOVEMENT', 'WEALTH', 'LIFE_STAGE'],\n",
       "      dtype='object', length=355)"
      ]
     },
     "execution_count": 46,
     "metadata": {},
     "output_type": "execute_result"
    }
   ],
   "source": [
    "df.columns"
   ]
  },
  {
   "cell_type": "code",
   "execution_count": 47,
   "metadata": {},
   "outputs": [],
   "source": [
    "#float columns given by excel file\n",
    "float_columns = ['ANZ_HAUSHALTE_AKTIV',\n",
    "'ANZ_HH_TITEL',\n",
    "'ANZ_PERSONEN',\n",
    "'ANZ_TITEL',\n",
    "'KBA13_ANZAHL_PKW',\n",
    "'MIN_GEBAEUDEJAHR']"
   ]
  },
  {
   "cell_type": "code",
   "execution_count": 48,
   "metadata": {},
   "outputs": [],
   "source": [
    "object_columns = ['CAMEO_DEU_2015', 'D19_LETZTER_KAUF_BRANCHE']"
   ]
  },
  {
   "cell_type": "code",
   "execution_count": 49,
   "metadata": {},
   "outputs": [],
   "source": [
    "\n",
    "# int columns are the categorical columns\n",
    "int_columns = np.setdiff1d(df.columns,float_columns+object_columns)"
   ]
  },
  {
   "cell_type": "code",
   "execution_count": 50,
   "metadata": {},
   "outputs": [],
   "source": [
    "def fill_columns(df, columns, filling):\n",
    "    # filling the diferent columns with the apropriate values\n",
    "    bar = progressbar.ProgressBar(maxval=len(columns)+1, widgets=[progressbar.Bar('->', '[', ']'), ' ', progressbar.Percentage()])\n",
    "    bar.start()\n",
    "    counter = 0\n",
    "    for col in columns:\n",
    "        if filling == 'mean':\n",
    "            df[col]=df[col].fillna(df[col].mean())\n",
    "        if filling == 'median':\n",
    "            df[col]=df[col].fillna(df[col].median())\n",
    "        counter+=1\n",
    "        bar.update(counter)\n",
    "    bar.finish()\n",
    "    return df"
   ]
  },
  {
   "cell_type": "code",
   "execution_count": 51,
   "metadata": {},
   "outputs": [
    {
     "name": "stderr",
     "output_type": "stream",
     "text": [
      "[->->->->->->->->->->->->->->->->->->->->->->->->->->->->->->->->->->->->->->->->->->->->->->->->->->->->->->->->->->->->->->->->->->->->->->->->] 100%\n",
      "[->->->->->->->->->->->->->->->->->->->->->->->->->->->->->->->->->->->->->->->->->->->->->->->->->->->->->->->->->->->->->->->->->->->->->->->->] 100%\n"
     ]
    }
   ],
   "source": [
    "\n",
    "df = fill_columns(df, float_columns, 'mean')\n",
    "df = fill_columns(df, int_columns, 'median')"
   ]
  },
  {
   "cell_type": "code",
   "execution_count": 52,
   "metadata": {},
   "outputs": [
    {
     "data": {
      "text/plain": [
       "Index(['CAMEO_DEU_2015', 'D19_LETZTER_KAUF_BRANCHE'], dtype='object')"
      ]
     },
     "execution_count": 52,
     "metadata": {},
     "output_type": "execute_result"
    }
   ],
   "source": [
    "df[df.columns[df.dtypes == 'object'].values].columns"
   ]
  },
  {
   "cell_type": "code",
   "execution_count": 53,
   "metadata": {},
   "outputs": [
    {
     "data": {
      "text/plain": [
       "D19_LETZTER_KAUF_BRANCHE    0.227729\n",
       "CAMEO_DEU_2015              0.004797\n",
       "KBA05_CCM1                  0.000000\n",
       "dtype: float64"
      ]
     },
     "execution_count": 53,
     "metadata": {},
     "output_type": "execute_result"
    }
   ],
   "source": [
    "\n",
    "#which columns still have missing values?\n",
    "(df.isnull().sum()/len(df)).sort_values(ascending=False)[:3]"
   ]
  },
  {
   "cell_type": "code",
   "execution_count": 54,
   "metadata": {},
   "outputs": [
    {
     "data": {
      "text/plain": [
       "array([nan, 'D19_UNBEKANNT', 'D19_SCHUHE', 'D19_ENERGIE', 'D19_KOSMETIK',\n",
       "       'D19_SONSTIGE', 'D19_BANKEN_GROSS', 'D19_VOLLSORTIMENT',\n",
       "       'D19_DROGERIEARTIKEL', 'D19_HANDWERK', 'D19_BUCH_CD',\n",
       "       'D19_VERSICHERUNGEN', 'D19_VERSAND_REST', 'D19_TELKO_REST',\n",
       "       'D19_BANKEN_DIREKT', 'D19_BANKEN_REST', 'D19_LEBENSMITTEL',\n",
       "       'D19_HAUS_DEKO', 'D19_BEKLEIDUNG_REST', 'D19_SAMMELARTIKEL',\n",
       "       'D19_TELKO_MOBILE', 'D19_REISEN', 'D19_BEKLEIDUNG_GEH',\n",
       "       'D19_TECHNIK', 'D19_NAHRUNGSERGAENZUNG', 'D19_DIGIT_SERV',\n",
       "       'D19_LOTTO', 'D19_RATGEBER', 'D19_TIERARTIKEL',\n",
       "       'D19_KINDERARTIKEL', 'D19_BIO_OEKO', 'D19_FREIZEIT',\n",
       "       'D19_WEIN_FEINKOST', 'D19_GARTEN', 'D19_BILDUNG',\n",
       "       'D19_BANKEN_LOKAL'], dtype=object)"
      ]
     },
     "execution_count": 54,
     "metadata": {},
     "output_type": "execute_result"
    }
   ],
   "source": [
    "df.D19_LETZTER_KAUF_BRANCHE.unique()"
   ]
  },
  {
   "cell_type": "code",
   "execution_count": 55,
   "metadata": {},
   "outputs": [],
   "source": [
    "#fill this columns missing values with the most common value\n",
    "df['D19_LETZTER_KAUF_BRANCHE'] = df['D19_LETZTER_KAUF_BRANCHE'].fillna('D19_UNBEKANNT')"
   ]
  },
  {
   "cell_type": "code",
   "execution_count": 56,
   "metadata": {},
   "outputs": [],
   "source": [
    "\n",
    "#drop remaining nans\n",
    "df = df.dropna(axis=0)"
   ]
  },
  {
   "cell_type": "code",
   "execution_count": 57,
   "metadata": {},
   "outputs": [
    {
     "data": {
      "text/plain": [
       "Index(['CAMEO_DEU_2015', 'D19_LETZTER_KAUF_BRANCHE'], dtype='object')"
      ]
     },
     "execution_count": 57,
     "metadata": {},
     "output_type": "execute_result"
    }
   ],
   "source": [
    "df[df.columns[df.dtypes == 'object'].values].columns"
   ]
  },
  {
   "cell_type": "code",
   "execution_count": 58,
   "metadata": {},
   "outputs": [],
   "source": [
    "df = pd.get_dummies(df, columns=['CAMEO_DEU_2015','D19_LETZTER_KAUF_BRANCHE'])"
   ]
  },
  {
   "cell_type": "code",
   "execution_count": 59,
   "metadata": {},
   "outputs": [
    {
     "data": {
      "text/plain": [
       "(747720, 432)"
      ]
     },
     "execution_count": 59,
     "metadata": {},
     "output_type": "execute_result"
    }
   ],
   "source": [
    "df.shape"
   ]
  },
  {
   "cell_type": "code",
   "execution_count": 60,
   "metadata": {},
   "outputs": [
    {
     "name": "stdout",
     "output_type": "stream",
     "text": [
      "Tests OK\n"
     ]
    }
   ],
   "source": [
    "\n",
    "# # Check if all colums are of numeric dtype\n",
    "from pandas.api.types import is_numeric_dtype\n",
    "\n",
    "#should be equal to the no of cols if all True\n",
    "assert(sum([is_numeric_dtype(df[col]) for col in df.columns]) == df.shape[1])\n",
    "print('Tests OK')"
   ]
  },
  {
   "cell_type": "code",
   "execution_count": 61,
   "metadata": {},
   "outputs": [
    {
     "data": {
      "text/plain": [
       "(747720, 432)"
      ]
     },
     "execution_count": 61,
     "metadata": {},
     "output_type": "execute_result"
    }
   ],
   "source": [
    "df.shape"
   ]
  },
  {
   "cell_type": "code",
   "execution_count": 62,
   "metadata": {},
   "outputs": [],
   "source": [
    "def drop_rows(df):\n",
    "    '''split the dataset into two parts:\n",
    "    One with a percntage of NaN per row over the threshhold\n",
    "    and one below. Return both.'''\n",
    "    df['row_nans'] = df.isna().mean(axis=1)\n",
    "    threshhold = 0.1\n",
    "    df['row_nan_perc'] = df.isnull().mean(axis=1)\n",
    "    \n",
    "    df_lowna = df.loc[df['row_nan_perc'] < threshhold, :].\\\n",
    "                                drop(columns='row_nan_perc', axis=1)\n",
    "    df_highna = df.loc[df['row_nan_perc'] > threshhold, :].\\\n",
    "                                drop(columns='row_nan_perc', axis=1)\n",
    "\n",
    "    return df_lowna, df_highna"
   ]
  },
  {
   "cell_type": "markdown",
   "metadata": {},
   "source": [
    "### Create a Cleaning Function"
   ]
  },
  {
   "cell_type": "code",
   "execution_count": 63,
   "metadata": {},
   "outputs": [],
   "source": [
    "def clean_data(df):\n",
    "    \n",
    "    # Remove the outlier and unecessary columns and  from the dataset\n",
    "    \n",
    "    df = convert_to_nans(df)\n",
    "    print('Convert missing value codes into NaN, OK')\n",
    "\n",
    "    # remove selected columns , ...\n",
    "    df = drop_columns(df)\n",
    "    \n",
    "    print('Remove selected columns, OK')\n",
    "    \n",
    "    # select, re-encode, and engineer column values.\n",
    "    df = reencode_cat_feats(df)\n",
    "    df = engineer_mixed_feat(df)\n",
    "    df = fill_columns(df, float_columns, 'mean')\n",
    "    df = fill_columns(df, int_columns, 'median')\n",
    "    df = fill_na(df)\n",
    "    \n",
    "    print('Re-encode, fill and engineer column value, OK')\n",
    "    \n",
    "    # Return the cleaned dataframe\n",
    "    return df\n",
    "\n",
    "def convert_to_nans(df):\n",
    "    #This function will go throu all columns in the loaded file and will change nan representing values to np.nan \n",
    "    bar = progressbar.ProgressBar(maxval=len(nan_df['column'])+1, widgets=[progressbar.Bar('->', '[', ']'), ' ', progressbar.Percentage()])\n",
    "    bar.start()\n",
    "    counter=0\n",
    "    for col in nan_df['column']:\n",
    "        for i in nan_df.query('column == @col')['missing_unknown'].values[0]:\n",
    "            if i not in ['XX','X','']:\n",
    "                i=np.float64(i)\n",
    "            if i == '':\n",
    "                i = np.nan\n",
    "            try:\n",
    "                df.loc[df[col] == i, col] = np.nan\n",
    "            except:\n",
    "                print('error in {}'.format(col))\n",
    "        counter+=1\n",
    "        bar.update(counter)\n",
    "    bar.finish()\n",
    "    return df\n",
    "\n",
    "\n",
    "def drop_columns(df):\n",
    "    ''''''\n",
    "    return df.drop(columns=drop_cols, axis=1)\n",
    "\n",
    "\n",
    "\n",
    "def reencode_cat_feats(df):\n",
    "    ''''''\n",
    "    # Reencode the binary OST_WEST_KZ to 0/1\n",
    "    df['OST_WEST_KZ'] = df['OST_WEST_KZ'].replace({'O': 0,\n",
    "                                                   'W': 1})\n",
    "    #changes numbers that are saved as objects\n",
    "    df['CAMEO_DEUG_2015'] = df['CAMEO_DEUG_2015'].apply(lambda x: int(x) if x==x else x )\n",
    "    df['CAMEO_INTL_2015'] = df['CAMEO_INTL_2015'].apply(lambda x: int(x) if x==x else x )\n",
    "    \n",
    "    return df\n",
    "\n",
    "def engineer_mixed_feat(df):\n",
    "    '''Engineer new variables from \n",
    "    mixed features. Drop old features'''\n",
    "    # Engineer two new variables from 'PRAEGENDE_JUGENDJAHRE'\n",
    "    decade_dict = {1: 1, 2: 1, 3: 2, 4: 2, 5: 3, 6: 3, 7:  3,\n",
    "                   8: 4, 9: 4, 10: 5, 11: 5, 12: 5, 13: 5,\n",
    "                   14: 6, 15: 6\n",
    "                   }\n",
    "    movement_dict = {1: 1, 3: 1, 5: 1, 8: 1, 10: 1, 12: 1, 14: 1,\n",
    "                     2: 2, 4: 2, 6: 2, 7: 2, 9: 2, 11: 2, 13: 2, 15: 2\n",
    "                     }\n",
    "\n",
    "    df['DECADE'] = df['PRAEGENDE_JUGENDJAHRE'].map(decade_dict)\n",
    "    df['MOVEMENT'] = df['PRAEGENDE_JUGENDJAHRE'].map(movement_dict)\n",
    "    \n",
    "\n",
    "    # Engineer two new variables from 'CAMEO_INTL_2015'\n",
    "    df['WEALTH'] = df['CAMEO_INTL_2015'].apply(\n",
    "        break_digits, digit='first')\n",
    "    df['LIFE_STAGE'] = df['CAMEO_INTL_2015'].apply(\n",
    "        break_digits, digit='second')\n",
    "\n",
    "    # Drop mixed dtype features\n",
    "    \n",
    "    mixed_feats =  ['LP_LEBENSPHASE_FEIN', 'LP_LEBENSPHASE_GROB', 'PRAEGENDE_JUGENDJAHRE', 'WOHNLAGE', 'CAMEO_INTL_2015', 'PLZ8_BAUMAX']\n",
    "    df = df.drop(mixed_feats, axis=1)\n",
    "    \n",
    "    return df\n",
    "\n",
    "def fill_columns(df, columns, filling):\n",
    "    #float columns given by excel file\n",
    "    float_columns = ['ANZ_HAUSHALTE_AKTIV', 'ANZ_HH_TITEL','ANZ_PERSONEN','ANZ_TITEL', 'KBA13_ANZAHL_PKW','MIN_GEBAEUDEJAHR']\n",
    "    object_columns = ['CAMEO_DEU_2015', 'D19_LETZTER_KAUF_BRANCHE']\n",
    "    # int columns are the categorical columns\n",
    "    int_columns = np.setdiff1d(df.columns,float_columns+object_columns)\n",
    "    # filling the diferent columns with the apropriate values\n",
    "    bar = progressbar.ProgressBar(maxval=len(columns)+1, widgets=[progressbar.Bar('->', '[', ']'), ' ', progressbar.Percentage()])\n",
    "    bar.start()\n",
    "    counter = 0\n",
    "    for col in columns:\n",
    "        if filling == 'mean':\n",
    "            df[col]=df[col].fillna(df[col].mean())\n",
    "        if filling == 'median':\n",
    "            df[col]=df[col].fillna(df[col].median())\n",
    "        counter+=1\n",
    "        bar.update(counter)\n",
    "    bar.finish()\n",
    "  \n",
    "    return df\n",
    "\n",
    "def fill_na(df):\n",
    "  #drop remaining nans\n",
    "    df['D19_LETZTER_KAUF_BRANCHE'] = df['D19_LETZTER_KAUF_BRANCHE'].fillna('D19_UNBEKANNT')\n",
    "    df = pd.get_dummies(df, columns=['CAMEO_DEU_2015','D19_LETZTER_KAUF_BRANCHE'])\n",
    "    \n",
    "    return df\n"
   ]
  },
  {
   "cell_type": "markdown",
   "metadata": {},
   "source": [
    "## Feature Transformation\n",
    "\n"
   ]
  },
  {
   "cell_type": "code",
   "execution_count": 64,
   "metadata": {},
   "outputs": [
    {
     "data": {
      "text/plain": [
       "D19_LETZTER_KAUF_BRANCHE_D19_WEIN_FEINKOST    0.0\n",
       "KBA05_MAXVORB                                 0.0\n",
       "KBA05_KRSKLEIN                                0.0\n",
       "KBA05_KRSOBER                                 0.0\n",
       "KBA05_KRSVAN                                  0.0\n",
       "KBA05_KRSZUL                                  0.0\n",
       "KBA05_KW1                                     0.0\n",
       "KBA05_KW2                                     0.0\n",
       "KBA05_KW3                                     0.0\n",
       "KBA05_MAXAH                                   0.0\n",
       "KBA05_MAXBJ                                   0.0\n",
       "KBA05_MAXHERST                                0.0\n",
       "KBA05_MAXSEG                                  0.0\n",
       "KBA05_MOD1                                    0.0\n",
       "D19_LETZTER_KAUF_BRANCHE_D19_VOLLSORTIMENT    0.0\n",
       "dtype: float64"
      ]
     },
     "execution_count": 64,
     "metadata": {},
     "output_type": "execute_result"
    }
   ],
   "source": [
    "\n",
    "# Percentage of nans per column\n",
    "(df.isnull().mean(axis=0) * 100).sort_values(ascending=False)[:15]"
   ]
  },
  {
   "cell_type": "code",
   "execution_count": 65,
   "metadata": {},
   "outputs": [
    {
     "data": {
      "text/plain": [
       "0"
      ]
     },
     "execution_count": 65,
     "metadata": {},
     "output_type": "execute_result"
    }
   ],
   "source": [
    "# Percentage of nans per row \n",
    "nan_perc = (df.isnull().mean(axis=1) * 100).sort_values(ascending=False)\n",
    "\n",
    "#How many rows have nans?\n",
    "nan_perc[nan_perc > 0].shape[0]"
   ]
  },
  {
   "cell_type": "code",
   "execution_count": 66,
   "metadata": {},
   "outputs": [
    {
     "data": {
      "text/plain": [
       "0"
      ]
     },
     "execution_count": 66,
     "metadata": {},
     "output_type": "execute_result"
    }
   ],
   "source": [
    "df.isnull().sum().sum() "
   ]
  },
  {
   "cell_type": "code",
   "execution_count": 67,
   "metadata": {},
   "outputs": [
    {
     "name": "stdout",
     "output_type": "stream",
     "text": [
      "Total percentage of Nans :  0.0 %\n"
     ]
    }
   ],
   "source": [
    "# Check to make sure no nans left\n",
    "print('Total percentage of Nans : ',\n",
    "      round(df.isnull().sum().sum() / np.product(df.shape) * 100, 2),\n",
    "      '%')"
   ]
  },
  {
   "cell_type": "code",
   "execution_count": 68,
   "metadata": {},
   "outputs": [
    {
     "data": {
      "text/plain": [
       "(747720, 432)"
      ]
     },
     "execution_count": 68,
     "metadata": {},
     "output_type": "execute_result"
    }
   ],
   "source": [
    "df.shape"
   ]
  },
  {
   "cell_type": "code",
   "execution_count": 69,
   "metadata": {},
   "outputs": [],
   "source": [
    "# Fit the Scaler without NaNs\n",
    "scaler = StandardScaler()\n"
   ]
  },
  {
   "cell_type": "code",
   "execution_count": 70,
   "metadata": {},
   "outputs": [],
   "source": [
    "# Apply feature scaling to the general population demographics data.\n",
    "# Transform the df with the fitted scaler\n",
    "X_scale = scaler.fit_transform(df)"
   ]
  },
  {
   "cell_type": "markdown",
   "metadata": {},
   "source": [
    "###  Apply Feature Scaling"
   ]
  },
  {
   "cell_type": "markdown",
   "metadata": {},
   "source": [
    "### Discussion: Apply Feature Scaling\n",
    "\n",
    "Since the total percentage of NaNs in the dataset is 0.67%, we would lose a lot of data by dropping them. Thus it is better to impute them with the mean and then transforming them with the StandardScaler after fitting them. This will keep the distribution and a higher percentage of the data."
   ]
  },
  {
   "cell_type": "code",
   "execution_count": 71,
   "metadata": {},
   "outputs": [
    {
     "data": {
      "text/plain": [
       "(747720, 432)"
      ]
     },
     "execution_count": 71,
     "metadata": {},
     "output_type": "execute_result"
    }
   ],
   "source": [
    "X_scale.shape"
   ]
  },
  {
   "cell_type": "markdown",
   "metadata": {},
   "source": [
    "## Clustering\n",
    "\n",
    "### Apply Clustering to General Population"
   ]
  },
  {
   "cell_type": "code",
   "execution_count": 72,
   "metadata": {},
   "outputs": [],
   "source": [
    "# Over a number of different cluster counts...\n",
    "#from Udacity lessons:\n",
    "def get_kmeans_score(data, center):\n",
    "    'returns the kmeans scores regarding SSE for points to centers'\n",
    "    'Input:'\n",
    "    'data: dataset you want to fit kmeans to'\n",
    "    'centers- the numbers of centers'\n",
    "    'output: SSE score for the kmeans model fit to the data'\n",
    "    \n",
    "    # run k-means clustering on the data and...\n",
    "    kmeans = KMeans(n_clusters= center)\n",
    "    \n",
    "    #fit model\n",
    "    model = kmeans.fit(data)\n",
    "    \n",
    "    # compute the average within-cluster distances.\n",
    "    score = np.abs(model.score(data))\n",
    "    return score"
   ]
  },
  {
   "cell_type": "code",
   "execution_count": 73,
   "metadata": {},
   "outputs": [],
   "source": [
    "pca = PCA(n_components=150)\n",
    "X_pca = pca.fit_transform(X_scale)"
   ]
  },
  {
   "cell_type": "code",
   "execution_count": 74,
   "metadata": {},
   "outputs": [
    {
     "data": {
      "text/plain": [
       "0.7472913221734067"
      ]
     },
     "execution_count": 74,
     "metadata": {},
     "output_type": "execute_result"
    }
   ],
   "source": [
    "#ratio of explained variance\n",
    "sum(pca.explained_variance_ratio_)"
   ]
  },
  {
   "cell_type": "markdown",
   "metadata": {},
   "source": [
    "From the cumulative sum of the first 150 components, 74.7% of the variance can be explained. By performing dimensionality reduction PCA() method to the scaled dataset, it is best to keep 150 components since adding more components resulted in my machine crashing."
   ]
  },
  {
   "cell_type": "code",
   "execution_count": 75,
   "metadata": {},
   "outputs": [],
   "source": [
    "scores = []\n",
    "centers = list(range(1, 30, 3))\n",
    "for center in centers:\n",
    "    scores.append(get_kmeans_score(X_pca, center))"
   ]
  },
  {
   "cell_type": "code",
   "execution_count": 76,
   "metadata": {},
   "outputs": [
    {
     "name": "stdout",
     "output_type": "stream",
     "text": [
      "[241386336.32349575, 212676037.0620369, 203444736.0337678, 198019719.16069737, 194572602.33957493, 191733088.11850098, 189654588.71138942, 187989566.09285823, 185740931.99323434, 184236396.74484104]\n"
     ]
    }
   ],
   "source": [
    "#Saved the scores to print later in the plot since clustering is time consuming to run each time\n",
    "print(scores)"
   ]
  },
  {
   "cell_type": "code",
   "execution_count": 77,
   "metadata": {},
   "outputs": [],
   "source": [
    "# scores1 = [99828911.92403707, 71223560.78828095, 62240661.975860074, 57081973.025226004, 54112846.97642098, 51783748.65631021, 49930335.96231076, 48419565.94388852, 47216261.91219105, 46183699.5839111]"
   ]
  },
  {
   "cell_type": "code",
   "execution_count": 78,
   "metadata": {},
   "outputs": [
    {
     "data": {
      "text/plain": [
       "Text(0.5, 1.0, 'SSE vs. K')"
      ]
     },
     "execution_count": 78,
     "metadata": {},
     "output_type": "execute_result"
    },
    {
     "data": {
      "image/png": "[encoded data removed]",
      "text/plain": [
       "<Figure size 432x288 with 1 Axes>"
      ]
     },
     "metadata": {
      "needs_background": "light"
     },
     "output_type": "display_data"
    }
   ],
   "source": [
    "# Investigate the change in within-cluster distance across number of clusters.\n",
    "# Matplotlib's plot function to visualize this relationship.\n",
    "plt.plot(centers, scores, linestyle='--', marker='o', color='b');\n",
    "plt.xlabel('K');\n",
    "plt.ylabel('SSE');\n",
    "plt.title('SSE vs. K')"
   ]
  },
  {
   "cell_type": "code",
   "execution_count": 79,
   "metadata": {},
   "outputs": [],
   "source": [
    "# Re-fit the k-means model with the selected number of clusters and obtain\n",
    "# cluster predictions for the general population demographics data.\n",
    "\n",
    "kmeans = KMeans(n_clusters=10)\n",
    "model_10 = kmeans.fit(X_pca)"
   ]
  },
  {
   "cell_type": "code",
   "execution_count": 80,
   "metadata": {},
   "outputs": [
    {
     "data": {
      "text/plain": [
       "(10, 150)"
      ]
     },
     "execution_count": 80,
     "metadata": {},
     "output_type": "execute_result"
    }
   ],
   "source": [
    "kmeans.cluster_centers_.shape"
   ]
  },
  {
   "cell_type": "code",
   "execution_count": 81,
   "metadata": {},
   "outputs": [],
   "source": [
    "cluster_predictions = model_10.predict(X_pca)"
   ]
  },
  {
   "cell_type": "markdown",
   "metadata": {},
   "source": [
    "### Apply Clustering to Customer Data"
   ]
  },
  {
   "cell_type": "markdown",
   "metadata": {},
   "source": [
    "The elbow in the curve where adding additional clusters would be less effective in reducing the within-cluster distance happens at 10.\n",
    "\n",
    "I chose ten to not overgeneralize the clusters and since this was the last number before the elbow started lowering after this number. This number can be used to fit the the KMeans algorithm on the transformed demographics data and predict cluster labels. "
   ]
  },
  {
   "cell_type": "code",
   "execution_count": null,
   "metadata": {},
   "outputs": [],
   "source": [
    "# customers = pd.read_csv('Udacity_CUSTOMERS.csv', sep=';')"
   ]
  },
  {
   "cell_type": "code",
   "execution_count": 82,
   "metadata": {},
   "outputs": [
    {
     "name": "stderr",
     "output_type": "stream",
     "text": [
      "/opt/conda/envs/Python-3.6-CUDA/lib/python3.6/site-packages/IPython/core/interactiveshell.py:3063: DtypeWarning: Columns (18,19) have mixed types. Specify dtype option on import or set low_memory=False.\n",
      "  interactivity=interactivity, compiler=compiler, result=result)\n"
     ]
    },
    {
     "data": {
      "text/html": [
       "<div>\n",
       "<style scoped>\n",
       "    .dataframe tbody tr th:only-of-type {\n",
       "        vertical-align: middle;\n",
       "    }\n",
       "\n",
       "    .dataframe tbody tr th {\n",
       "        vertical-align: top;\n",
       "    }\n",
       "\n",
       "    .dataframe thead th {\n",
       "        text-align: right;\n",
       "    }\n",
       "</style>\n",
       "<table border=\"1\" class=\"dataframe\">\n",
       "  <thead>\n",
       "    <tr style=\"text-align: right;\">\n",
       "      <th></th>\n",
       "      <th>LNR</th>\n",
       "      <th>AGER_TYP</th>\n",
       "      <th>AKT_DAT_KL</th>\n",
       "      <th>ALTER_HH</th>\n",
       "      <th>ALTER_KIND1</th>\n",
       "      <th>ALTER_KIND2</th>\n",
       "      <th>ALTER_KIND3</th>\n",
       "      <th>ALTER_KIND4</th>\n",
       "      <th>ALTERSKATEGORIE_FEIN</th>\n",
       "      <th>ANZ_HAUSHALTE_AKTIV</th>\n",
       "      <th>...</th>\n",
       "      <th>VK_ZG11</th>\n",
       "      <th>W_KEIT_KIND_HH</th>\n",
       "      <th>WOHNDAUER_2008</th>\n",
       "      <th>WOHNLAGE</th>\n",
       "      <th>ZABEOTYP</th>\n",
       "      <th>PRODUCT_GROUP</th>\n",
       "      <th>CUSTOMER_GROUP</th>\n",
       "      <th>ONLINE_PURCHASE</th>\n",
       "      <th>ANREDE_KZ</th>\n",
       "      <th>ALTERSKATEGORIE_GROB</th>\n",
       "    </tr>\n",
       "  </thead>\n",
       "  <tbody>\n",
       "    <tr>\n",
       "      <th>0</th>\n",
       "      <td>9626</td>\n",
       "      <td>2</td>\n",
       "      <td>1.0</td>\n",
       "      <td>10.0</td>\n",
       "      <td>NaN</td>\n",
       "      <td>NaN</td>\n",
       "      <td>NaN</td>\n",
       "      <td>NaN</td>\n",
       "      <td>10.0</td>\n",
       "      <td>1.0</td>\n",
       "      <td>...</td>\n",
       "      <td>2.0</td>\n",
       "      <td>6.0</td>\n",
       "      <td>9.0</td>\n",
       "      <td>7.0</td>\n",
       "      <td>3</td>\n",
       "      <td>COSMETIC_AND_FOOD</td>\n",
       "      <td>MULTI_BUYER</td>\n",
       "      <td>0</td>\n",
       "      <td>1</td>\n",
       "      <td>4</td>\n",
       "    </tr>\n",
       "    <tr>\n",
       "      <th>1</th>\n",
       "      <td>9628</td>\n",
       "      <td>-1</td>\n",
       "      <td>9.0</td>\n",
       "      <td>11.0</td>\n",
       "      <td>NaN</td>\n",
       "      <td>NaN</td>\n",
       "      <td>NaN</td>\n",
       "      <td>NaN</td>\n",
       "      <td>NaN</td>\n",
       "      <td>NaN</td>\n",
       "      <td>...</td>\n",
       "      <td>3.0</td>\n",
       "      <td>0.0</td>\n",
       "      <td>9.0</td>\n",
       "      <td>NaN</td>\n",
       "      <td>3</td>\n",
       "      <td>FOOD</td>\n",
       "      <td>SINGLE_BUYER</td>\n",
       "      <td>0</td>\n",
       "      <td>1</td>\n",
       "      <td>4</td>\n",
       "    </tr>\n",
       "    <tr>\n",
       "      <th>2</th>\n",
       "      <td>143872</td>\n",
       "      <td>-1</td>\n",
       "      <td>1.0</td>\n",
       "      <td>6.0</td>\n",
       "      <td>NaN</td>\n",
       "      <td>NaN</td>\n",
       "      <td>NaN</td>\n",
       "      <td>NaN</td>\n",
       "      <td>0.0</td>\n",
       "      <td>1.0</td>\n",
       "      <td>...</td>\n",
       "      <td>11.0</td>\n",
       "      <td>6.0</td>\n",
       "      <td>9.0</td>\n",
       "      <td>2.0</td>\n",
       "      <td>3</td>\n",
       "      <td>COSMETIC_AND_FOOD</td>\n",
       "      <td>MULTI_BUYER</td>\n",
       "      <td>0</td>\n",
       "      <td>2</td>\n",
       "      <td>4</td>\n",
       "    </tr>\n",
       "    <tr>\n",
       "      <th>3</th>\n",
       "      <td>143873</td>\n",
       "      <td>1</td>\n",
       "      <td>1.0</td>\n",
       "      <td>8.0</td>\n",
       "      <td>NaN</td>\n",
       "      <td>NaN</td>\n",
       "      <td>NaN</td>\n",
       "      <td>NaN</td>\n",
       "      <td>8.0</td>\n",
       "      <td>0.0</td>\n",
       "      <td>...</td>\n",
       "      <td>2.0</td>\n",
       "      <td>NaN</td>\n",
       "      <td>9.0</td>\n",
       "      <td>7.0</td>\n",
       "      <td>1</td>\n",
       "      <td>COSMETIC</td>\n",
       "      <td>MULTI_BUYER</td>\n",
       "      <td>0</td>\n",
       "      <td>1</td>\n",
       "      <td>4</td>\n",
       "    </tr>\n",
       "    <tr>\n",
       "      <th>4</th>\n",
       "      <td>143874</td>\n",
       "      <td>-1</td>\n",
       "      <td>1.0</td>\n",
       "      <td>20.0</td>\n",
       "      <td>NaN</td>\n",
       "      <td>NaN</td>\n",
       "      <td>NaN</td>\n",
       "      <td>NaN</td>\n",
       "      <td>14.0</td>\n",
       "      <td>7.0</td>\n",
       "      <td>...</td>\n",
       "      <td>4.0</td>\n",
       "      <td>2.0</td>\n",
       "      <td>9.0</td>\n",
       "      <td>3.0</td>\n",
       "      <td>1</td>\n",
       "      <td>FOOD</td>\n",
       "      <td>MULTI_BUYER</td>\n",
       "      <td>0</td>\n",
       "      <td>1</td>\n",
       "      <td>3</td>\n",
       "    </tr>\n",
       "  </tbody>\n",
       "</table>\n",
       "<p>5 rows × 369 columns</p>\n",
       "</div>"
      ],
      "text/plain": [
       "      LNR  AGER_TYP  AKT_DAT_KL  ALTER_HH  ALTER_KIND1  ALTER_KIND2  \\\n",
       "0    9626         2         1.0      10.0          NaN          NaN   \n",
       "1    9628        -1         9.0      11.0          NaN          NaN   \n",
       "2  143872        -1         1.0       6.0          NaN          NaN   \n",
       "3  143873         1         1.0       8.0          NaN          NaN   \n",
       "4  143874        -1         1.0      20.0          NaN          NaN   \n",
       "\n",
       "   ALTER_KIND3  ALTER_KIND4  ALTERSKATEGORIE_FEIN  ANZ_HAUSHALTE_AKTIV  ...  \\\n",
       "0          NaN          NaN                  10.0                  1.0  ...   \n",
       "1          NaN          NaN                   NaN                  NaN  ...   \n",
       "2          NaN          NaN                   0.0                  1.0  ...   \n",
       "3          NaN          NaN                   8.0                  0.0  ...   \n",
       "4          NaN          NaN                  14.0                  7.0  ...   \n",
       "\n",
       "   VK_ZG11  W_KEIT_KIND_HH  WOHNDAUER_2008  WOHNLAGE  ZABEOTYP  \\\n",
       "0      2.0             6.0             9.0       7.0         3   \n",
       "1      3.0             0.0             9.0       NaN         3   \n",
       "2     11.0             6.0             9.0       2.0         3   \n",
       "3      2.0             NaN             9.0       7.0         1   \n",
       "4      4.0             2.0             9.0       3.0         1   \n",
       "\n",
       "       PRODUCT_GROUP  CUSTOMER_GROUP ONLINE_PURCHASE ANREDE_KZ  \\\n",
       "0  COSMETIC_AND_FOOD     MULTI_BUYER               0         1   \n",
       "1               FOOD    SINGLE_BUYER               0         1   \n",
       "2  COSMETIC_AND_FOOD     MULTI_BUYER               0         2   \n",
       "3           COSMETIC     MULTI_BUYER               0         1   \n",
       "4               FOOD     MULTI_BUYER               0         1   \n",
       "\n",
       "  ALTERSKATEGORIE_GROB  \n",
       "0                    4  \n",
       "1                    4  \n",
       "2                    4  \n",
       "3                    4  \n",
       "4                    3  \n",
       "\n",
       "[5 rows x 369 columns]"
      ]
     },
     "execution_count": 82,
     "metadata": {},
     "output_type": "execute_result"
    }
   ],
   "source": [
    "#loading the data set\n",
    "body = client_a858d8f03f374020bfd0da2bb1a90a17.get_object(Bucket='udacity-donotdelete-pr-cg1e1uk11mv7lb',Key='Udacity_CUSTOMERS.csv')['Body']\n",
    "# add missing __iter__ method, so pandas accepts body as file-like object\n",
    "if not hasattr(body, \"__iter__\"): body.__iter__ = types.MethodType( __iter__, body )\n",
    "\n",
    "customers = pd.read_csv(body, sep=';')\n",
    "customers.head()\n"
   ]
  },
  {
   "cell_type": "code",
   "execution_count": 83,
   "metadata": {},
   "outputs": [],
   "source": [
    "df_cust_lowna, df_cust_highna = drop_rows(customers)"
   ]
  },
  {
   "cell_type": "code",
   "execution_count": 84,
   "metadata": {},
   "outputs": [
    {
     "name": "stderr",
     "output_type": "stream",
     "text": [
      "[->->->->->->->->->->->->->->->->->->->->->->->->->->->->->->->->->->->->->->->->->->->->->->->->->->->->->->->->->->->->->->->->->->->->->->->->] 100%\n"
     ]
    },
    {
     "name": "stdout",
     "output_type": "stream",
     "text": [
      "Convert missing value codes into NaN, OK\n",
      "Remove selected columns, OK\n"
     ]
    },
    {
     "name": "stderr",
     "output_type": "stream",
     "text": [
      "[->->->->->->->->->->->->->->->->->->->->->->->->->->->->->->->->->->->->->->->->->->->->->->->->->->->->->->->->->->->->->->->->->->->->->->->->] 100%\n",
      "[->->->->->->->->->->->->->->->->->->->->->->->->->->->->->->->->->->->->->->->->->->->->->->->->->->->->->->->->->->->->->->->->->->->->->->->->] 100%\n"
     ]
    },
    {
     "name": "stdout",
     "output_type": "stream",
     "text": [
      "Re-encode, fill and engineer column value, OK\n"
     ]
    }
   ],
   "source": [
    "#clean train data\n",
    "df_cust = clean_data(customers)"
   ]
  },
  {
   "cell_type": "code",
   "execution_count": 85,
   "metadata": {},
   "outputs": [
    {
     "data": {
      "text/plain": [
       "(191652, 437)"
      ]
     },
     "execution_count": 85,
     "metadata": {},
     "output_type": "execute_result"
    }
   ],
   "source": [
    "df_cust.shape"
   ]
  },
  {
   "cell_type": "code",
   "execution_count": 86,
   "metadata": {},
   "outputs": [
    {
     "data": {
      "text/plain": [
       "(747720, 432)"
      ]
     },
     "execution_count": 86,
     "metadata": {},
     "output_type": "execute_result"
    }
   ],
   "source": [
    "df.shape"
   ]
  },
  {
   "cell_type": "code",
   "execution_count": 87,
   "metadata": {},
   "outputs": [
    {
     "data": {
      "text/plain": [
       "Index(['AGER_TYP', 'AKT_DAT_KL', 'ALTER_HH', 'ALTERSKATEGORIE_FEIN',\n",
       "       'ANZ_HAUSHALTE_AKTIV', 'ANZ_HH_TITEL', 'ANZ_KINDER', 'ANZ_PERSONEN',\n",
       "       'ANZ_STATISTISCHE_HAUSHALTE', 'ANZ_TITEL',\n",
       "       ...\n",
       "       'D19_LETZTER_KAUF_BRANCHE_D19_SONSTIGE',\n",
       "       'D19_LETZTER_KAUF_BRANCHE_D19_TECHNIK',\n",
       "       'D19_LETZTER_KAUF_BRANCHE_D19_TELKO_MOBILE',\n",
       "       'D19_LETZTER_KAUF_BRANCHE_D19_TELKO_REST',\n",
       "       'D19_LETZTER_KAUF_BRANCHE_D19_TIERARTIKEL',\n",
       "       'D19_LETZTER_KAUF_BRANCHE_D19_UNBEKANNT',\n",
       "       'D19_LETZTER_KAUF_BRANCHE_D19_VERSAND_REST',\n",
       "       'D19_LETZTER_KAUF_BRANCHE_D19_VERSICHERUNGEN',\n",
       "       'D19_LETZTER_KAUF_BRANCHE_D19_VOLLSORTIMENT',\n",
       "       'D19_LETZTER_KAUF_BRANCHE_D19_WEIN_FEINKOST'],\n",
       "      dtype='object', length=437)"
      ]
     },
     "execution_count": 87,
     "metadata": {},
     "output_type": "execute_result"
    }
   ],
   "source": [
    "df_cust.columns"
   ]
  },
  {
   "cell_type": "code",
   "execution_count": 88,
   "metadata": {},
   "outputs": [
    {
     "data": {
      "text/html": [
       "<div>\n",
       "<style scoped>\n",
       "    .dataframe tbody tr th:only-of-type {\n",
       "        vertical-align: middle;\n",
       "    }\n",
       "\n",
       "    .dataframe tbody tr th {\n",
       "        vertical-align: top;\n",
       "    }\n",
       "\n",
       "    .dataframe thead th {\n",
       "        text-align: right;\n",
       "    }\n",
       "</style>\n",
       "<table border=\"1\" class=\"dataframe\">\n",
       "  <thead>\n",
       "    <tr style=\"text-align: right;\">\n",
       "      <th></th>\n",
       "      <th>AGER_TYP</th>\n",
       "      <th>AKT_DAT_KL</th>\n",
       "      <th>ALTER_HH</th>\n",
       "      <th>ALTERSKATEGORIE_FEIN</th>\n",
       "      <th>ANZ_HAUSHALTE_AKTIV</th>\n",
       "      <th>ANZ_HH_TITEL</th>\n",
       "      <th>ANZ_KINDER</th>\n",
       "      <th>ANZ_PERSONEN</th>\n",
       "      <th>ANZ_STATISTISCHE_HAUSHALTE</th>\n",
       "      <th>ANZ_TITEL</th>\n",
       "      <th>...</th>\n",
       "      <th>D19_LETZTER_KAUF_BRANCHE_D19_SONSTIGE</th>\n",
       "      <th>D19_LETZTER_KAUF_BRANCHE_D19_TECHNIK</th>\n",
       "      <th>D19_LETZTER_KAUF_BRANCHE_D19_TELKO_MOBILE</th>\n",
       "      <th>D19_LETZTER_KAUF_BRANCHE_D19_TELKO_REST</th>\n",
       "      <th>D19_LETZTER_KAUF_BRANCHE_D19_TIERARTIKEL</th>\n",
       "      <th>D19_LETZTER_KAUF_BRANCHE_D19_UNBEKANNT</th>\n",
       "      <th>D19_LETZTER_KAUF_BRANCHE_D19_VERSAND_REST</th>\n",
       "      <th>D19_LETZTER_KAUF_BRANCHE_D19_VERSICHERUNGEN</th>\n",
       "      <th>D19_LETZTER_KAUF_BRANCHE_D19_VOLLSORTIMENT</th>\n",
       "      <th>D19_LETZTER_KAUF_BRANCHE_D19_WEIN_FEINKOST</th>\n",
       "    </tr>\n",
       "  </thead>\n",
       "  <tbody>\n",
       "    <tr>\n",
       "      <th>0</th>\n",
       "      <td>2.0</td>\n",
       "      <td>1.0</td>\n",
       "      <td>10.0</td>\n",
       "      <td>10.0</td>\n",
       "      <td>1.000000</td>\n",
       "      <td>0.000000</td>\n",
       "      <td>0.0</td>\n",
       "      <td>2.0</td>\n",
       "      <td>1.0</td>\n",
       "      <td>0.0</td>\n",
       "      <td>...</td>\n",
       "      <td>0</td>\n",
       "      <td>0</td>\n",
       "      <td>0</td>\n",
       "      <td>0</td>\n",
       "      <td>0</td>\n",
       "      <td>1</td>\n",
       "      <td>0</td>\n",
       "      <td>0</td>\n",
       "      <td>0</td>\n",
       "      <td>0</td>\n",
       "    </tr>\n",
       "    <tr>\n",
       "      <th>1</th>\n",
       "      <td>2.0</td>\n",
       "      <td>9.0</td>\n",
       "      <td>11.0</td>\n",
       "      <td>10.0</td>\n",
       "      <td>4.965863</td>\n",
       "      <td>0.067413</td>\n",
       "      <td>0.0</td>\n",
       "      <td>3.0</td>\n",
       "      <td>1.0</td>\n",
       "      <td>0.0</td>\n",
       "      <td>...</td>\n",
       "      <td>0</td>\n",
       "      <td>0</td>\n",
       "      <td>0</td>\n",
       "      <td>0</td>\n",
       "      <td>0</td>\n",
       "      <td>0</td>\n",
       "      <td>0</td>\n",
       "      <td>0</td>\n",
       "      <td>0</td>\n",
       "      <td>0</td>\n",
       "    </tr>\n",
       "    <tr>\n",
       "      <th>2</th>\n",
       "      <td>2.0</td>\n",
       "      <td>1.0</td>\n",
       "      <td>6.0</td>\n",
       "      <td>0.0</td>\n",
       "      <td>1.000000</td>\n",
       "      <td>0.000000</td>\n",
       "      <td>0.0</td>\n",
       "      <td>1.0</td>\n",
       "      <td>1.0</td>\n",
       "      <td>0.0</td>\n",
       "      <td>...</td>\n",
       "      <td>0</td>\n",
       "      <td>0</td>\n",
       "      <td>0</td>\n",
       "      <td>0</td>\n",
       "      <td>0</td>\n",
       "      <td>1</td>\n",
       "      <td>0</td>\n",
       "      <td>0</td>\n",
       "      <td>0</td>\n",
       "      <td>0</td>\n",
       "    </tr>\n",
       "    <tr>\n",
       "      <th>3</th>\n",
       "      <td>1.0</td>\n",
       "      <td>1.0</td>\n",
       "      <td>8.0</td>\n",
       "      <td>8.0</td>\n",
       "      <td>0.000000</td>\n",
       "      <td>0.067413</td>\n",
       "      <td>0.0</td>\n",
       "      <td>0.0</td>\n",
       "      <td>1.0</td>\n",
       "      <td>0.0</td>\n",
       "      <td>...</td>\n",
       "      <td>0</td>\n",
       "      <td>0</td>\n",
       "      <td>0</td>\n",
       "      <td>0</td>\n",
       "      <td>0</td>\n",
       "      <td>0</td>\n",
       "      <td>0</td>\n",
       "      <td>0</td>\n",
       "      <td>0</td>\n",
       "      <td>0</td>\n",
       "    </tr>\n",
       "    <tr>\n",
       "      <th>4</th>\n",
       "      <td>2.0</td>\n",
       "      <td>1.0</td>\n",
       "      <td>20.0</td>\n",
       "      <td>14.0</td>\n",
       "      <td>7.000000</td>\n",
       "      <td>0.000000</td>\n",
       "      <td>0.0</td>\n",
       "      <td>4.0</td>\n",
       "      <td>7.0</td>\n",
       "      <td>0.0</td>\n",
       "      <td>...</td>\n",
       "      <td>0</td>\n",
       "      <td>0</td>\n",
       "      <td>0</td>\n",
       "      <td>0</td>\n",
       "      <td>0</td>\n",
       "      <td>0</td>\n",
       "      <td>0</td>\n",
       "      <td>0</td>\n",
       "      <td>0</td>\n",
       "      <td>0</td>\n",
       "    </tr>\n",
       "  </tbody>\n",
       "</table>\n",
       "<p>5 rows × 437 columns</p>\n",
       "</div>"
      ],
      "text/plain": [
       "   AGER_TYP  AKT_DAT_KL  ALTER_HH  ALTERSKATEGORIE_FEIN  ANZ_HAUSHALTE_AKTIV  \\\n",
       "0       2.0         1.0      10.0                  10.0             1.000000   \n",
       "1       2.0         9.0      11.0                  10.0             4.965863   \n",
       "2       2.0         1.0       6.0                   0.0             1.000000   \n",
       "3       1.0         1.0       8.0                   8.0             0.000000   \n",
       "4       2.0         1.0      20.0                  14.0             7.000000   \n",
       "\n",
       "   ANZ_HH_TITEL  ANZ_KINDER  ANZ_PERSONEN  ANZ_STATISTISCHE_HAUSHALTE  \\\n",
       "0      0.000000         0.0           2.0                         1.0   \n",
       "1      0.067413         0.0           3.0                         1.0   \n",
       "2      0.000000         0.0           1.0                         1.0   \n",
       "3      0.067413         0.0           0.0                         1.0   \n",
       "4      0.000000         0.0           4.0                         7.0   \n",
       "\n",
       "   ANZ_TITEL  ...  D19_LETZTER_KAUF_BRANCHE_D19_SONSTIGE  \\\n",
       "0        0.0  ...                                      0   \n",
       "1        0.0  ...                                      0   \n",
       "2        0.0  ...                                      0   \n",
       "3        0.0  ...                                      0   \n",
       "4        0.0  ...                                      0   \n",
       "\n",
       "   D19_LETZTER_KAUF_BRANCHE_D19_TECHNIK  \\\n",
       "0                                     0   \n",
       "1                                     0   \n",
       "2                                     0   \n",
       "3                                     0   \n",
       "4                                     0   \n",
       "\n",
       "   D19_LETZTER_KAUF_BRANCHE_D19_TELKO_MOBILE  \\\n",
       "0                                          0   \n",
       "1                                          0   \n",
       "2                                          0   \n",
       "3                                          0   \n",
       "4                                          0   \n",
       "\n",
       "   D19_LETZTER_KAUF_BRANCHE_D19_TELKO_REST  \\\n",
       "0                                        0   \n",
       "1                                        0   \n",
       "2                                        0   \n",
       "3                                        0   \n",
       "4                                        0   \n",
       "\n",
       "   D19_LETZTER_KAUF_BRANCHE_D19_TIERARTIKEL  \\\n",
       "0                                         0   \n",
       "1                                         0   \n",
       "2                                         0   \n",
       "3                                         0   \n",
       "4                                         0   \n",
       "\n",
       "   D19_LETZTER_KAUF_BRANCHE_D19_UNBEKANNT  \\\n",
       "0                                       1   \n",
       "1                                       0   \n",
       "2                                       1   \n",
       "3                                       0   \n",
       "4                                       0   \n",
       "\n",
       "   D19_LETZTER_KAUF_BRANCHE_D19_VERSAND_REST  \\\n",
       "0                                          0   \n",
       "1                                          0   \n",
       "2                                          0   \n",
       "3                                          0   \n",
       "4                                          0   \n",
       "\n",
       "   D19_LETZTER_KAUF_BRANCHE_D19_VERSICHERUNGEN  \\\n",
       "0                                            0   \n",
       "1                                            0   \n",
       "2                                            0   \n",
       "3                                            0   \n",
       "4                                            0   \n",
       "\n",
       "   D19_LETZTER_KAUF_BRANCHE_D19_VOLLSORTIMENT  \\\n",
       "0                                           0   \n",
       "1                                           0   \n",
       "2                                           0   \n",
       "3                                           0   \n",
       "4                                           0   \n",
       "\n",
       "   D19_LETZTER_KAUF_BRANCHE_D19_WEIN_FEINKOST  \n",
       "0                                           0  \n",
       "1                                           0  \n",
       "2                                           0  \n",
       "3                                           0  \n",
       "4                                           0  \n",
       "\n",
       "[5 rows x 437 columns]"
      ]
     },
     "execution_count": 88,
     "metadata": {},
     "output_type": "execute_result"
    }
   ],
   "source": [
    "df_cust.head()"
   ]
  },
  {
   "cell_type": "code",
   "execution_count": 89,
   "metadata": {},
   "outputs": [
    {
     "data": {
      "text/plain": [
       "['PRODUCT_GROUP', 'CUSTOMER_GROUP']"
      ]
     },
     "execution_count": 89,
     "metadata": {},
     "output_type": "execute_result"
    }
   ],
   "source": [
    "list(df_cust.columns[df_cust.dtypes == 'object'].values)"
   ]
  },
  {
   "cell_type": "code",
   "execution_count": 90,
   "metadata": {},
   "outputs": [],
   "source": [
    "#fix columns not cleaned with function\n",
    "df_cust = pd.get_dummies(df_cust, columns=['PRODUCT_GROUP'])"
   ]
  },
  {
   "cell_type": "code",
   "execution_count": 91,
   "metadata": {},
   "outputs": [
    {
     "data": {
      "text/plain": [
       "array(['MULTI_BUYER', 'SINGLE_BUYER', 'MULTI_BUYER', ..., 'MULTI_BUYER',\n",
       "       'SINGLE_BUYER', 'MULTI_BUYER'], dtype=object)"
      ]
     },
     "execution_count": 91,
     "metadata": {},
     "output_type": "execute_result"
    }
   ],
   "source": [
    "df_cust['CUSTOMER_GROUP'].values"
   ]
  },
  {
   "cell_type": "code",
   "execution_count": 92,
   "metadata": {},
   "outputs": [],
   "source": [
    "#encode customer group column\n",
    "df_cust['CUSTOMER_GROUP'] = df_cust['CUSTOMER_GROUP'].replace({'SINGLE_BUYER': 0,\n",
    "                                                   'MULTI_BUYER': 1})"
   ]
  },
  {
   "cell_type": "code",
   "execution_count": 93,
   "metadata": {},
   "outputs": [
    {
     "name": "stdout",
     "output_type": "stream",
     "text": [
      "Tests OK\n"
     ]
    }
   ],
   "source": [
    "#should be equal to the no of cols if all True\n",
    "assert(sum([is_numeric_dtype(df_cust[col]) for col in df_cust.columns]) == df_cust.shape[1])\n",
    "print('Tests OK')"
   ]
  },
  {
   "cell_type": "code",
   "execution_count": 94,
   "metadata": {},
   "outputs": [],
   "source": [
    "#scale\n",
    "X_cust_scale = scaler.fit_transform(df_cust)"
   ]
  },
  {
   "cell_type": "code",
   "execution_count": 95,
   "metadata": {},
   "outputs": [
    {
     "data": {
      "text/plain": [
       "(191652, 150)"
      ]
     },
     "execution_count": 95,
     "metadata": {},
     "output_type": "execute_result"
    }
   ],
   "source": [
    "#PCA\n",
    "X_cust_pca = pca.fit_transform(X_cust_scale)\n",
    "X_cust_pca.shape"
   ]
  },
  {
   "cell_type": "code",
   "execution_count": 96,
   "metadata": {},
   "outputs": [],
   "source": [
    "upper = X_cust_pca.shape[1] + 1"
   ]
  },
  {
   "cell_type": "code",
   "execution_count": 97,
   "metadata": {},
   "outputs": [],
   "source": [
    "#Use kmeans to predict\n",
    "X_cust_kmeans = kmeans.predict(X_cust_pca)"
   ]
  },
  {
   "cell_type": "code",
   "execution_count": 98,
   "metadata": {},
   "outputs": [],
   "source": [
    "df_cust_pca = pd.DataFrame(X_cust_pca, columns=np.arange(1, upper))"
   ]
  },
  {
   "cell_type": "markdown",
   "metadata": {},
   "source": [
    "# Compare the proportion of data in each cluster for the customer data to the general population."
   ]
  },
  {
   "cell_type": "code",
   "execution_count": 99,
   "metadata": {},
   "outputs": [
    {
     "name": "stderr",
     "output_type": "stream",
     "text": [
      "/opt/conda/envs/Python-3.6-CUDA/lib/python3.6/site-packages/ipykernel/__main__.py:8: DeprecationWarning: `itemfreq` is deprecated!\n",
      "`itemfreq` is deprecated and will be removed in a future version. Use instead `np.unique(..., return_counts=True)`\n",
      "/opt/conda/envs/Python-3.6-CUDA/lib/python3.6/site-packages/ipykernel/__main__.py:20: DeprecationWarning: `itemfreq` is deprecated!\n",
      "`itemfreq` is deprecated and will be removed in a future version. Use instead `np.unique(..., return_counts=True)`\n"
     ]
    }
   ],
   "source": [
    "\n",
    "\n",
    "# General population dataset kmean labels\n",
    "gen_clust_labels = kmeans.labels_\n",
    "\n",
    "# Add the high NaN dataset as a cluster with label -1 \n",
    "gen_clust_labels_na = np.append(gen_clust_labels, [-1] * high_nan.shape[0])\n",
    "\n",
    "# Make proportion table\n",
    "gen_clust_freq = itemfreq(gen_clust_labels_na)\n",
    "gen_proportion_col = gen_clust_freq[:, 1] / gen_clust_freq[:, 1].sum()\n",
    "gen_clust_freq = np.c_[gen_clust_freq, gen_proportion_col]\n",
    "\n",
    "\n",
    "# customer dataset\n",
    "cust_clust_labels = X_cust_kmeans\n",
    "\n",
    "# Add the high NaN dataset as a cluster with label -1 \n",
    "cust_clust_labels_na = np.append(cust_clust_labels, [-1] * df_cust_highna.shape[0])\n",
    "\n",
    "# Make proportion table\n",
    "cust_clust_freq = itemfreq(cust_clust_labels_na)\n",
    "cust_proportion_col = cust_clust_freq[:, 1] / cust_clust_freq[:, 1].sum()\n",
    "cust_clust_freq = np.c_[cust_clust_freq, cust_proportion_col]"
   ]
  },
  {
   "cell_type": "code",
   "execution_count": 100,
   "metadata": {},
   "outputs": [
    {
     "data": {
      "image/png": "[encoded data removed]",
      "text/plain": [
       "<Figure size 1152x720 with 2 Axes>"
      ]
     },
     "metadata": {
      "needs_background": "light"
     },
     "output_type": "display_data"
    }
   ],
   "source": [
    "# Plot\n",
    "fig, axes = plt.subplots(1,2, figsize=(16, 10), sharey=True)\n",
    "sns.barplot(x=gen_clust_freq[:, 0], y=gen_clust_freq[:, 2], color='pink', ax=axes[0]);\n",
    "sns.barplot(x=cust_clust_freq[:, 0], y=cust_clust_freq[:, 2], color='green', ax=axes[1]);\n",
    "\n",
    "axes[0].set_title('General Population')\n",
    "axes[1].set_title('Customer Data');"
   ]
  },
  {
   "cell_type": "code",
   "execution_count": 101,
   "metadata": {},
   "outputs": [
    {
     "data": {
      "image/png": "[encoded data removed]",
      "text/plain": [
       "<Figure size 1152x720 with 1 Axes>"
      ]
     },
     "metadata": {
      "needs_background": "light"
     },
     "output_type": "display_data"
    }
   ],
   "source": [
    "# create plot\n",
    "fig, ax = plt.subplots(figsize=(16, 10))\n",
    "index = np.append([-1], np.arange(10))\n",
    "bar_width = 0.35\n",
    "opacity = 0.8\n",
    " \n",
    "gen = plt.bar(index, gen_clust_freq[:, 2], bar_width,\n",
    "                 alpha=opacity,\n",
    "                 color='pink',\n",
    "                 label='General Population')\n",
    " \n",
    "cust = plt.bar(index + bar_width, cust_clust_freq[:, 2], bar_width,\n",
    "                 alpha=opacity,\n",
    "                 color='g',\n",
    "                 label='Customer Data')\n",
    " \n",
    "plt.xlabel('# of Cluster')\n",
    "plt.ylabel('Proportion of cluster')\n",
    "plt.title('Proportions of Clusters for General and Customer Data')\n",
    "plt.xticks(index + bar_width, index)\n",
    "plt.legend()\n",
    " \n",
    "plt.tight_layout()\n",
    "sns.set(style=\"whitegrid\")\n",
    "sns.despine();"
   ]
  },
  {
   "cell_type": "code",
   "execution_count": 102,
   "metadata": {},
   "outputs": [
    {
     "data": {
      "text/plain": [
       "(747720, 432)"
      ]
     },
     "execution_count": 102,
     "metadata": {},
     "output_type": "execute_result"
    }
   ],
   "source": [
    "df.shape"
   ]
  },
  {
   "cell_type": "code",
   "execution_count": 103,
   "metadata": {},
   "outputs": [],
   "source": [
    "#this is similar to our last function but using kmeans\n",
    "def map_weights_to_feats(pca, df, comp_no):\n",
    "    '''Maps pca weights to features\n",
    "    and returns two series with the highest\n",
    "    positive weights/lowest negative\n",
    "    weights'''\n",
    "\n",
    "    weights = pd.DataFrame(np.round(pca.components_, 4), columns=df.keys())\n",
    "    component = weights.iloc[comp_no - 1, :]\n",
    "    comp_pos = component[component > 0].sort_values(ascending=False)\n",
    "    comp_neg = component[component < 0].sort_values(ascending=True)\n",
    "\n",
    "    return comp_pos, comp_neg"
   ]
  },
  {
   "cell_type": "code",
   "execution_count": 104,
   "metadata": {},
   "outputs": [],
   "source": [
    "#apply map_weights_to_feats function to find first component\n",
    "comp_pos1, comp_neg1 = map_weights_to_feats(pca, df_cust, 1)"
   ]
  },
  {
   "cell_type": "code",
   "execution_count": 105,
   "metadata": {},
   "outputs": [
    {
     "data": {
      "text/plain": [
       "(D19_GESAMT_ANZ_24                        0.1325\n",
       " SEMIO_VERT                               0.1301\n",
       " LP_FAMILIE_GROB                          0.1243\n",
       " D19_VERSAND_ANZ_24                       0.1223\n",
       " D19_GESAMT_ANZ_12                        0.1190\n",
       " FINANZ_MINIMALIST                        0.1178\n",
       " LP_FAMILIE_FEIN                          0.1122\n",
       " D19_SONSTIGE                             0.1100\n",
       " D19_VERSAND_ANZ_12                       0.1090\n",
       " ALTERSKATEGORIE_GROB                     0.1063\n",
       " LP_STATUS_GROB                           0.1045\n",
       " ONLINE_AFFINITAET                        0.1044\n",
       " FINANZ_VORSORGER                         0.1017\n",
       " MOVEMENT                                 0.1008\n",
       " GREEN_AVANTGARDE                         0.1008\n",
       " D19_GESAMT_ONLINE_QUOTE_12               0.1002\n",
       " D19_TECHNIK                              0.0989\n",
       " SEMIO_SOZ                                0.0985\n",
       " D19_BUCH_CD                              0.0982\n",
       " D19_VERSAND_ONLINE_QUOTE_12              0.0965\n",
       " D19_VOLLSORTIMENT                        0.0947\n",
       " D19_HAUS_DEKO                            0.0870\n",
       " LP_STATUS_FEIN                           0.0863\n",
       " D19_BEKLEIDUNG_REST                      0.0832\n",
       " D19_REISEN                               0.0801\n",
       " D19_KOSMETIK                             0.0774\n",
       " D19_HANDWERK                             0.0748\n",
       " D19_VERSICHERUNGEN                       0.0744\n",
       " D19_LOTTO                                0.0740\n",
       " D19_KINDERARTIKEL                        0.0731\n",
       "                                           ...  \n",
       " KBA13_CCM_2501                           0.0034\n",
       " CAMEO_DEU_2015_8B                        0.0033\n",
       " SEMIO_TRADV                              0.0032\n",
       " D19_LETZTER_KAUF_BRANCHE_D19_KOSMETIK    0.0032\n",
       " D19_LETZTER_KAUF_BRANCHE_D19_LOTTO       0.0031\n",
       " KBA13_KW_121                             0.0030\n",
       " KBA05_AUTOQUOT                           0.0030\n",
       " CUSTOMER_GROUP                           0.0029\n",
       " KBA05_SEG4                               0.0029\n",
       " CAMEO_DEU_2015_6E                        0.0027\n",
       " KBA13_CCM_3000                           0.0026\n",
       " CAMEO_DEU_2015_7E                        0.0025\n",
       " CAMEO_DEU_2015_6F                        0.0023\n",
       " CAMEO_DEU_2015_7B                        0.0023\n",
       " KBA13_GBZ                                0.0022\n",
       " KBA13_SEG_MINIWAGEN                      0.0020\n",
       " KBA13_KMH_211                            0.0018\n",
       " CAMEO_DEU_2015_9A                        0.0017\n",
       " KBA13_KMH_250                            0.0013\n",
       " KBA05_SEG5                               0.0012\n",
       " PRODUCT_GROUP_COSMETIC                   0.0012\n",
       " PRODUCT_GROUP_COSMETIC_AND_FOOD          0.0010\n",
       " CAMEO_DEU_2015_8C                        0.0010\n",
       " CAMEO_DEU_2015_7C                        0.0008\n",
       " GEBAEUDETYP_RASTER                       0.0008\n",
       " CAMEO_DEU_2015_7D                        0.0007\n",
       " KBA05_VORB1                              0.0006\n",
       " KBA13_CCM_1401_2500                      0.0004\n",
       " KBA13_ANTG3                              0.0003\n",
       " PLZ8_ANTG3                               0.0002\n",
       " Name: 0, Length: 277, dtype: float64,\n",
       " row_nan_perc                             -0.1458\n",
       " row_nans                                 -0.1458\n",
       " KOMBIALTER                               -0.1448\n",
       " D19_KONSUMTYP_MAX                        -0.1439\n",
       " D19_GESAMT_DATUM                         -0.1435\n",
       " D19_LETZTER_KAUF_BRANCHE_D19_UNBEKANNT   -0.1403\n",
       " D19_VERSAND_DATUM                        -0.1331\n",
       " FINANZ_ANLEGER                           -0.1292\n",
       " FINANZ_SPARER                            -0.1263\n",
       " D19_GESAMT_ONLINE_DATUM                  -0.1253\n",
       " FINANZ_UNAUFFAELLIGER                    -0.1246\n",
       " CJT_TYP_2                                -0.1207\n",
       " SEMIO_KRIT                               -0.1202\n",
       " D19_VERSAND_ONLINE_DATUM                 -0.1190\n",
       " CJT_TYP_1                                -0.1143\n",
       " SEMIO_REL                                -0.1116\n",
       " SEMIO_KAEM                               -0.1031\n",
       " D19_GESAMT_OFFLINE_DATUM                 -0.1029\n",
       " D19_VERSAND_OFFLINE_DATUM                -0.0957\n",
       " RT_KEIN_ANREIZ                           -0.0937\n",
       " CJT_KATALOGNUTZER                        -0.0911\n",
       " SEMIO_DOM                                -0.0911\n",
       " SEMIO_PFLICHT                            -0.0870\n",
       " CJT_GESAMTTYP                            -0.0819\n",
       " W_KEIT_KIND_HH                           -0.0723\n",
       " ZABEOTYP                                 -0.0719\n",
       " D19_BANKEN_DATUM                         -0.0708\n",
       " D19_VERSI_DATUM                          -0.0691\n",
       " D19_TELKO_DATUM                          -0.0677\n",
       " SEMIO_FAM                                -0.0673\n",
       "                                            ...  \n",
       " OST_WEST_KZ                              -0.0061\n",
       " KBA05_ANTG4                              -0.0057\n",
       " KBA13_BJ_2009                            -0.0056\n",
       " ANZ_HH_TITEL                             -0.0055\n",
       " KBA13_SEG_MITTELKLASSE                   -0.0050\n",
       " CAMEO_DEU_2015_9E                        -0.0046\n",
       " HEALTH_TYP                               -0.0042\n",
       " KBA13_BJ_2008                            -0.0042\n",
       " CAMEO_DEU_2015_9D                        -0.0040\n",
       " KBA13_SEG_OBERKLASSE                     -0.0040\n",
       " ANZ_STATISTISCHE_HAUSHALTE               -0.0040\n",
       " CAMEO_DEU_2015_8D                        -0.0035\n",
       " KBA13_CCM_2500                           -0.0030\n",
       " KBA13_CCM_1200                           -0.0030\n",
       " PLZ8_ANTG1                               -0.0030\n",
       " KBA13_KW_40                              -0.0028\n",
       " KBA13_KW_50                              -0.0028\n",
       " PRODUCT_GROUP_FOOD                       -0.0023\n",
       " KBA05_MOD3                               -0.0022\n",
       " CAMEO_DEU_2015_9C                        -0.0021\n",
       " KBA05_MOD1                               -0.0020\n",
       " KBA13_TOYOTA                             -0.0020\n",
       " KBA05_BAUMAX                             -0.0017\n",
       " KBA13_KW_60                              -0.0017\n",
       " CAMEO_DEU_2015_8A                        -0.0015\n",
       " CAMEO_DEU_2015_9B                        -0.0015\n",
       " PLZ8_GBZ                                 -0.0012\n",
       " KBA05_ANTG3                              -0.0010\n",
       " KBA05_FRAU                               -0.0002\n",
       " MIN_GEBAEUDEJAHR                         -0.0001\n",
       " Name: 0, Length: 162, dtype: float64)"
      ]
     },
     "execution_count": 105,
     "metadata": {},
     "output_type": "execute_result"
    }
   ],
   "source": [
    "comp_pos1, comp_neg1"
   ]
  },
  {
   "cell_type": "code",
   "execution_count": 106,
   "metadata": {},
   "outputs": [
    {
     "data": {
      "text/plain": [
       "(KBA13_ANTG3                                  0.1598\n",
       " PLZ8_ANTG3                                   0.1576\n",
       " EWDICHTE                                     0.1518\n",
       " KBA13_ANTG4                                  0.1509\n",
       " PLZ8_ANTG4                                   0.1476\n",
       " KBA13_BAUMAX                                 0.1474\n",
       " ORTSGR_KLS9                                  0.1467\n",
       " KBA05_BAUMAX                                 0.1118\n",
       " FINANZ_HAUSBAUER                             0.1112\n",
       " PLZ8_ANTG2                                   0.1078\n",
       " WEALTH                                       0.1067\n",
       " KONSUMZELLE                                  0.1023\n",
       " KBA05_ANTG4                                  0.1002\n",
       " RELAT_AB                                     0.0986\n",
       " CAMEO_DEUG_2015                              0.0958\n",
       " HH_EINKOMMEN_SCORE                           0.0925\n",
       " STRUKTURTYP                                  0.0923\n",
       " KBA05_ANTG3                                  0.0915\n",
       " KBA13_ANTG2                                  0.0909\n",
       " KBA13_SITZE_4                                0.0890\n",
       " KBA13_HERST_BMW_BENZ                         0.0883\n",
       " KBA13_ALTERHALTER_61                         0.0866\n",
       " ARBEIT                                       0.0857\n",
       " KBA13_HALTER_66                              0.0851\n",
       " ANZ_STATISTISCHE_HAUSHALTE                   0.0826\n",
       " KBA13_SEG_OBEREMITTELKLASSE                  0.0810\n",
       " ANZ_HAUSHALTE_AKTIV                          0.0791\n",
       " KBA13_BMW                                    0.0763\n",
       " VHN                                          0.0716\n",
       " KBA13_MERCEDES                               0.0701\n",
       "                                               ...  \n",
       " D19_VOLLSORTIMENT                            0.0044\n",
       " KBA05_KRSZUL                                 0.0044\n",
       " CAMEO_DEU_2015_1B                            0.0041\n",
       " D19_LETZTER_KAUF_BRANCHE_D19_BIO_OEKO        0.0037\n",
       " D19_GESAMT_DATUM                             0.0036\n",
       " D19_LETZTER_KAUF_BRANCHE_D19_TELKO_MOBILE    0.0036\n",
       " CAMEO_DEU_2015_4D                            0.0034\n",
       " KBA13_BJ_2008                                0.0033\n",
       " SOHO_KZ                                      0.0031\n",
       " D19_TELKO_ONLINE_DATUM                       0.0030\n",
       " D19_VERSAND_OFFLINE_DATUM                    0.0029\n",
       " D19_VERSI_ONLINE_DATUM                       0.0029\n",
       " D19_BEKLEIDUNG_GEH                           0.0028\n",
       " D19_LETZTER_KAUF_BRANCHE_D19_REISEN          0.0028\n",
       " CJT_TYP_4                                    0.0026\n",
       " CAMEO_DEU_2015_5F                            0.0025\n",
       " D19_LETZTER_KAUF_BRANCHE_D19_BANKEN_REST     0.0022\n",
       " D19_KOSMETIK                                 0.0022\n",
       " D19_LETZTER_KAUF_BRANCHE_D19_DIGIT_SERV      0.0021\n",
       " D19_LETZTER_KAUF_BRANCHE_D19_RATGEBER        0.0018\n",
       " KBA05_MAXHERST                               0.0014\n",
       " D19_LETZTER_KAUF_BRANCHE_D19_TECHNIK         0.0010\n",
       " CAMEO_DEU_2015_4E                            0.0009\n",
       " KBA13_ALTERHALTER_30                         0.0009\n",
       " D19_WEIN_FEINKOST                            0.0008\n",
       " D19_LETZTER_KAUF_BRANCHE_D19_BANKEN_LOKAL    0.0007\n",
       " D19_LETZTER_KAUF_BRANCHE_D19_ENERGIE         0.0007\n",
       " KBA13_KMH_210                                0.0005\n",
       " D19_LETZTER_KAUF_BRANCHE_D19_LOTTO           0.0003\n",
       " D19_LETZTER_KAUF_BRANCHE_D19_HANDWERK        0.0002\n",
       " Name: 1, Length: 197, dtype: float64,\n",
       " KBA13_ALTERHALTER_60                           -0.1481\n",
       " PLZ8_ANTG1                                     -0.1479\n",
       " MOBI_REGIO                                     -0.1471\n",
       " KBA13_AUTOQUOTE                                -0.1441\n",
       " KBA13_HALTER_50                                -0.1371\n",
       " KBA13_HALTER_55                                -0.1369\n",
       " MOBI_RASTER                                    -0.1357\n",
       " KBA05_GBZ                                      -0.1295\n",
       " GEMEINDETYP                                    -0.1283\n",
       " KBA13_ANTG1                                    -0.1208\n",
       " KBA05_AUTOQUOT                                 -0.1173\n",
       " KONSUMNAEHE                                    -0.1156\n",
       " INNENSTADT                                     -0.1153\n",
       " KBA05_ANTG1                                    -0.1136\n",
       " FIRMENDICHTE                                   -0.1136\n",
       " KBA05_ANHANG                                   -0.1066\n",
       " BALLRAUM                                       -0.1043\n",
       " PLZ8_GBZ                                       -0.1023\n",
       " KBA13_GBZ                                      -0.1021\n",
       " KBA13_HALTER_20                                -0.1005\n",
       " KBA13_HALTER_60                                -0.0962\n",
       " LP_STATUS_FEIN                                 -0.0895\n",
       " GEBAEUDETYP_RASTER                             -0.0864\n",
       " KBA13_HERST_FORD_OPEL                          -0.0761\n",
       " FINANZ_ANLEGER                                 -0.0753\n",
       " KBA13_OPEL                                     -0.0698\n",
       " KBA13_SEG_MINIVANS                             -0.0688\n",
       " KBA13_SITZE_5                                  -0.0683\n",
       " KBA13_KMH_140_210                              -0.0671\n",
       " KBA13_SEG_VAN                                  -0.0661\n",
       "                                                  ...  \n",
       " AGER_TYP                                       -0.0032\n",
       " D19_LETZTER_KAUF_BRANCHE_D19_FREIZEIT          -0.0031\n",
       " D19_REISEN                                     -0.0031\n",
       " REGIOTYP                                       -0.0031\n",
       " SEMIO_MAT                                      -0.0030\n",
       " KBA05_HERSTTEMP                                -0.0030\n",
       " D19_ENERGIE                                    -0.0029\n",
       " KBA13_SEG_WOHNMOBILE                           -0.0028\n",
       " KBA13_CCM_0_1400                               -0.0021\n",
       " D19_LETZTER_KAUF_BRANCHE_D19_HAUS_DEKO         -0.0020\n",
       " KBA13_CCM_2000                                 -0.0018\n",
       " KBA13_KRSHERST_AUDI_VW                         -0.0018\n",
       " D19_VERSI_ONLINE_QUOTE_12                      -0.0017\n",
       " D19_TELKO_ONLINE_QUOTE_12                      -0.0017\n",
       " KBA13_KMH_110                                  -0.0016\n",
       " D19_NAHRUNGSERGAENZUNG                         -0.0016\n",
       " KBA05_MAXBJ                                    -0.0016\n",
       " D19_BANKEN_GROSS                               -0.0014\n",
       " D19_TECHNIK                                    -0.0013\n",
       " D19_LETZTER_KAUF_BRANCHE_D19_BILDUNG           -0.0013\n",
       " D19_LETZTER_KAUF_BRANCHE_D19_DROGERIEARTIKEL   -0.0011\n",
       " D19_LETZTER_KAUF_BRANCHE_D19_GARTEN            -0.0011\n",
       " KBA05_HERST4                                   -0.0011\n",
       " SEMIO_DOM                                      -0.0009\n",
       " KBA05_KRSHERST2                                -0.0008\n",
       " D19_LETZTER_KAUF_BRANCHE_D19_KOSMETIK          -0.0006\n",
       " D19_LETZTER_KAUF_BRANCHE_D19_BANKEN_DIREKT     -0.0006\n",
       " KBA05_CCM3                                     -0.0004\n",
       " D19_GESAMT_OFFLINE_DATUM                       -0.0003\n",
       " KBA05_MOD3                                     -0.0001\n",
       " Name: 1, Length: 242, dtype: float64)"
      ]
     },
     "execution_count": 106,
     "metadata": {},
     "output_type": "execute_result"
    }
   ],
   "source": [
    "comp_pos2, comp_neg2 = map_weights_to_feats(pca, df_cust, 2)\n",
    "comp_pos2, comp_neg2"
   ]
  },
  {
   "cell_type": "code",
   "execution_count": 107,
   "metadata": {},
   "outputs": [
    {
     "data": {
      "text/plain": [
       "(HH_EINKOMMEN_SCORE                                 0.1329\n",
       " KBA13_KW_0_60                                      0.1263\n",
       " KBA13_KMH_180                                      0.1260\n",
       " CAMEO_DEUG_2015                                    0.1158\n",
       " WEALTH                                             0.1147\n",
       " KKK                                                0.1108\n",
       " KBA13_SEG_KLEINWAGEN                               0.1080\n",
       " KBA13_KMH_140_210                                  0.1074\n",
       " KBA13_SEG_KLEINST                                  0.1038\n",
       " REGIOTYP                                           0.0987\n",
       " KBA13_CCM_1400                                     0.0935\n",
       " KBA05_KW1                                          0.0932\n",
       " KBA13_KRSHERST_FORD_OPEL                           0.0904\n",
       " KBA05_MAXHERST                                     0.0889\n",
       " KBA13_CCM_0_1400                                   0.0874\n",
       " KBA13_HERST_FORD_OPEL                              0.0873\n",
       " KBA13_BJ_2000                                      0.0868\n",
       " KBA13_SEG_KOMPAKTKLASSE                            0.0840\n",
       " KBA13_ALTERHALTER_30                               0.0794\n",
       " KBA05_CCM1                                         0.0789\n",
       " KBA13_BJ_1999                                      0.0772\n",
       " KBA13_SITZE_5                                      0.0771\n",
       " KBA13_KW_50                                        0.0753\n",
       " KBA13_OPEL                                         0.0744\n",
       " KBA13_KW_40                                        0.0742\n",
       " KBA13_CCM_1200                                     0.0738\n",
       " KBA13_BAUMAX                                       0.0733\n",
       " KBA13_KW_60                                        0.0726\n",
       " KBA13_HALTER_30                                    0.0721\n",
       " KBA13_HALTER_25                                    0.0707\n",
       "                                                     ...  \n",
       " D19_TELKO_ONLINE_QUOTE_12                          0.0036\n",
       " D19_LETZTER_KAUF_BRANCHE_D19_TECHNIK               0.0036\n",
       " D19_VERSI_ONLINE_QUOTE_12                          0.0035\n",
       " D19_LETZTER_KAUF_BRANCHE_D19_NAHRUNGSERGAENZUNG    0.0034\n",
       " KBA13_BJ_2004                                      0.0034\n",
       " SOHO_KZ                                            0.0031\n",
       " CAMEO_DEU_2015_3A                                  0.0030\n",
       " KBA13_HALTER_60                                    0.0029\n",
       " D19_LETZTER_KAUF_BRANCHE_D19_LEBENSMITTEL          0.0028\n",
       " D19_LETZTER_KAUF_BRANCHE_D19_TIERARTIKEL           0.0026\n",
       " D19_BEKLEIDUNG_GEH                                 0.0026\n",
       " D19_LETZTER_KAUF_BRANCHE_D19_BILDUNG               0.0025\n",
       " D19_LETZTER_KAUF_BRANCHE_D19_REISEN                0.0025\n",
       " ANZ_PERSONEN                                       0.0024\n",
       " D19_LETZTER_KAUF_BRANCHE_D19_BANKEN_REST           0.0022\n",
       " D19_LETZTER_KAUF_BRANCHE_D19_RATGEBER              0.0022\n",
       " D19_LETZTER_KAUF_BRANCHE_D19_LOTTO                 0.0021\n",
       " D19_LETZTER_KAUF_BRANCHE_D19_GARTEN                0.0020\n",
       " CAMEO_DEU_2015_3C                                  0.0019\n",
       " D19_SOZIALES                                       0.0019\n",
       " KBA13_SEG_MINIVANS                                 0.0018\n",
       " D19_LETZTER_KAUF_BRANCHE_D19_HANDWERK              0.0016\n",
       " D19_LETZTER_KAUF_BRANCHE_D19_BANKEN_LOKAL          0.0014\n",
       " INNENSTADT                                         0.0014\n",
       " KBA13_SEG_MITTELKLASSE                             0.0012\n",
       " D19_LETZTER_KAUF_BRANCHE_D19_DIGIT_SERV            0.0012\n",
       " D19_LETZTER_KAUF_BRANCHE_D19_KOSMETIK              0.0010\n",
       " D19_LETZTER_KAUF_BRANCHE_D19_BIO_OEKO              0.0010\n",
       " VK_DHT4A                                           0.0002\n",
       " KBA13_HHZ                                          0.0001\n",
       " Name: 2, Length: 260, dtype: float64,\n",
       " KBA13_KMH_211                                 -0.1284\n",
       " KBA13_KMH_250                                 -0.1267\n",
       " KBA05_KW3                                     -0.1264\n",
       " KBA05_HERST1                                  -0.1231\n",
       " KBA13_KW_121                                  -0.1226\n",
       " KBA13_HERST_BMW_BENZ                          -0.1208\n",
       " KBA13_CCM_2501                                -0.1170\n",
       " KBA05_MOTOR                                   -0.1167\n",
       " KBA05_MOD1                                    -0.1149\n",
       " KBA13_KRSHERST_BMW_BENZ                       -0.1114\n",
       " KBA13_SEG_SPORTWAGEN                          -0.1084\n",
       " KBA13_SEG_OBEREMITTELKLASSE                   -0.1064\n",
       " KBA05_SEG5                                    -0.1059\n",
       " KBA13_MERCEDES                                -0.1050\n",
       " KBA13_SEG_OBERKLASSE                          -0.1041\n",
       " KBA13_CCM_3000                                -0.1034\n",
       " KBA13_CCM_3001                                -0.0968\n",
       " KBA05_CCM4                                    -0.0953\n",
       " KBA13_CCM_2500                                -0.0947\n",
       " KBA13_BMW                                     -0.0941\n",
       " KBA05_KRSHERST1                               -0.0910\n",
       " KBA13_VORB_0                                  -0.0882\n",
       " KBA13_SEG_GELAENDEWAGEN                       -0.0813\n",
       " LIFE_STAGE                                    -0.0808\n",
       " MOBI_REGIO                                    -0.0779\n",
       " KBA13_KRSZUL_NEU                              -0.0779\n",
       " PLZ8_ANTG1                                    -0.0766\n",
       " KBA05_SEG8                                    -0.0765\n",
       " KBA13_KW_110                                  -0.0748\n",
       " KBA13_BJ_2008                                 -0.0733\n",
       "                                                 ...  \n",
       " ORTSGR_KLS9                                   -0.0088\n",
       " CJT_TYP_1                                     -0.0082\n",
       " KBA05_MOTRAD                                  -0.0079\n",
       " D19_VERSI_OFFLINE_DATUM                       -0.0079\n",
       " PRODUCT_GROUP_COSMETIC_AND_FOOD               -0.0077\n",
       " D19_TELKO_ONLINE_DATUM                        -0.0070\n",
       " ANZ_HH_TITEL                                  -0.0061\n",
       " TITEL_KZ                                      -0.0059\n",
       " CAMEO_DEU_2015_4D                             -0.0058\n",
       " D19_VERSI_ONLINE_DATUM                        -0.0053\n",
       " KBA13_VW                                      -0.0052\n",
       " D19_LETZTER_KAUF_BRANCHE_D19_ENERGIE          -0.0051\n",
       " KONSUMNAEHE                                   -0.0050\n",
       " CAMEO_DEU_2015_2A                             -0.0046\n",
       " CAMEO_DEU_2015_4E                             -0.0039\n",
       " D19_LETZTER_KAUF_BRANCHE_D19_SONSTIGE         -0.0037\n",
       " RETOURTYP_BK_S                                -0.0036\n",
       " SEMIO_TRADV                                   -0.0035\n",
       " CAMEO_DEU_2015_5E                             -0.0031\n",
       " CAMEO_DEU_2015_5F                             -0.0031\n",
       " D19_LETZTER_KAUF_BRANCHE_D19_WEIN_FEINKOST    -0.0031\n",
       " VHN                                           -0.0030\n",
       " D19_LETZTER_KAUF_BRANCHE_D19_BEKLEIDUNG_GEH   -0.0027\n",
       " KBA05_KRSVAN                                  -0.0025\n",
       " KBA05_ANHANG                                  -0.0024\n",
       " CAMEO_DEU_2015_2C                             -0.0015\n",
       " RT_UEBERGROESSE                               -0.0004\n",
       " D19_LETZTER_KAUF_BRANCHE_D19_SAMMELARTIKEL    -0.0002\n",
       " SEMIO_KULT                                    -0.0001\n",
       " PLZ8_HHZ                                      -0.0001\n",
       " Name: 2, Length: 179, dtype: float64)"
      ]
     },
     "execution_count": 107,
     "metadata": {},
     "output_type": "execute_result"
    }
   ],
   "source": [
    "# Map weights for the third principal component to corresponding feature names\n",
    "# and then print the linked values, sorted by weight.\n",
    "comp_pos3, comp_neg3 = map_weights_to_feats(pca, df_cust, 3)\n",
    "comp_pos3, comp_neg3"
   ]
  },
  {
   "cell_type": "code",
   "execution_count": 108,
   "metadata": {},
   "outputs": [],
   "source": [
    "# Add cluster labels\n",
    "df_cust_pca['cluster'] = X_cust_kmeans"
   ]
  },
  {
   "cell_type": "code",
   "execution_count": 109,
   "metadata": {},
   "outputs": [],
   "source": [
    "def list_reconstruct_component(DF, model, nth_compo, pca):\n",
    "    #reversing the reduction to get back to the original features\n",
    "    listing = pd.DataFrame({'Features':list(DF.keys()),'Weights':pca.inverse_transform(model.cluster_centers_)[nth_compo]}).sort_values('Weights', axis=0, ascending=False).values.tolist()\n",
    "    \n",
    "    return listing"
   ]
  },
  {
   "cell_type": "code",
   "execution_count": 110,
   "metadata": {},
   "outputs": [],
   "source": [
    "def plot_scaled_comparison(df_sample, kmeans, cluster):\n",
    "    #plotting the clusters and their composition helper function\n",
    "    X = pd.DataFrame.from_dict(dict(zip(df_sample.columns,\n",
    "                                        pca.inverse_transform(kmeans.cluster_centers_[cluster]))),\n",
    "                               orient='index').rename(columns={0: 'feature_values'}).sort_values('feature_values',\n",
    "                                                                                                 ascending=False)\n",
    "    X['feature_values_abs'] = abs(X['feature_values'])\n",
    "    pd.concat((X['feature_values'][:10], X['feature_values'][-10:]), axis=0).plot(kind='barh');"
   ]
  },
  {
   "cell_type": "code",
   "execution_count": 111,
   "metadata": {},
   "outputs": [],
   "source": [
    "\n",
    "def plot_cluster(df, model, cluster_list, title):\n",
    "    #plotting the clusters and their composition\n",
    "    size=len(cluster_list)\n",
    "    plt.figure(figsize=(16, size*5))\n",
    "    for i in range(size):\n",
    "        plt.subplot(size,1,i+1)\n",
    "        plot_scaled_comparison(df, model, cluster_list[i])\n",
    "        plt.title(title + ' cluster ' + str(cluster_list[i]))\n",
    "    plt.show()"
   ]
  },
  {
   "cell_type": "code",
   "execution_count": 112,
   "metadata": {},
   "outputs": [
    {
     "data": {
      "image/png": "[encoded data removed]",
      "text/plain": [
       "<Figure size 1152x1080 with 3 Axes>"
      ]
     },
     "metadata": {},
     "output_type": "display_data"
    }
   ],
   "source": [
    "plot_cluster(df, model_10, [-1,2,4], 'Customer')"
   ]
  },
  {
   "cell_type": "code",
   "execution_count": 114,
   "metadata": {},
   "outputs": [
    {
     "data": {
      "image/png": "[encoded data removed]",
      "text/plain": [
       "<Figure size 1152x1080 with 3 Axes>"
      ]
     },
     "metadata": {},
     "output_type": "display_data"
    }
   ],
   "source": [
    "plot_cluster(df, model_10, [1,6,9], 'Customer')"
   ]
  },
  {
   "cell_type": "markdown",
   "metadata": {},
   "source": [
    "These clusters, (3 being the gender cluster) show that the most overrepresented group is men that are less dreamful, less socially-minded, not financial minimalists. Since they have a higher financial status they also live in less densely populated areas. The negative weight for the age-generation principal component suggests these could be younger men,"
   ]
  },
  {
   "cell_type": "markdown",
   "metadata": {},
   "source": [
    "## Part 2: Supervised Learning Model\n",
    "\n",
    "Now that you've found which parts of the population are more likely to be customers of the mail-order company, it's time to build a prediction model. Each of the rows in the \"MAILOUT\" data files represents an individual that was targeted for a mailout campaign. Ideally, we should be able to use the demographic information from each individual to decide whether or not it will be worth it to include that person in the campaign.\n",
    "\n",
    "The \"MAILOUT\" data has been split into two approximately equal parts, each with almost 43 000 data rows. In this part, you can verify your model with the \"TRAIN\" partition, which includes a column, \"RESPONSE\", that states whether or not a person became a customer of the company following the campaign. In the next part, you'll need to create predictions on the \"TEST\" partition, where the \"RESPONSE\" column has been withheld."
   ]
  },
  {
   "cell_type": "code",
   "execution_count": null,
   "metadata": {},
   "outputs": [],
   "source": [
    "# mailout_train = pd.read_csv('../../data/Term2/capstone/arvato_data/Udacity_MAILOUT_052018_TRAIN.csv', sep=';')"
   ]
  },
  {
   "cell_type": "code",
   "execution_count": 123,
   "metadata": {},
   "outputs": [],
   "source": [
    "#import models and scoring\n",
    "from sklearn.model_selection import GridSearchCV, train_test_split\n",
    "from sklearn.model_selection import KFold\n",
    "from sklearn.preprocessing import MinMaxScaler\n",
    "from sklearn.metrics import roc_auc_score\n",
    "from sklearn.ensemble import RandomForestClassifier,  AdaBoostClassifier, GradientBoostingClassifier\n",
    "from IPython.display import clear_output\n"
   ]
  },
  {
   "cell_type": "markdown",
   "metadata": {},
   "source": [
    "### Load data"
   ]
  },
  {
   "cell_type": "code",
   "execution_count": 124,
   "metadata": {},
   "outputs": [
    {
     "name": "stderr",
     "output_type": "stream",
     "text": [
      "/opt/conda/envs/Python-3.6-CUDA/lib/python3.6/site-packages/IPython/core/interactiveshell.py:3063: DtypeWarning: Columns (19,20) have mixed types. Specify dtype option on import or set low_memory=False.\n",
      "  interactivity=interactivity, compiler=compiler, result=result)\n"
     ]
    },
    {
     "data": {
      "text/html": [
       "<div>\n",
       "<style scoped>\n",
       "    .dataframe tbody tr th:only-of-type {\n",
       "        vertical-align: middle;\n",
       "    }\n",
       "\n",
       "    .dataframe tbody tr th {\n",
       "        vertical-align: top;\n",
       "    }\n",
       "\n",
       "    .dataframe thead th {\n",
       "        text-align: right;\n",
       "    }\n",
       "</style>\n",
       "<table border=\"1\" class=\"dataframe\">\n",
       "  <thead>\n",
       "    <tr style=\"text-align: right;\">\n",
       "      <th></th>\n",
       "      <th>Unnamed: 0</th>\n",
       "      <th>LNR</th>\n",
       "      <th>AGER_TYP</th>\n",
       "      <th>AKT_DAT_KL</th>\n",
       "      <th>ALTER_HH</th>\n",
       "      <th>ALTER_KIND1</th>\n",
       "      <th>ALTER_KIND2</th>\n",
       "      <th>ALTER_KIND3</th>\n",
       "      <th>ALTER_KIND4</th>\n",
       "      <th>ALTERSKATEGORIE_FEIN</th>\n",
       "      <th>...</th>\n",
       "      <th>VK_DHT4A</th>\n",
       "      <th>VK_DISTANZ</th>\n",
       "      <th>VK_ZG11</th>\n",
       "      <th>W_KEIT_KIND_HH</th>\n",
       "      <th>WOHNDAUER_2008</th>\n",
       "      <th>WOHNLAGE</th>\n",
       "      <th>ZABEOTYP</th>\n",
       "      <th>RESPONSE</th>\n",
       "      <th>ANREDE_KZ</th>\n",
       "      <th>ALTERSKATEGORIE_GROB</th>\n",
       "    </tr>\n",
       "  </thead>\n",
       "  <tbody>\n",
       "    <tr>\n",
       "      <th>0</th>\n",
       "      <td>0</td>\n",
       "      <td>1763</td>\n",
       "      <td>2</td>\n",
       "      <td>1.0</td>\n",
       "      <td>8.0</td>\n",
       "      <td>NaN</td>\n",
       "      <td>NaN</td>\n",
       "      <td>NaN</td>\n",
       "      <td>NaN</td>\n",
       "      <td>8.0</td>\n",
       "      <td>...</td>\n",
       "      <td>5.0</td>\n",
       "      <td>2.0</td>\n",
       "      <td>1.0</td>\n",
       "      <td>6.0</td>\n",
       "      <td>9.0</td>\n",
       "      <td>3.0</td>\n",
       "      <td>3</td>\n",
       "      <td>0</td>\n",
       "      <td>2</td>\n",
       "      <td>4</td>\n",
       "    </tr>\n",
       "    <tr>\n",
       "      <th>1</th>\n",
       "      <td>1</td>\n",
       "      <td>1771</td>\n",
       "      <td>1</td>\n",
       "      <td>4.0</td>\n",
       "      <td>13.0</td>\n",
       "      <td>NaN</td>\n",
       "      <td>NaN</td>\n",
       "      <td>NaN</td>\n",
       "      <td>NaN</td>\n",
       "      <td>13.0</td>\n",
       "      <td>...</td>\n",
       "      <td>1.0</td>\n",
       "      <td>2.0</td>\n",
       "      <td>1.0</td>\n",
       "      <td>4.0</td>\n",
       "      <td>9.0</td>\n",
       "      <td>7.0</td>\n",
       "      <td>1</td>\n",
       "      <td>0</td>\n",
       "      <td>2</td>\n",
       "      <td>3</td>\n",
       "    </tr>\n",
       "    <tr>\n",
       "      <th>2</th>\n",
       "      <td>2</td>\n",
       "      <td>1776</td>\n",
       "      <td>1</td>\n",
       "      <td>1.0</td>\n",
       "      <td>9.0</td>\n",
       "      <td>NaN</td>\n",
       "      <td>NaN</td>\n",
       "      <td>NaN</td>\n",
       "      <td>NaN</td>\n",
       "      <td>7.0</td>\n",
       "      <td>...</td>\n",
       "      <td>6.0</td>\n",
       "      <td>4.0</td>\n",
       "      <td>2.0</td>\n",
       "      <td>NaN</td>\n",
       "      <td>9.0</td>\n",
       "      <td>2.0</td>\n",
       "      <td>3</td>\n",
       "      <td>0</td>\n",
       "      <td>1</td>\n",
       "      <td>4</td>\n",
       "    </tr>\n",
       "    <tr>\n",
       "      <th>3</th>\n",
       "      <td>3</td>\n",
       "      <td>1460</td>\n",
       "      <td>2</td>\n",
       "      <td>1.0</td>\n",
       "      <td>6.0</td>\n",
       "      <td>NaN</td>\n",
       "      <td>NaN</td>\n",
       "      <td>NaN</td>\n",
       "      <td>NaN</td>\n",
       "      <td>6.0</td>\n",
       "      <td>...</td>\n",
       "      <td>8.0</td>\n",
       "      <td>11.0</td>\n",
       "      <td>11.0</td>\n",
       "      <td>6.0</td>\n",
       "      <td>9.0</td>\n",
       "      <td>1.0</td>\n",
       "      <td>3</td>\n",
       "      <td>0</td>\n",
       "      <td>2</td>\n",
       "      <td>4</td>\n",
       "    </tr>\n",
       "    <tr>\n",
       "      <th>4</th>\n",
       "      <td>4</td>\n",
       "      <td>1783</td>\n",
       "      <td>2</td>\n",
       "      <td>1.0</td>\n",
       "      <td>9.0</td>\n",
       "      <td>NaN</td>\n",
       "      <td>NaN</td>\n",
       "      <td>NaN</td>\n",
       "      <td>NaN</td>\n",
       "      <td>9.0</td>\n",
       "      <td>...</td>\n",
       "      <td>2.0</td>\n",
       "      <td>2.0</td>\n",
       "      <td>1.0</td>\n",
       "      <td>6.0</td>\n",
       "      <td>9.0</td>\n",
       "      <td>3.0</td>\n",
       "      <td>3</td>\n",
       "      <td>0</td>\n",
       "      <td>1</td>\n",
       "      <td>3</td>\n",
       "    </tr>\n",
       "  </tbody>\n",
       "</table>\n",
       "<p>5 rows × 368 columns</p>\n",
       "</div>"
      ],
      "text/plain": [
       "   Unnamed: 0   LNR  AGER_TYP  AKT_DAT_KL  ALTER_HH  ALTER_KIND1  ALTER_KIND2  \\\n",
       "0           0  1763         2         1.0       8.0          NaN          NaN   \n",
       "1           1  1771         1         4.0      13.0          NaN          NaN   \n",
       "2           2  1776         1         1.0       9.0          NaN          NaN   \n",
       "3           3  1460         2         1.0       6.0          NaN          NaN   \n",
       "4           4  1783         2         1.0       9.0          NaN          NaN   \n",
       "\n",
       "   ALTER_KIND3  ALTER_KIND4  ALTERSKATEGORIE_FEIN  ...  VK_DHT4A  VK_DISTANZ  \\\n",
       "0          NaN          NaN                   8.0  ...       5.0         2.0   \n",
       "1          NaN          NaN                  13.0  ...       1.0         2.0   \n",
       "2          NaN          NaN                   7.0  ...       6.0         4.0   \n",
       "3          NaN          NaN                   6.0  ...       8.0        11.0   \n",
       "4          NaN          NaN                   9.0  ...       2.0         2.0   \n",
       "\n",
       "   VK_ZG11  W_KEIT_KIND_HH  WOHNDAUER_2008  WOHNLAGE  ZABEOTYP  RESPONSE  \\\n",
       "0      1.0             6.0             9.0       3.0         3         0   \n",
       "1      1.0             4.0             9.0       7.0         1         0   \n",
       "2      2.0             NaN             9.0       2.0         3         0   \n",
       "3     11.0             6.0             9.0       1.0         3         0   \n",
       "4      1.0             6.0             9.0       3.0         3         0   \n",
       "\n",
       "  ANREDE_KZ ALTERSKATEGORIE_GROB  \n",
       "0         2                    4  \n",
       "1         2                    3  \n",
       "2         1                    4  \n",
       "3         2                    4  \n",
       "4         1                    3  \n",
       "\n",
       "[5 rows x 368 columns]"
      ]
     },
     "execution_count": 124,
     "metadata": {},
     "output_type": "execute_result"
    }
   ],
   "source": [
    "\n",
    "body = client_a858d8f03f374020bfd0da2bb1a90a17.get_object(Bucket='udacity-donotdelete-pr-cg1e1uk11mv7lb',Key='Udacity_MAILOUT_TRAIN.csv')['Body']\n",
    "# add missing __iter__ method, so pandas accepts body as file-like object\n",
    "if not hasattr(body, \"__iter__\"): body.__iter__ = types.MethodType( __iter__, body )\n",
    "\n",
    "df_mailout_train = pd.read_csv(body, sep=';')\n",
    "df_mailout_train.head()\n"
   ]
  },
  {
   "cell_type": "code",
   "execution_count": 125,
   "metadata": {},
   "outputs": [],
   "source": [
    "df_mailout_train.drop(df_mailout_train.columns[df_mailout_train.columns.str.contains('unnamed',case = False)],axis = 1, inplace = True)\n"
   ]
  },
  {
   "cell_type": "code",
   "execution_count": 126,
   "metadata": {},
   "outputs": [
    {
     "data": {
      "text/plain": [
       "(42962, 367)"
      ]
     },
     "execution_count": 126,
     "metadata": {},
     "output_type": "execute_result"
    }
   ],
   "source": [
    "df_mailout_train.shape"
   ]
  },
  {
   "cell_type": "code",
   "execution_count": 127,
   "metadata": {},
   "outputs": [
    {
     "data": {
      "text/html": [
       "<div>\n",
       "<style scoped>\n",
       "    .dataframe tbody tr th:only-of-type {\n",
       "        vertical-align: middle;\n",
       "    }\n",
       "\n",
       "    .dataframe tbody tr th {\n",
       "        vertical-align: top;\n",
       "    }\n",
       "\n",
       "    .dataframe thead th {\n",
       "        text-align: right;\n",
       "    }\n",
       "</style>\n",
       "<table border=\"1\" class=\"dataframe\">\n",
       "  <thead>\n",
       "    <tr style=\"text-align: right;\">\n",
       "      <th></th>\n",
       "      <th>LNR</th>\n",
       "      <th>AGER_TYP</th>\n",
       "      <th>AKT_DAT_KL</th>\n",
       "      <th>ALTER_HH</th>\n",
       "      <th>ALTER_KIND1</th>\n",
       "      <th>ALTER_KIND2</th>\n",
       "      <th>ALTER_KIND3</th>\n",
       "      <th>ALTER_KIND4</th>\n",
       "      <th>ALTERSKATEGORIE_FEIN</th>\n",
       "      <th>ANZ_HAUSHALTE_AKTIV</th>\n",
       "      <th>...</th>\n",
       "      <th>VK_DHT4A</th>\n",
       "      <th>VK_DISTANZ</th>\n",
       "      <th>VK_ZG11</th>\n",
       "      <th>W_KEIT_KIND_HH</th>\n",
       "      <th>WOHNDAUER_2008</th>\n",
       "      <th>WOHNLAGE</th>\n",
       "      <th>ZABEOTYP</th>\n",
       "      <th>RESPONSE</th>\n",
       "      <th>ANREDE_KZ</th>\n",
       "      <th>ALTERSKATEGORIE_GROB</th>\n",
       "    </tr>\n",
       "  </thead>\n",
       "  <tbody>\n",
       "    <tr>\n",
       "      <th>0</th>\n",
       "      <td>1763</td>\n",
       "      <td>2</td>\n",
       "      <td>1.0</td>\n",
       "      <td>8.0</td>\n",
       "      <td>NaN</td>\n",
       "      <td>NaN</td>\n",
       "      <td>NaN</td>\n",
       "      <td>NaN</td>\n",
       "      <td>8.0</td>\n",
       "      <td>15.0</td>\n",
       "      <td>...</td>\n",
       "      <td>5.0</td>\n",
       "      <td>2.0</td>\n",
       "      <td>1.0</td>\n",
       "      <td>6.0</td>\n",
       "      <td>9.0</td>\n",
       "      <td>3.0</td>\n",
       "      <td>3</td>\n",
       "      <td>0</td>\n",
       "      <td>2</td>\n",
       "      <td>4</td>\n",
       "    </tr>\n",
       "    <tr>\n",
       "      <th>1</th>\n",
       "      <td>1771</td>\n",
       "      <td>1</td>\n",
       "      <td>4.0</td>\n",
       "      <td>13.0</td>\n",
       "      <td>NaN</td>\n",
       "      <td>NaN</td>\n",
       "      <td>NaN</td>\n",
       "      <td>NaN</td>\n",
       "      <td>13.0</td>\n",
       "      <td>1.0</td>\n",
       "      <td>...</td>\n",
       "      <td>1.0</td>\n",
       "      <td>2.0</td>\n",
       "      <td>1.0</td>\n",
       "      <td>4.0</td>\n",
       "      <td>9.0</td>\n",
       "      <td>7.0</td>\n",
       "      <td>1</td>\n",
       "      <td>0</td>\n",
       "      <td>2</td>\n",
       "      <td>3</td>\n",
       "    </tr>\n",
       "    <tr>\n",
       "      <th>2</th>\n",
       "      <td>1776</td>\n",
       "      <td>1</td>\n",
       "      <td>1.0</td>\n",
       "      <td>9.0</td>\n",
       "      <td>NaN</td>\n",
       "      <td>NaN</td>\n",
       "      <td>NaN</td>\n",
       "      <td>NaN</td>\n",
       "      <td>7.0</td>\n",
       "      <td>0.0</td>\n",
       "      <td>...</td>\n",
       "      <td>6.0</td>\n",
       "      <td>4.0</td>\n",
       "      <td>2.0</td>\n",
       "      <td>NaN</td>\n",
       "      <td>9.0</td>\n",
       "      <td>2.0</td>\n",
       "      <td>3</td>\n",
       "      <td>0</td>\n",
       "      <td>1</td>\n",
       "      <td>4</td>\n",
       "    </tr>\n",
       "    <tr>\n",
       "      <th>3</th>\n",
       "      <td>1460</td>\n",
       "      <td>2</td>\n",
       "      <td>1.0</td>\n",
       "      <td>6.0</td>\n",
       "      <td>NaN</td>\n",
       "      <td>NaN</td>\n",
       "      <td>NaN</td>\n",
       "      <td>NaN</td>\n",
       "      <td>6.0</td>\n",
       "      <td>4.0</td>\n",
       "      <td>...</td>\n",
       "      <td>8.0</td>\n",
       "      <td>11.0</td>\n",
       "      <td>11.0</td>\n",
       "      <td>6.0</td>\n",
       "      <td>9.0</td>\n",
       "      <td>1.0</td>\n",
       "      <td>3</td>\n",
       "      <td>0</td>\n",
       "      <td>2</td>\n",
       "      <td>4</td>\n",
       "    </tr>\n",
       "    <tr>\n",
       "      <th>4</th>\n",
       "      <td>1783</td>\n",
       "      <td>2</td>\n",
       "      <td>1.0</td>\n",
       "      <td>9.0</td>\n",
       "      <td>NaN</td>\n",
       "      <td>NaN</td>\n",
       "      <td>NaN</td>\n",
       "      <td>NaN</td>\n",
       "      <td>9.0</td>\n",
       "      <td>53.0</td>\n",
       "      <td>...</td>\n",
       "      <td>2.0</td>\n",
       "      <td>2.0</td>\n",
       "      <td>1.0</td>\n",
       "      <td>6.0</td>\n",
       "      <td>9.0</td>\n",
       "      <td>3.0</td>\n",
       "      <td>3</td>\n",
       "      <td>0</td>\n",
       "      <td>1</td>\n",
       "      <td>3</td>\n",
       "    </tr>\n",
       "  </tbody>\n",
       "</table>\n",
       "<p>5 rows × 367 columns</p>\n",
       "</div>"
      ],
      "text/plain": [
       "    LNR  AGER_TYP  AKT_DAT_KL  ALTER_HH  ALTER_KIND1  ALTER_KIND2  \\\n",
       "0  1763         2         1.0       8.0          NaN          NaN   \n",
       "1  1771         1         4.0      13.0          NaN          NaN   \n",
       "2  1776         1         1.0       9.0          NaN          NaN   \n",
       "3  1460         2         1.0       6.0          NaN          NaN   \n",
       "4  1783         2         1.0       9.0          NaN          NaN   \n",
       "\n",
       "   ALTER_KIND3  ALTER_KIND4  ALTERSKATEGORIE_FEIN  ANZ_HAUSHALTE_AKTIV  ...  \\\n",
       "0          NaN          NaN                   8.0                 15.0  ...   \n",
       "1          NaN          NaN                  13.0                  1.0  ...   \n",
       "2          NaN          NaN                   7.0                  0.0  ...   \n",
       "3          NaN          NaN                   6.0                  4.0  ...   \n",
       "4          NaN          NaN                   9.0                 53.0  ...   \n",
       "\n",
       "   VK_DHT4A  VK_DISTANZ  VK_ZG11  W_KEIT_KIND_HH  WOHNDAUER_2008  WOHNLAGE  \\\n",
       "0       5.0         2.0      1.0             6.0             9.0       3.0   \n",
       "1       1.0         2.0      1.0             4.0             9.0       7.0   \n",
       "2       6.0         4.0      2.0             NaN             9.0       2.0   \n",
       "3       8.0        11.0     11.0             6.0             9.0       1.0   \n",
       "4       2.0         2.0      1.0             6.0             9.0       3.0   \n",
       "\n",
       "   ZABEOTYP RESPONSE ANREDE_KZ ALTERSKATEGORIE_GROB  \n",
       "0         3        0         2                    4  \n",
       "1         1        0         2                    3  \n",
       "2         3        0         1                    4  \n",
       "3         3        0         2                    4  \n",
       "4         3        0         1                    3  \n",
       "\n",
       "[5 rows x 367 columns]"
      ]
     },
     "execution_count": 127,
     "metadata": {},
     "output_type": "execute_result"
    }
   ],
   "source": [
    "df_mailout_train.head()"
   ]
  },
  {
   "cell_type": "code",
   "execution_count": 128,
   "metadata": {},
   "outputs": [],
   "source": [
    "mailout_train = df_mailout_train.copy()"
   ]
  },
  {
   "cell_type": "code",
   "execution_count": 129,
   "metadata": {},
   "outputs": [
    {
     "name": "stderr",
     "output_type": "stream",
     "text": [
      "[->->->->->->->->->->->->->->->->->->->->->->->->->->->->->->->->->->->->->->->->->->->->->->->->->->->->->->->->->->->->->->->->->->->->->->->->] 100%\n"
     ]
    },
    {
     "name": "stdout",
     "output_type": "stream",
     "text": [
      "Convert missing value codes into NaN, OK\n",
      "Remove selected columns, OK\n"
     ]
    },
    {
     "name": "stderr",
     "output_type": "stream",
     "text": [
      "[->->->->->->->->->->->->->->->->->->->->->->->->->->->->->->->->->->->->->->->->->->->->->->->->->->->->->->->->->->->->->->->->->->->->->->->->] 100%\n",
      "[->->->->->->->->->->->->->->->->->->->->->->->->->->->->->->->->->->->->->->->->->->->->->->->->->->->->->->->->->->->->->->->->->->->->->->->->] 100%\n"
     ]
    },
    {
     "name": "stdout",
     "output_type": "stream",
     "text": [
      "Re-encode, fill and engineer column value, OK\n"
     ]
    }
   ],
   "source": [
    "mailout_train = clean_data(mailout_train)"
   ]
  },
  {
   "cell_type": "code",
   "execution_count": 130,
   "metadata": {},
   "outputs": [
    {
     "data": {
      "text/html": [
       "<div>\n",
       "<style scoped>\n",
       "    .dataframe tbody tr th:only-of-type {\n",
       "        vertical-align: middle;\n",
       "    }\n",
       "\n",
       "    .dataframe tbody tr th {\n",
       "        vertical-align: top;\n",
       "    }\n",
       "\n",
       "    .dataframe thead th {\n",
       "        text-align: right;\n",
       "    }\n",
       "</style>\n",
       "<table border=\"1\" class=\"dataframe\">\n",
       "  <thead>\n",
       "    <tr style=\"text-align: right;\">\n",
       "      <th></th>\n",
       "      <th>AGER_TYP</th>\n",
       "      <th>AKT_DAT_KL</th>\n",
       "      <th>ALTER_HH</th>\n",
       "      <th>ALTERSKATEGORIE_FEIN</th>\n",
       "      <th>ANZ_HAUSHALTE_AKTIV</th>\n",
       "      <th>ANZ_HH_TITEL</th>\n",
       "      <th>ANZ_KINDER</th>\n",
       "      <th>ANZ_PERSONEN</th>\n",
       "      <th>ANZ_STATISTISCHE_HAUSHALTE</th>\n",
       "      <th>ANZ_TITEL</th>\n",
       "      <th>...</th>\n",
       "      <th>D19_LETZTER_KAUF_BRANCHE_D19_SONSTIGE</th>\n",
       "      <th>D19_LETZTER_KAUF_BRANCHE_D19_TECHNIK</th>\n",
       "      <th>D19_LETZTER_KAUF_BRANCHE_D19_TELKO_MOBILE</th>\n",
       "      <th>D19_LETZTER_KAUF_BRANCHE_D19_TELKO_REST</th>\n",
       "      <th>D19_LETZTER_KAUF_BRANCHE_D19_TIERARTIKEL</th>\n",
       "      <th>D19_LETZTER_KAUF_BRANCHE_D19_UNBEKANNT</th>\n",
       "      <th>D19_LETZTER_KAUF_BRANCHE_D19_VERSAND_REST</th>\n",
       "      <th>D19_LETZTER_KAUF_BRANCHE_D19_VERSICHERUNGEN</th>\n",
       "      <th>D19_LETZTER_KAUF_BRANCHE_D19_VOLLSORTIMENT</th>\n",
       "      <th>D19_LETZTER_KAUF_BRANCHE_D19_WEIN_FEINKOST</th>\n",
       "    </tr>\n",
       "  </thead>\n",
       "  <tbody>\n",
       "    <tr>\n",
       "      <th>0</th>\n",
       "      <td>2.0</td>\n",
       "      <td>1.0</td>\n",
       "      <td>8.0</td>\n",
       "      <td>8.0</td>\n",
       "      <td>15.0</td>\n",
       "      <td>0.000000</td>\n",
       "      <td>0.0</td>\n",
       "      <td>1.0</td>\n",
       "      <td>13.0</td>\n",
       "      <td>0.0</td>\n",
       "      <td>...</td>\n",
       "      <td>0</td>\n",
       "      <td>0</td>\n",
       "      <td>0</td>\n",
       "      <td>0</td>\n",
       "      <td>0</td>\n",
       "      <td>1</td>\n",
       "      <td>0</td>\n",
       "      <td>0</td>\n",
       "      <td>0</td>\n",
       "      <td>0</td>\n",
       "    </tr>\n",
       "    <tr>\n",
       "      <th>1</th>\n",
       "      <td>1.0</td>\n",
       "      <td>4.0</td>\n",
       "      <td>13.0</td>\n",
       "      <td>13.0</td>\n",
       "      <td>1.0</td>\n",
       "      <td>0.000000</td>\n",
       "      <td>0.0</td>\n",
       "      <td>2.0</td>\n",
       "      <td>1.0</td>\n",
       "      <td>0.0</td>\n",
       "      <td>...</td>\n",
       "      <td>0</td>\n",
       "      <td>0</td>\n",
       "      <td>1</td>\n",
       "      <td>0</td>\n",
       "      <td>0</td>\n",
       "      <td>0</td>\n",
       "      <td>0</td>\n",
       "      <td>0</td>\n",
       "      <td>0</td>\n",
       "      <td>0</td>\n",
       "    </tr>\n",
       "    <tr>\n",
       "      <th>2</th>\n",
       "      <td>1.0</td>\n",
       "      <td>1.0</td>\n",
       "      <td>9.0</td>\n",
       "      <td>7.0</td>\n",
       "      <td>0.0</td>\n",
       "      <td>0.049574</td>\n",
       "      <td>0.0</td>\n",
       "      <td>0.0</td>\n",
       "      <td>1.0</td>\n",
       "      <td>0.0</td>\n",
       "      <td>...</td>\n",
       "      <td>0</td>\n",
       "      <td>0</td>\n",
       "      <td>0</td>\n",
       "      <td>0</td>\n",
       "      <td>0</td>\n",
       "      <td>0</td>\n",
       "      <td>0</td>\n",
       "      <td>0</td>\n",
       "      <td>0</td>\n",
       "      <td>0</td>\n",
       "    </tr>\n",
       "    <tr>\n",
       "      <th>3</th>\n",
       "      <td>2.0</td>\n",
       "      <td>1.0</td>\n",
       "      <td>6.0</td>\n",
       "      <td>6.0</td>\n",
       "      <td>4.0</td>\n",
       "      <td>0.000000</td>\n",
       "      <td>0.0</td>\n",
       "      <td>2.0</td>\n",
       "      <td>4.0</td>\n",
       "      <td>0.0</td>\n",
       "      <td>...</td>\n",
       "      <td>0</td>\n",
       "      <td>0</td>\n",
       "      <td>0</td>\n",
       "      <td>0</td>\n",
       "      <td>0</td>\n",
       "      <td>1</td>\n",
       "      <td>0</td>\n",
       "      <td>0</td>\n",
       "      <td>0</td>\n",
       "      <td>0</td>\n",
       "    </tr>\n",
       "    <tr>\n",
       "      <th>4</th>\n",
       "      <td>2.0</td>\n",
       "      <td>1.0</td>\n",
       "      <td>9.0</td>\n",
       "      <td>9.0</td>\n",
       "      <td>53.0</td>\n",
       "      <td>0.000000</td>\n",
       "      <td>0.0</td>\n",
       "      <td>1.0</td>\n",
       "      <td>44.0</td>\n",
       "      <td>0.0</td>\n",
       "      <td>...</td>\n",
       "      <td>0</td>\n",
       "      <td>0</td>\n",
       "      <td>0</td>\n",
       "      <td>0</td>\n",
       "      <td>0</td>\n",
       "      <td>0</td>\n",
       "      <td>0</td>\n",
       "      <td>0</td>\n",
       "      <td>0</td>\n",
       "      <td>0</td>\n",
       "    </tr>\n",
       "  </tbody>\n",
       "</table>\n",
       "<p>5 rows × 433 columns</p>\n",
       "</div>"
      ],
      "text/plain": [
       "   AGER_TYP  AKT_DAT_KL  ALTER_HH  ALTERSKATEGORIE_FEIN  ANZ_HAUSHALTE_AKTIV  \\\n",
       "0       2.0         1.0       8.0                   8.0                 15.0   \n",
       "1       1.0         4.0      13.0                  13.0                  1.0   \n",
       "2       1.0         1.0       9.0                   7.0                  0.0   \n",
       "3       2.0         1.0       6.0                   6.0                  4.0   \n",
       "4       2.0         1.0       9.0                   9.0                 53.0   \n",
       "\n",
       "   ANZ_HH_TITEL  ANZ_KINDER  ANZ_PERSONEN  ANZ_STATISTISCHE_HAUSHALTE  \\\n",
       "0      0.000000         0.0           1.0                        13.0   \n",
       "1      0.000000         0.0           2.0                         1.0   \n",
       "2      0.049574         0.0           0.0                         1.0   \n",
       "3      0.000000         0.0           2.0                         4.0   \n",
       "4      0.000000         0.0           1.0                        44.0   \n",
       "\n",
       "   ANZ_TITEL  ...  D19_LETZTER_KAUF_BRANCHE_D19_SONSTIGE  \\\n",
       "0        0.0  ...                                      0   \n",
       "1        0.0  ...                                      0   \n",
       "2        0.0  ...                                      0   \n",
       "3        0.0  ...                                      0   \n",
       "4        0.0  ...                                      0   \n",
       "\n",
       "   D19_LETZTER_KAUF_BRANCHE_D19_TECHNIK  \\\n",
       "0                                     0   \n",
       "1                                     0   \n",
       "2                                     0   \n",
       "3                                     0   \n",
       "4                                     0   \n",
       "\n",
       "   D19_LETZTER_KAUF_BRANCHE_D19_TELKO_MOBILE  \\\n",
       "0                                          0   \n",
       "1                                          1   \n",
       "2                                          0   \n",
       "3                                          0   \n",
       "4                                          0   \n",
       "\n",
       "   D19_LETZTER_KAUF_BRANCHE_D19_TELKO_REST  \\\n",
       "0                                        0   \n",
       "1                                        0   \n",
       "2                                        0   \n",
       "3                                        0   \n",
       "4                                        0   \n",
       "\n",
       "   D19_LETZTER_KAUF_BRANCHE_D19_TIERARTIKEL  \\\n",
       "0                                         0   \n",
       "1                                         0   \n",
       "2                                         0   \n",
       "3                                         0   \n",
       "4                                         0   \n",
       "\n",
       "   D19_LETZTER_KAUF_BRANCHE_D19_UNBEKANNT  \\\n",
       "0                                       1   \n",
       "1                                       0   \n",
       "2                                       0   \n",
       "3                                       1   \n",
       "4                                       0   \n",
       "\n",
       "   D19_LETZTER_KAUF_BRANCHE_D19_VERSAND_REST  \\\n",
       "0                                          0   \n",
       "1                                          0   \n",
       "2                                          0   \n",
       "3                                          0   \n",
       "4                                          0   \n",
       "\n",
       "   D19_LETZTER_KAUF_BRANCHE_D19_VERSICHERUNGEN  \\\n",
       "0                                            0   \n",
       "1                                            0   \n",
       "2                                            0   \n",
       "3                                            0   \n",
       "4                                            0   \n",
       "\n",
       "   D19_LETZTER_KAUF_BRANCHE_D19_VOLLSORTIMENT  \\\n",
       "0                                           0   \n",
       "1                                           0   \n",
       "2                                           0   \n",
       "3                                           0   \n",
       "4                                           0   \n",
       "\n",
       "   D19_LETZTER_KAUF_BRANCHE_D19_WEIN_FEINKOST  \n",
       "0                                           0  \n",
       "1                                           0  \n",
       "2                                           0  \n",
       "3                                           0  \n",
       "4                                           0  \n",
       "\n",
       "[5 rows x 433 columns]"
      ]
     },
     "execution_count": 130,
     "metadata": {},
     "output_type": "execute_result"
    }
   ],
   "source": [
    "mailout_train.head()"
   ]
  },
  {
   "cell_type": "code",
   "execution_count": 131,
   "metadata": {},
   "outputs": [
    {
     "data": {
      "text/plain": [
       "(42962, 433)"
      ]
     },
     "execution_count": 131,
     "metadata": {},
     "output_type": "execute_result"
    }
   ],
   "source": [
    "mailout_train.shape"
   ]
  },
  {
   "cell_type": "code",
   "execution_count": 132,
   "metadata": {
    "scrolled": true
   },
   "outputs": [],
   "source": [
    "# Split the data into features and target label\n",
    "y = mailout_train['RESPONSE']\n",
    "X = mailout_train.drop('RESPONSE', axis = 1)\n"
   ]
  },
  {
   "cell_type": "code",
   "execution_count": 133,
   "metadata": {},
   "outputs": [
    {
     "data": {
      "text/plain": [
       "<matplotlib.axes._subplots.AxesSubplot at 0x7f1be085cc18>"
      ]
     },
     "execution_count": 133,
     "metadata": {},
     "output_type": "execute_result"
    },
    {
     "data": {
      "image/png": "[encoded data removed]",
      "text/plain": [
       "<Figure size 432x288 with 1 Axes>"
      ]
     },
     "metadata": {},
     "output_type": "display_data"
    }
   ],
   "source": [
    "#plot the number of 0 and 1 responses\n",
    "sns.countplot(\"RESPONSE\",data=mailout_train)"
   ]
  },
  {
   "cell_type": "markdown",
   "metadata": {},
   "source": [
    "# Find Best Model"
   ]
  },
  {
   "cell_type": "code",
   "execution_count": 134,
   "metadata": {},
   "outputs": [
    {
     "name": "stdout",
     "output_type": "stream",
     "text": [
      "StratifiedKFold(n_splits=5, random_state=28, shuffle=False)\n"
     ]
    },
    {
     "name": "stderr",
     "output_type": "stream",
     "text": [
      "/opt/conda/envs/Python-3.6-CUDA/lib/python3.6/site-packages/sklearn/model_selection/_split.py:296: FutureWarning: Setting a random_state has no effect since shuffle is False. This will raise an error in 0.24. You should leave random_state to its default (None), or set shuffle=True.\n",
      "  FutureWarning\n"
     ]
    }
   ],
   "source": [
    "# Import model packages\n",
    "from sklearn.model_selection import StratifiedKFold\n",
    "from sklearn.model_selection import GridSearchCV, train_test_split\n",
    "from sklearn.model_selection import KFold\n",
    "from sklearn.pipeline import Pipeline\n",
    "from sklearn.metrics import roc_auc_score\n",
    "\n",
    "# Initialize 5 stratified folds\n",
    "skf = StratifiedKFold(n_splits=5, random_state=28)\n",
    "skf.get_n_splits(X, y)\n",
    "print(skf)"
   ]
  },
  {
   "cell_type": "code",
   "execution_count": 135,
   "metadata": {},
   "outputs": [],
   "source": [
    "# TODO: Initialize the three models\n",
    "clf_A = RandomForestClassifier()\n",
    "clf_B = AdaBoostClassifier()\n",
    "clf_C = GradientBoostingClassifier()"
   ]
  },
  {
   "cell_type": "code",
   "execution_count": 136,
   "metadata": {},
   "outputs": [
    {
     "name": "stdout",
     "output_type": "stream",
     "text": [
      "Classifier 1: Fold 1...\n",
      "0.5\n",
      "Classifier 1: Fold 2...\n",
      "0.4999410794249352\n",
      "Classifier 1: Fold 3...\n",
      "0.5\n",
      "Classifier 1: Fold 4...\n",
      "0.5\n",
      "Classifier 1: Fold 5...\n",
      "0.5\n",
      "Classifier 2: Fold 1...\n",
      "0.4999410794249352\n",
      "Classifier 2: Fold 2...\n",
      "0.5046728971962616\n",
      "Classifier 2: Fold 3...\n",
      "0.5\n",
      "Classifier 2: Fold 4...\n",
      "0.4999410794249352\n",
      "Classifier 2: Fold 5...\n",
      "0.5\n",
      "Classifier 3: Fold 1...\n",
      "0.4999410794249352\n",
      "Classifier 3: Fold 2...\n",
      "0.4997643176997407\n",
      "Classifier 3: Fold 3...\n",
      "0.5045991399819458\n",
      "Classifier 3: Fold 4...\n",
      "0.49970539712467593\n",
      "Classifier 3: Fold 5...\n",
      "0.5045991399819458\n"
     ]
    }
   ],
   "source": [
    "model_scores = {}\n",
    "#This function prints out the model along with the roc_auc score with each fold\n",
    "for i, clf in enumerate([clf_A, clf_B, clf_C]):\n",
    "\n",
    "    # Create machine learning pipeline\n",
    "    pipeline = Pipeline([\n",
    "        ('scale', scaler),\n",
    "        ('clf', clf)\n",
    "    ])\n",
    "\n",
    "    scores = []\n",
    "    j = 0\n",
    "\n",
    "    # Perform 5-fold validation\n",
    "    for train_index, test_index in skf.split(X, y):\n",
    "        j+=1\n",
    "        print('Classifier {}: Fold {}...'.format(i+1, j))\n",
    "        \n",
    "        # Split the data into training and test sets\n",
    "        X_train, X_test = X.iloc[train_index], X.iloc[test_index]\n",
    "        y_train, y_test = y.iloc[train_index], y.iloc[test_index]\n",
    "\n",
    "        # Train using the pipeline\n",
    "        pipeline.fit(X_train, y_train)\n",
    "\n",
    "        #Predict on the test data\n",
    "        y_pred = pipeline.predict(X_test)\n",
    "\n",
    "        score = roc_auc_score(y_test, y_pred)\n",
    "        scores.append(score)\n",
    "        print(score)\n",
    "\n",
    "    model_scores[clf] = scores"
   ]
  },
  {
   "cell_type": "code",
   "execution_count": 137,
   "metadata": {},
   "outputs": [
    {
     "data": {
      "text/html": [
       "<div>\n",
       "<style scoped>\n",
       "    .dataframe tbody tr th:only-of-type {\n",
       "        vertical-align: middle;\n",
       "    }\n",
       "\n",
       "    .dataframe tbody tr th {\n",
       "        vertical-align: top;\n",
       "    }\n",
       "\n",
       "    .dataframe thead th {\n",
       "        text-align: right;\n",
       "    }\n",
       "</style>\n",
       "<table border=\"1\" class=\"dataframe\">\n",
       "  <thead>\n",
       "    <tr style=\"text-align: right;\">\n",
       "      <th></th>\n",
       "      <th>RandomForestClassifier</th>\n",
       "      <th>AdaBoostClassifier</th>\n",
       "      <th>GradientBoostingClassifier</th>\n",
       "    </tr>\n",
       "  </thead>\n",
       "  <tbody>\n",
       "    <tr>\n",
       "      <th>0</th>\n",
       "      <td>0.500000</td>\n",
       "      <td>0.499941</td>\n",
       "      <td>0.499941</td>\n",
       "    </tr>\n",
       "    <tr>\n",
       "      <th>1</th>\n",
       "      <td>0.499941</td>\n",
       "      <td>0.504673</td>\n",
       "      <td>0.499764</td>\n",
       "    </tr>\n",
       "    <tr>\n",
       "      <th>2</th>\n",
       "      <td>0.500000</td>\n",
       "      <td>0.500000</td>\n",
       "      <td>0.504599</td>\n",
       "    </tr>\n",
       "    <tr>\n",
       "      <th>3</th>\n",
       "      <td>0.500000</td>\n",
       "      <td>0.499941</td>\n",
       "      <td>0.499705</td>\n",
       "    </tr>\n",
       "    <tr>\n",
       "      <th>4</th>\n",
       "      <td>0.500000</td>\n",
       "      <td>0.500000</td>\n",
       "      <td>0.504599</td>\n",
       "    </tr>\n",
       "  </tbody>\n",
       "</table>\n",
       "</div>"
      ],
      "text/plain": [
       "   RandomForestClassifier  AdaBoostClassifier  GradientBoostingClassifier\n",
       "0                0.500000            0.499941                    0.499941\n",
       "1                0.499941            0.504673                    0.499764\n",
       "2                0.500000            0.500000                    0.504599\n",
       "3                0.500000            0.499941                    0.499705\n",
       "4                0.500000            0.500000                    0.504599"
      ]
     },
     "execution_count": 137,
     "metadata": {},
     "output_type": "execute_result"
    }
   ],
   "source": [
    "#map out df of model performances\n",
    "df_scores= pd.DataFrame(model_scores)\n",
    "df_scores.columns = ['RandomForestClassifier',  'AdaBoostClassifier', 'GradientBoostingClassifier']\n",
    "df_scores"
   ]
  },
  {
   "cell_type": "markdown",
   "metadata": {},
   "source": [
    "## Improve Model"
   ]
  },
  {
   "cell_type": "markdown",
   "metadata": {},
   "source": [
    "Since RandomForestClassifier had the highest scores, we can tune it to increase the performance."
   ]
  },
  {
   "cell_type": "code",
   "execution_count": 138,
   "metadata": {},
   "outputs": [
    {
     "data": {
      "text/plain": [
       "<bound method BaseEstimator.get_params of RandomForestClassifier(bootstrap=True, ccp_alpha=0.0, class_weight=None,\n",
       "                       criterion='gini', max_depth=None, max_features='auto',\n",
       "                       max_leaf_nodes=None, max_samples=None,\n",
       "                       min_impurity_decrease=0.0, min_impurity_split=None,\n",
       "                       min_samples_leaf=1, min_samples_split=2,\n",
       "                       min_weight_fraction_leaf=0.0, n_estimators=100,\n",
       "                       n_jobs=None, oob_score=False, random_state=None,\n",
       "                       verbose=0, warm_start=False)>"
      ]
     },
     "execution_count": 138,
     "metadata": {},
     "output_type": "execute_result"
    }
   ],
   "source": [
    "#Display parameters to see which ones to tune\n",
    "clf_A.get_params"
   ]
  },
  {
   "cell_type": "code",
   "execution_count": 139,
   "metadata": {},
   "outputs": [],
   "source": [
    "\n",
    "#define parameters to cycle through\n",
    "params = {\n",
    "          \"max_depth\"         : [3,4],\n",
    "          \"n_estimators\"      : [100,1000],\n",
    "          \"min_samples_split\" : [2,4]}\n",
    "\n",
    "# start the search\n",
    "grid = GridSearchCV(clf_A, params, scoring='roc_auc', cv=5)\n",
    "grid_fit = grid.fit(X, y)"
   ]
  },
  {
   "cell_type": "code",
   "execution_count": 140,
   "metadata": {},
   "outputs": [
    {
     "data": {
      "text/plain": [
       "<bound method BaseEstimator.get_params of RandomForestClassifier(bootstrap=True, ccp_alpha=0.0, class_weight=None,\n",
       "                       criterion='gini', max_depth=3, max_features='auto',\n",
       "                       max_leaf_nodes=None, max_samples=None,\n",
       "                       min_impurity_decrease=0.0, min_impurity_split=None,\n",
       "                       min_samples_leaf=1, min_samples_split=2,\n",
       "                       min_weight_fraction_leaf=0.0, n_estimators=1000,\n",
       "                       n_jobs=None, oob_score=False, random_state=None,\n",
       "                       verbose=0, warm_start=False)>"
      ]
     },
     "execution_count": 140,
     "metadata": {},
     "output_type": "execute_result"
    }
   ],
   "source": [
    "\n",
    "#get the wining configuration \n",
    "best = grid_fit.best_estimator_\n",
    "best.get_params"
   ]
  },
  {
   "cell_type": "markdown",
   "metadata": {},
   "source": [
    "Thus, the best parameters are:\n",
    "                        bootstrap=True, ccp_alpha=0.0, class_weight=None,\n",
    "                       criterion='gini', max_depth=3, max_features='auto',\n",
    "                       max_leaf_nodes=None, max_samples=None,\n",
    "                       min_impurity_decrease=0.0, min_impurity_split=None,\n",
    "                       min_samples_leaf=1, min_samples_split=2,\n",
    "                       min_weight_fraction_leaf=0.0, n_estimators=1000,\n",
    "                       n_jobs=None, oob_score=False, random_state=None,\n",
    "                       verbose=0, warm_start=False)>"
   ]
  },
  {
   "cell_type": "code",
   "execution_count": 141,
   "metadata": {},
   "outputs": [],
   "source": [
    "#refit the model\n",
    "best = best.fit(X, y)"
   ]
  },
  {
   "cell_type": "markdown",
   "metadata": {},
   "source": [
    "## Part 3: Kaggle Competition\n",
    "\n",
    "Now that you've created a model to predict which individuals are most likely to respond to a mailout campaign, it's time to test that model in competition through Kaggle. If you click on the link [here](http://www.kaggle.com/t/21e6d45d4c574c7fa2d868f0e8c83140), you'll be taken to the competition page where, if you have a Kaggle account, you can enter. If you're one of the top performers, you may have the chance to be contacted by a hiring manager from Arvato or Bertelsmann for an interview!\n",
    "\n",
    "Your entry to the competition should be a CSV file with two columns. The first column should be a copy of \"LNR\", which acts as an ID number for each individual in the \"TEST\" partition. The second column, \"RESPONSE\", should be some measure of how likely each individual became a customer – this might not be a straightforward probability. As you should have found in Part 2, there is a large output class imbalance, where most individuals did not respond to the mailout. Thus, predicting individual classes and using accuracy does not seem to be an appropriate performance evaluation method. Instead, the competition will be using AUC to evaluate performance. The exact values of the \"RESPONSE\" column do not matter as much: only that the higher values try to capture as many of the actual customers as possible, early in the ROC curve sweep."
   ]
  },
  {
   "cell_type": "code",
   "execution_count": null,
   "metadata": {},
   "outputs": [],
   "source": [
    "# mailout_test = pd.read_csv('../../data/Term2/capstone/arvato_data/Udacity_MAILOUT_052018_TEST.csv', sep=';')"
   ]
  },
  {
   "cell_type": "code",
   "execution_count": 142,
   "metadata": {},
   "outputs": [
    {
     "name": "stderr",
     "output_type": "stream",
     "text": [
      "/opt/conda/envs/Python-3.6-CUDA/lib/python3.6/site-packages/IPython/core/interactiveshell.py:3063: DtypeWarning: Columns (19,20) have mixed types. Specify dtype option on import or set low_memory=False.\n",
      "  interactivity=interactivity, compiler=compiler, result=result)\n"
     ]
    },
    {
     "data": {
      "text/html": [
       "<div>\n",
       "<style scoped>\n",
       "    .dataframe tbody tr th:only-of-type {\n",
       "        vertical-align: middle;\n",
       "    }\n",
       "\n",
       "    .dataframe tbody tr th {\n",
       "        vertical-align: top;\n",
       "    }\n",
       "\n",
       "    .dataframe thead th {\n",
       "        text-align: right;\n",
       "    }\n",
       "</style>\n",
       "<table border=\"1\" class=\"dataframe\">\n",
       "  <thead>\n",
       "    <tr style=\"text-align: right;\">\n",
       "      <th></th>\n",
       "      <th>Unnamed: 0</th>\n",
       "      <th>LNR</th>\n",
       "      <th>AGER_TYP</th>\n",
       "      <th>AKT_DAT_KL</th>\n",
       "      <th>ALTER_HH</th>\n",
       "      <th>ALTER_KIND1</th>\n",
       "      <th>ALTER_KIND2</th>\n",
       "      <th>ALTER_KIND3</th>\n",
       "      <th>ALTER_KIND4</th>\n",
       "      <th>ALTERSKATEGORIE_FEIN</th>\n",
       "      <th>...</th>\n",
       "      <th>VHN</th>\n",
       "      <th>VK_DHT4A</th>\n",
       "      <th>VK_DISTANZ</th>\n",
       "      <th>VK_ZG11</th>\n",
       "      <th>W_KEIT_KIND_HH</th>\n",
       "      <th>WOHNDAUER_2008</th>\n",
       "      <th>WOHNLAGE</th>\n",
       "      <th>ZABEOTYP</th>\n",
       "      <th>ANREDE_KZ</th>\n",
       "      <th>ALTERSKATEGORIE_GROB</th>\n",
       "    </tr>\n",
       "  </thead>\n",
       "  <tbody>\n",
       "    <tr>\n",
       "      <th>0</th>\n",
       "      <td>0</td>\n",
       "      <td>1754</td>\n",
       "      <td>2</td>\n",
       "      <td>1.0</td>\n",
       "      <td>7.0</td>\n",
       "      <td>NaN</td>\n",
       "      <td>NaN</td>\n",
       "      <td>NaN</td>\n",
       "      <td>NaN</td>\n",
       "      <td>6.0</td>\n",
       "      <td>...</td>\n",
       "      <td>4.0</td>\n",
       "      <td>5.0</td>\n",
       "      <td>6.0</td>\n",
       "      <td>3.0</td>\n",
       "      <td>6.0</td>\n",
       "      <td>9.0</td>\n",
       "      <td>3.0</td>\n",
       "      <td>3</td>\n",
       "      <td>1</td>\n",
       "      <td>4</td>\n",
       "    </tr>\n",
       "    <tr>\n",
       "      <th>1</th>\n",
       "      <td>1</td>\n",
       "      <td>1770</td>\n",
       "      <td>-1</td>\n",
       "      <td>1.0</td>\n",
       "      <td>0.0</td>\n",
       "      <td>NaN</td>\n",
       "      <td>NaN</td>\n",
       "      <td>NaN</td>\n",
       "      <td>NaN</td>\n",
       "      <td>0.0</td>\n",
       "      <td>...</td>\n",
       "      <td>1.0</td>\n",
       "      <td>5.0</td>\n",
       "      <td>2.0</td>\n",
       "      <td>1.0</td>\n",
       "      <td>6.0</td>\n",
       "      <td>9.0</td>\n",
       "      <td>5.0</td>\n",
       "      <td>3</td>\n",
       "      <td>1</td>\n",
       "      <td>4</td>\n",
       "    </tr>\n",
       "    <tr>\n",
       "      <th>2</th>\n",
       "      <td>2</td>\n",
       "      <td>1465</td>\n",
       "      <td>2</td>\n",
       "      <td>9.0</td>\n",
       "      <td>16.0</td>\n",
       "      <td>NaN</td>\n",
       "      <td>NaN</td>\n",
       "      <td>NaN</td>\n",
       "      <td>NaN</td>\n",
       "      <td>11.0</td>\n",
       "      <td>...</td>\n",
       "      <td>3.0</td>\n",
       "      <td>9.0</td>\n",
       "      <td>6.0</td>\n",
       "      <td>3.0</td>\n",
       "      <td>2.0</td>\n",
       "      <td>9.0</td>\n",
       "      <td>4.0</td>\n",
       "      <td>3</td>\n",
       "      <td>2</td>\n",
       "      <td>4</td>\n",
       "    </tr>\n",
       "    <tr>\n",
       "      <th>3</th>\n",
       "      <td>3</td>\n",
       "      <td>1470</td>\n",
       "      <td>-1</td>\n",
       "      <td>7.0</td>\n",
       "      <td>0.0</td>\n",
       "      <td>NaN</td>\n",
       "      <td>NaN</td>\n",
       "      <td>NaN</td>\n",
       "      <td>NaN</td>\n",
       "      <td>0.0</td>\n",
       "      <td>...</td>\n",
       "      <td>2.0</td>\n",
       "      <td>6.0</td>\n",
       "      <td>6.0</td>\n",
       "      <td>3.0</td>\n",
       "      <td>NaN</td>\n",
       "      <td>9.0</td>\n",
       "      <td>2.0</td>\n",
       "      <td>3</td>\n",
       "      <td>2</td>\n",
       "      <td>4</td>\n",
       "    </tr>\n",
       "    <tr>\n",
       "      <th>4</th>\n",
       "      <td>4</td>\n",
       "      <td>1478</td>\n",
       "      <td>1</td>\n",
       "      <td>1.0</td>\n",
       "      <td>21.0</td>\n",
       "      <td>NaN</td>\n",
       "      <td>NaN</td>\n",
       "      <td>NaN</td>\n",
       "      <td>NaN</td>\n",
       "      <td>13.0</td>\n",
       "      <td>...</td>\n",
       "      <td>1.0</td>\n",
       "      <td>2.0</td>\n",
       "      <td>4.0</td>\n",
       "      <td>3.0</td>\n",
       "      <td>3.0</td>\n",
       "      <td>9.0</td>\n",
       "      <td>7.0</td>\n",
       "      <td>4</td>\n",
       "      <td>2</td>\n",
       "      <td>4</td>\n",
       "    </tr>\n",
       "  </tbody>\n",
       "</table>\n",
       "<p>5 rows × 367 columns</p>\n",
       "</div>"
      ],
      "text/plain": [
       "   Unnamed: 0   LNR  AGER_TYP  AKT_DAT_KL  ALTER_HH  ALTER_KIND1  ALTER_KIND2  \\\n",
       "0           0  1754         2         1.0       7.0          NaN          NaN   \n",
       "1           1  1770        -1         1.0       0.0          NaN          NaN   \n",
       "2           2  1465         2         9.0      16.0          NaN          NaN   \n",
       "3           3  1470        -1         7.0       0.0          NaN          NaN   \n",
       "4           4  1478         1         1.0      21.0          NaN          NaN   \n",
       "\n",
       "   ALTER_KIND3  ALTER_KIND4  ALTERSKATEGORIE_FEIN  ...  VHN  VK_DHT4A  \\\n",
       "0          NaN          NaN                   6.0  ...  4.0       5.0   \n",
       "1          NaN          NaN                   0.0  ...  1.0       5.0   \n",
       "2          NaN          NaN                  11.0  ...  3.0       9.0   \n",
       "3          NaN          NaN                   0.0  ...  2.0       6.0   \n",
       "4          NaN          NaN                  13.0  ...  1.0       2.0   \n",
       "\n",
       "   VK_DISTANZ  VK_ZG11  W_KEIT_KIND_HH  WOHNDAUER_2008  WOHNLAGE  ZABEOTYP  \\\n",
       "0         6.0      3.0             6.0             9.0       3.0         3   \n",
       "1         2.0      1.0             6.0             9.0       5.0         3   \n",
       "2         6.0      3.0             2.0             9.0       4.0         3   \n",
       "3         6.0      3.0             NaN             9.0       2.0         3   \n",
       "4         4.0      3.0             3.0             9.0       7.0         4   \n",
       "\n",
       "  ANREDE_KZ ALTERSKATEGORIE_GROB  \n",
       "0         1                    4  \n",
       "1         1                    4  \n",
       "2         2                    4  \n",
       "3         2                    4  \n",
       "4         2                    4  \n",
       "\n",
       "[5 rows x 367 columns]"
      ]
     },
     "execution_count": 142,
     "metadata": {},
     "output_type": "execute_result"
    }
   ],
   "source": [
    "\n",
    "body = client_a858d8f03f374020bfd0da2bb1a90a17.get_object(Bucket='udacity-donotdelete-pr-cg1e1uk11mv7lb',Key='Udacity_MAILOUT_TEST.csv')['Body']\n",
    "# add missing __iter__ method, so pandas accepts body as file-like object\n",
    "if not hasattr(body, \"__iter__\"): body.__iter__ = types.MethodType( __iter__, body )\n",
    "\n",
    "df_mailout_test = pd.read_csv(body, sep=';')\n",
    "df_mailout_test.head()\n"
   ]
  },
  {
   "cell_type": "code",
   "execution_count": 143,
   "metadata": {},
   "outputs": [],
   "source": [
    "df_mailout_test.drop(df_mailout_test.columns[df_mailout_test.columns.str.contains('unnamed',case = False)],axis = 1, inplace = True)\n"
   ]
  },
  {
   "cell_type": "code",
   "execution_count": 144,
   "metadata": {},
   "outputs": [
    {
     "data": {
      "text/plain": [
       "(42833, 366)"
      ]
     },
     "execution_count": 144,
     "metadata": {},
     "output_type": "execute_result"
    }
   ],
   "source": [
    "df_mailout_test.shape"
   ]
  },
  {
   "cell_type": "code",
   "execution_count": 145,
   "metadata": {},
   "outputs": [],
   "source": [
    "mailout_test = df_mailout_test.copy()"
   ]
  },
  {
   "cell_type": "code",
   "execution_count": 146,
   "metadata": {},
   "outputs": [
    {
     "name": "stderr",
     "output_type": "stream",
     "text": [
      "[->->->->->->->->->->->->->->->->->->->->->->->->->->->->->->->->->->->->->->->->->->->->->->->->->->->->->->->->->->->->->->->->->->->->->->->->] 100%\n"
     ]
    },
    {
     "name": "stdout",
     "output_type": "stream",
     "text": [
      "Convert missing value codes into NaN, OK\n",
      "Remove selected columns, OK\n"
     ]
    },
    {
     "name": "stderr",
     "output_type": "stream",
     "text": [
      "[->->->->->->->->->->->->->->->->->->->->->->->->->->->->->->->->->->->->->->->->->->->->->->->->->->->->->->->->->->->->->->->->->->->->->->->->] 100%\n",
      "[->->->->->->->->->->->->->->->->->->->->->->->->->->->->->->->->->->->->->->->->->->->->->->->->->->->->->->->->->->->->->->->->->->->->->->->->] 100%\n"
     ]
    },
    {
     "name": "stdout",
     "output_type": "stream",
     "text": [
      "Re-encode, fill and engineer column value, OK\n"
     ]
    }
   ],
   "source": [
    "mailout_test_clean = clean_data(mailout_test)"
   ]
  },
  {
   "cell_type": "code",
   "execution_count": 147,
   "metadata": {},
   "outputs": [
    {
     "data": {
      "text/plain": [
       "['CUSTOMER_GROUP',\n",
       " 'ONLINE_PURCHASE',\n",
       " 'PRODUCT_GROUP_COSMETIC',\n",
       " 'PRODUCT_GROUP_COSMETIC_AND_FOOD',\n",
       " 'PRODUCT_GROUP_FOOD',\n",
       " 'row_nan_perc',\n",
       " 'row_nans']"
      ]
     },
     "execution_count": 147,
     "metadata": {},
     "output_type": "execute_result"
    }
   ],
   "source": [
    "# Check for missing column in mailout_test\n",
    "missing = list(np.setdiff1d(df_cust.columns, mailout_train.columns))\n",
    "missing"
   ]
  },
  {
   "cell_type": "code",
   "execution_count": 148,
   "metadata": {},
   "outputs": [],
   "source": [
    "#function that drop different input columns\n",
    "def drop_diff_colls(df_predict):\n",
    "    #some features are different in the new df and the model cant handle this -> drop them\n",
    "    df_predict = df_predict.drop(missing, 1)\n",
    "    return df_predict"
   ]
  },
  {
   "cell_type": "code",
   "execution_count": 149,
   "metadata": {},
   "outputs": [],
   "source": [
    "df_test = drop_diff_colls(df_cust)"
   ]
  },
  {
   "cell_type": "code",
   "execution_count": 150,
   "metadata": {},
   "outputs": [
    {
     "data": {
      "text/plain": [
       "(42833, 432)"
      ]
     },
     "execution_count": 150,
     "metadata": {},
     "output_type": "execute_result"
    }
   ],
   "source": [
    "mailout_test_clean.shape"
   ]
  },
  {
   "cell_type": "code",
   "execution_count": 151,
   "metadata": {},
   "outputs": [
    {
     "data": {
      "text/plain": [
       "(42833, 366)"
      ]
     },
     "execution_count": 151,
     "metadata": {},
     "output_type": "execute_result"
    }
   ],
   "source": [
    "df_mailout_test.shape"
   ]
  },
  {
   "cell_type": "code",
   "execution_count": 152,
   "metadata": {},
   "outputs": [],
   "source": [
    "X = np.array(mailout_test_clean)"
   ]
  },
  {
   "cell_type": "code",
   "execution_count": 153,
   "metadata": {},
   "outputs": [],
   "source": [
    "\n",
    "#Predict on the test data\n",
    "predictions = best.predict_proba(X)[:,1]"
   ]
  },
  {
   "cell_type": "code",
   "execution_count": 154,
   "metadata": {},
   "outputs": [],
   "source": [
    "submission = pd.DataFrame(index=df_mailout_test['LNR'].astype('int32'), data=predictions)"
   ]
  },
  {
   "cell_type": "code",
   "execution_count": 155,
   "metadata": {},
   "outputs": [
    {
     "data": {
      "text/html": [
       "<div>\n",
       "<style scoped>\n",
       "    .dataframe tbody tr th:only-of-type {\n",
       "        vertical-align: middle;\n",
       "    }\n",
       "\n",
       "    .dataframe tbody tr th {\n",
       "        vertical-align: top;\n",
       "    }\n",
       "\n",
       "    .dataframe thead th {\n",
       "        text-align: right;\n",
       "    }\n",
       "</style>\n",
       "<table border=\"1\" class=\"dataframe\">\n",
       "  <thead>\n",
       "    <tr style=\"text-align: right;\">\n",
       "      <th></th>\n",
       "      <th>RESPONSE</th>\n",
       "    </tr>\n",
       "    <tr>\n",
       "      <th>LNR</th>\n",
       "      <th></th>\n",
       "    </tr>\n",
       "  </thead>\n",
       "  <tbody>\n",
       "    <tr>\n",
       "      <th>1754</th>\n",
       "      <td>0.016974</td>\n",
       "    </tr>\n",
       "    <tr>\n",
       "      <th>1770</th>\n",
       "      <td>0.015449</td>\n",
       "    </tr>\n",
       "    <tr>\n",
       "      <th>1465</th>\n",
       "      <td>0.012378</td>\n",
       "    </tr>\n",
       "    <tr>\n",
       "      <th>1470</th>\n",
       "      <td>0.010409</td>\n",
       "    </tr>\n",
       "    <tr>\n",
       "      <th>1478</th>\n",
       "      <td>0.013068</td>\n",
       "    </tr>\n",
       "  </tbody>\n",
       "</table>\n",
       "</div>"
      ],
      "text/plain": [
       "      RESPONSE\n",
       "LNR           \n",
       "1754  0.016974\n",
       "1770  0.015449\n",
       "1465  0.012378\n",
       "1470  0.010409\n",
       "1478  0.013068"
      ]
     },
     "execution_count": 155,
     "metadata": {},
     "output_type": "execute_result"
    }
   ],
   "source": [
    "\n",
    "submission.rename(columns={0: \"RESPONSE\"}, inplace=True)\n",
    "submission.head()\n"
   ]
  },
  {
   "cell_type": "code",
   "execution_count": 167,
   "metadata": {},
   "outputs": [
    {
     "data": {
      "text/plain": [
       "{'file_name': 'kaggle_competition.csv',\n",
       " 'message': 'File saved to project storage.',\n",
       " 'bucket_name': 'udacity-donotdelete-pr-cg1e1uk11mv7lb',\n",
       " 'asset_id': '4afca08f-25cf-46be-b953-27c15d01250f'}"
      ]
     },
     "execution_count": 167,
     "metadata": {},
     "output_type": "execute_result"
    }
   ],
   "source": [
    "project.save_data(file_name = \"kaggle_competition_2.csv\",data = submission.to_csv())"
   ]
  },
  {
   "cell_type": "code",
   "execution_count": null,
   "metadata": {},
   "outputs": [],
   "source": []
  },
  {
   "cell_type": "code",
   "execution_count": 157,
   "metadata": {},
   "outputs": [],
   "source": [
    "#save the prediction\n",
    "# submission.to_csv('kaggle_competition.csv', sep=',', index = False)"
   ]
  },
  {
   "cell_type": "code",
   "execution_count": null,
   "metadata": {},
   "outputs": [],
   "source": []
  }
 ],
 "metadata": {
  "kernelspec": {
   "display_name": "Python 3",
   "language": "python",
   "name": "python3"
  },
  "language_info": {
   "codemirror_mode": {
    "name": "ipython",
    "version": 3
   },
   "file_extension": ".py",
   "mimetype": "text/x-python",
   "name": "python",
   "nbconvert_exporter": "python",
   "pygments_lexer": "ipython3",
   "version": "3.7.3"
  }
 },
 "nbformat": 4,
 "nbformat_minor": 2
}
